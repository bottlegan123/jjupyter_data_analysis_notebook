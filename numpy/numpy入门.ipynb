{
 "cells": [
  {
   "cell_type": "markdown",
   "id": "3ad44380",
   "metadata": {},
   "source": [
    "## markdown 语法\n",
    "### 1.字体\n",
    "文字后面额外加两个空格也能换行  \n",
    "我是**粗体**  \n",
    "我是*斜体*  \n",
    "我是~~删除线~~\n",
    "\n",
    "### 2.列表\n",
    "##### 无序列表\n",
    "- 我是列表第一项\n",
    "- 我是列表第二项\n",
    "##### 有序列表\n",
    "1. 我是列表第一项\n",
    "2. 我是列表第二项\n",
    "\n",
    "### 3.引用\n",
    "#### 引用段落\n",
    "> 穿过长长的县道，就是雪国。夜的底色变为银白。火车在信号所停下。\n",
    "#### 直接放链接\n",
    "https://www.bilibili.com/video/BV1eN411Y7kt/?spm_id_from=333.1007.tianma.1-1-1.click&vd_source=62a21f026fe60108faad8418b1f5996d\n",
    "#### 给链接取个名字\n",
    "[马鲛岛失踪案](https://www.bilibili.com/video/BV1eN411Y7kt/?spm_id_from=333.1007.tianma.1-1-1.click&vd_source=62a21f026fe60108faad8418b1f5996d)\n",
    "#### 图片\n",
    "![郊区风景](https://www.5tu.cn/attachments/image_files/month_1910/2019010170704111224.jpg)\n",
    "\n",
    "### 4.插入代码\n",
    "我们通过`import math`来导入math库\n",
    "\n",
    "代码段落：\n",
    "```python\n",
    "import math\n",
    "print(\"hello world\")\n",
    "print(math.pi)\n",
    "```"
   ]
  },
  {
   "cell_type": "markdown",
   "id": "4250902a",
   "metadata": {},
   "source": [
    "## Latex语法\n",
    "### 1.公式\n",
    "这是一个公式： $y=x+3$\n",
    "\n",
    "下面是独占一行的公式： $$y=x+3$$\n",
    "### 2.运算符号\n",
    "$$y+x$$\n",
    "$$y-x$$\n",
    "$$x \\times y$$\n",
    "$$x \\div y$$\n",
    "$$ x^{2 \\times e} $$\n",
    "$$ \\sqrt[3]{x} $$\n",
    "$$ x_{i,t} $$\n",
    "$$ \\sum {(x^2+y^2)} $$\n",
    "$$ \\frac{x+y}{x \\times y} $$\n",
    "\n",
    "<font color=\"#dd000\">Latex上下标、求根、求和等运算默认只作用于一个字符，如果你想作用于多个字符就用{}括起来</font>\n"
   ]
  },
  {
   "cell_type": "markdown",
   "id": "cfdff178",
   "metadata": {},
   "source": [
    "# numpy用于数据处理"
   ]
  },
  {
   "cell_type": "markdown",
   "id": "6bda74ed",
   "metadata": {},
   "source": [
    "numpy是一个第三方库需要到终端中安装在使用\n",
    "安装方法：\n",
    "> pip3 install numpy  # MacOs  \n",
    "> pip install numpy"
   ]
  },
  {
   "cell_type": "markdown",
   "id": "4e6dd5ef",
   "metadata": {},
   "source": [
    "## 1.array"
   ]
  },
  {
   "cell_type": "markdown",
   "id": "3e458231",
   "metadata": {},
   "source": [
    "1.1\n",
    "numpy的列表与python列表的不同：  \n",
    "numpy列表里面需要时同一种类型的数据，如果输入不同的类型数据numpy会强行把你输入的数据统一为一种类型；而python列表里面可以是不同种类的数据\n"
   ]
  },
  {
   "cell_type": "code",
   "execution_count": 3,
   "id": "3566da24",
   "metadata": {},
   "outputs": [],
   "source": [
    "import numpy as np"
   ]
  },
  {
   "cell_type": "markdown",
   "id": "e081b117",
   "metadata": {},
   "source": [
    "### 1.1 构建数组"
   ]
  },
  {
   "cell_type": "markdown",
   "id": "95dc14e1",
   "metadata": {},
   "source": [
    "#### 1.1.1 手动输入数组"
   ]
  },
  {
   "cell_type": "code",
   "execution_count": 3,
   "id": "4beb7aeb",
   "metadata": {},
   "outputs": [
    {
     "data": {
      "text/plain": [
       "array([1, 2, 3])"
      ]
     },
     "execution_count": 3,
     "metadata": {},
     "output_type": "execute_result"
    }
   ],
   "source": [
    "arr1 = np.array([1, 2, 3])  # numpy数组中的元素必须是同一种类型，字符串、整数、浮点数、布尔值等\n",
    "arr1"
   ]
  },
  {
   "cell_type": "code",
   "execution_count": 5,
   "id": "56be8c08",
   "metadata": {},
   "outputs": [
    {
     "data": {
      "text/plain": [
       "array([[1, 2, 3],\n",
       "       [4, 5, 6]])"
      ]
     },
     "execution_count": 5,
     "metadata": {},
     "output_type": "execute_result"
    }
   ],
   "source": [
    "arr2 = np.array([[1, 2, 3], [4, 5, 6]])\n",
    "arr2"
   ]
  },
  {
   "cell_type": "code",
   "execution_count": 9,
   "id": "f616bd76",
   "metadata": {},
   "outputs": [
    {
     "name": "stdout",
     "output_type": "stream",
     "text": [
      "1\n"
     ]
    }
   ],
   "source": [
    "print(arr1.ndim)"
   ]
  },
  {
   "cell_type": "code",
   "execution_count": 12,
   "id": "845a47ec",
   "metadata": {},
   "outputs": [
    {
     "name": "stdout",
     "output_type": "stream",
     "text": [
      "(2, 3)\n"
     ]
    }
   ],
   "source": [
    "print(arr2.shape)  \n",
    "# shape会返回一个元组，元组长度表示维数；如果是一位数组第一个数是列数，如果是二维数组第一个数是行数，第二个数是列数"
   ]
  },
  {
   "cell_type": "code",
   "execution_count": 14,
   "id": "d6ffe87b",
   "metadata": {},
   "outputs": [
    {
     "name": "stdout",
     "output_type": "stream",
     "text": [
      "6\n"
     ]
    }
   ],
   "source": [
    "print(arr2.size)  # 返回数组里面元素总个数"
   ]
  },
  {
   "cell_type": "code",
   "execution_count": 16,
   "id": "538512b6",
   "metadata": {},
   "outputs": [
    {
     "name": "stdout",
     "output_type": "stream",
     "text": [
      "int64\n"
     ]
    }
   ],
   "source": [
    "print(arr2.dtype)  # .dtype返还数组里面元素类型"
   ]
  },
  {
   "cell_type": "markdown",
   "id": "01551286",
   "metadata": {},
   "source": [
    "#### 1.1.2 以数列生成数组"
   ]
  },
  {
   "cell_type": "code",
   "execution_count": 25,
   "id": "12d54ea4",
   "metadata": {},
   "outputs": [
    {
     "data": {
      "text/plain": [
       "array([0, 0, 0])"
      ]
     },
     "execution_count": 25,
     "metadata": {},
     "output_type": "execute_result"
    }
   ],
   "source": [
    "np.zeros(3, int)  # 生成一维数组，第二个参数为数据类型，如果没有输入就默认是浮点数"
   ]
  },
  {
   "cell_type": "code",
   "execution_count": 26,
   "id": "cce1f0a2",
   "metadata": {},
   "outputs": [
    {
     "data": {
      "text/plain": [
       "array([1., 1., 1., 1., 1.])"
      ]
     },
     "execution_count": 26,
     "metadata": {},
     "output_type": "execute_result"
    }
   ],
   "source": [
    "np.ones(5)"
   ]
  },
  {
   "cell_type": "code",
   "execution_count": 29,
   "id": "e7371e73",
   "metadata": {},
   "outputs": [
    {
     "data": {
      "text/plain": [
       "array([5, 6, 7, 8])"
      ]
     },
     "execution_count": 29,
     "metadata": {},
     "output_type": "execute_result"
    }
   ],
   "source": [
    "np.arange(5, 9, 1)  # a range 表示针对array的range方法"
   ]
  },
  {
   "cell_type": "markdown",
   "id": "78afdb8a",
   "metadata": {},
   "source": [
    "#### 1.1.1 和 1.1.2练习"
   ]
  },
  {
   "cell_type": "markdown",
   "id": "c4c0f27e",
   "metadata": {},
   "source": [
    "写出导入numpy的语句，并命名为np。"
   ]
  },
  {
   "cell_type": "code",
   "execution_count": 31,
   "id": "3838503c",
   "metadata": {},
   "outputs": [],
   "source": [
    "import numpy as np"
   ]
  },
  {
   "cell_type": "markdown",
   "id": "ec8d20d3",
   "metadata": {},
   "source": [
    "创建一个 `arr1` 的一维数组，里面元素为整数，创建后输出 arr1。 "
   ]
  },
  {
   "cell_type": "code",
   "execution_count": 34,
   "id": "e9b93d6d",
   "metadata": {},
   "outputs": [
    {
     "data": {
      "text/plain": [
       "array([ 1,  2, -4,  5,  3])"
      ]
     },
     "execution_count": 34,
     "metadata": {},
     "output_type": "execute_result"
    }
   ],
   "source": [
    "arr1 = np.array([1, 2, -4, 5, 3])\n",
    "arr1"
   ]
  },
  {
   "cell_type": "markdown",
   "id": "02d80f0a",
   "metadata": {},
   "source": [
    "创建一个名为 ``arr2` 的二维数组，创建后输出arr2"
   ]
  },
  {
   "cell_type": "code",
   "execution_count": 38,
   "id": "9b9db392",
   "metadata": {},
   "outputs": [
    {
     "data": {
      "text/plain": [
       "array([[1, 2, 3],\n",
       "       [2, 4, 6]])"
      ]
     },
     "execution_count": 38,
     "metadata": {},
     "output_type": "execute_result"
    }
   ],
   "source": [
    "arr2 = np.array([[1, 2, 3], [2, 4, 6]])\n",
    "arr2"
   ]
  },
  {
   "cell_type": "markdown",
   "id": "b36efb4f",
   "metadata": {},
   "source": [
    "分别打印出 `arr1` 和 `arr2` 的维度、形状、元素数量、元素类型\n"
   ]
  },
  {
   "cell_type": "code",
   "execution_count": 40,
   "id": "79e84081",
   "metadata": {},
   "outputs": [
    {
     "name": "stdout",
     "output_type": "stream",
     "text": [
      "1\n",
      "(5,)\n",
      "5\n",
      "int64\n",
      "2\n",
      "(2, 3)\n",
      "6\n",
      "int64\n"
     ]
    }
   ],
   "source": [
    "print(arr1.ndim)\n",
    "print(arr1.shape)\n",
    "print(arr1.size)\n",
    "print(arr1.dtype)\n",
    "\n",
    "print(arr2.ndim)\n",
    "print(arr2.shape)\n",
    "print(arr2.size)\n",
    "print(arr2.dtype)"
   ]
  },
  {
   "cell_type": "markdown",
   "id": "614e8c1d",
   "metadata": {},
   "source": [
    "创建一个名为 `arr_all_0` 的一维数组，里面元素6个0，并输出"
   ]
  },
  {
   "cell_type": "code",
   "execution_count": 42,
   "id": "16c8d39b",
   "metadata": {},
   "outputs": [
    {
     "data": {
      "text/plain": [
       "array([0., 0., 0., 0., 0., 0.])"
      ]
     },
     "execution_count": 42,
     "metadata": {},
     "output_type": "execute_result"
    }
   ],
   "source": [
    "arr_all_0 = np.zeros(6)\n",
    "arr_all_0"
   ]
  },
  {
   "cell_type": "markdown",
   "id": "66c5666a",
   "metadata": {},
   "source": [
    "创建一个名为 `arr_all_1` 的一维数组，里面元素全为1"
   ]
  },
  {
   "cell_type": "code",
   "execution_count": 44,
   "id": "56898664",
   "metadata": {},
   "outputs": [
    {
     "data": {
      "text/plain": [
       "array([1., 1., 1., 1., 1., 1.])"
      ]
     },
     "execution_count": 44,
     "metadata": {},
     "output_type": "execute_result"
    }
   ],
   "source": [
    "arr_all_1 = np.ones(6)\n",
    "arr_all_1"
   ]
  },
  {
   "cell_type": "markdown",
   "id": "a9766713",
   "metadata": {},
   "source": [
    "创建一个名为arr_even的数组，10到20的所以偶数构成包括20"
   ]
  },
  {
   "cell_type": "code",
   "execution_count": 45,
   "id": "6c91edcf",
   "metadata": {},
   "outputs": [
    {
     "data": {
      "text/plain": [
       "array([10, 12, 14, 16, 18, 20])"
      ]
     },
     "execution_count": 45,
     "metadata": {},
     "output_type": "execute_result"
    }
   ],
   "source": [
    "arr_even = np.arange(10, 21, 2)\n",
    "arr_even"
   ]
  },
  {
   "cell_type": "markdown",
   "id": "3fbf5052",
   "metadata": {},
   "source": [
    "### 1.2  对数组进行操作"
   ]
  },
  {
   "cell_type": "markdown",
   "id": "24f66317",
   "metadata": {},
   "source": [
    "#### 1.2.1 连接数组"
   ]
  },
  {
   "cell_type": "markdown",
   "id": "9dfd648d",
   "metadata": {},
   "source": [
    "##### 1.2.1.1 横向连接数组"
   ]
  },
  {
   "cell_type": "code",
   "execution_count": 49,
   "id": "6462b561",
   "metadata": {},
   "outputs": [
    {
     "data": {
      "text/plain": [
       "array([1., 2., 3., 0., 0., 0.])"
      ]
     },
     "execution_count": 49,
     "metadata": {},
     "output_type": "execute_result"
    }
   ],
   "source": [
    "arr1 = np.array([1, 2, 3])\n",
    "arr2 = np.zeros(3)\n",
    "arr_12 = np.concatenate([arr1, arr2])\n",
    "arr_12  # 会把array里面数据类型统一"
   ]
  },
  {
   "cell_type": "code",
   "execution_count": 57,
   "id": "f619bd04",
   "metadata": {},
   "outputs": [
    {
     "name": "stdout",
     "output_type": "stream",
     "text": [
      "[1. 2. 3. 0. 0. 0.]\n"
     ]
    }
   ],
   "source": [
    "print(arr_12)"
   ]
  },
  {
   "cell_type": "markdown",
   "id": "282b68f3",
   "metadata": {},
   "source": [
    "##### 两个一维数组连接为一个二维数组"
   ]
  },
  {
   "cell_type": "code",
   "execution_count": 56,
   "id": "8098409f",
   "metadata": {},
   "outputs": [
    {
     "data": {
      "text/plain": [
       "array([[1., 2., 3.],\n",
       "       [0., 0., 0.]])"
      ]
     },
     "execution_count": 56,
     "metadata": {},
     "output_type": "execute_result"
    }
   ],
   "source": [
    "arr_2d = np.stack((arr1, arr2))\n",
    "arr_2d"
   ]
  },
  {
   "cell_type": "markdown",
   "id": "ffc16006",
   "metadata": {},
   "source": [
    "python中：  \n",
    "list = [1, 3, 5, 2, 4]\n",
    "\n",
    "sorted()函数，函数会生成一个新的列表  \n",
    "```python\n",
    "list1 = sorted(list)  \n",
    "print(list1)\n",
    "```\n",
    "> [1, 2, 3, 4, 5]\n",
    "\n",
    ".sort()方法，方法是对原来的进行修改  \n",
    "```python\n",
    "list.sort() \n",
    "print(list) \n",
    "```\n",
    "> [1, 2, 3, 4, 5]\n"
   ]
  },
  {
   "cell_type": "markdown",
   "id": "be2f4309",
   "metadata": {},
   "source": [
    "#### 1.2.2 数组内元素排序：一维"
   ]
  },
  {
   "cell_type": "code",
   "execution_count": 58,
   "id": "20f3e633",
   "metadata": {},
   "outputs": [],
   "source": [
    "import numpy as np"
   ]
  },
  {
   "cell_type": "code",
   "execution_count": 59,
   "id": "386c98d5",
   "metadata": {},
   "outputs": [
    {
     "name": "stdout",
     "output_type": "stream",
     "text": [
      "[1 2 3 5 9]\n",
      "[1 5 3 2 9]\n"
     ]
    }
   ],
   "source": [
    "arr1 = np.array([1, 5, 3, 2, 9])\n",
    "print(np.sort(arr1))\n",
    "print(arr1)"
   ]
  },
  {
   "cell_type": "code",
   "execution_count": 61,
   "id": "972cf27e",
   "metadata": {},
   "outputs": [
    {
     "name": "stdout",
     "output_type": "stream",
     "text": [
      "None\n",
      "[1 5 6 7 9]\n"
     ]
    }
   ],
   "source": [
    "arr2 = np.array([9, 6, 5, 7, 1])\n",
    "print(arr2.sort())  # 什么都不返回值是对原来的数组进行操作\n",
    "print(arr2)"
   ]
  },
  {
   "cell_type": "markdown",
   "id": "8185a8ea",
   "metadata": {},
   "source": [
    "### 1.3 数组索引"
   ]
  },
  {
   "cell_type": "markdown",
   "id": "aa571fb1",
   "metadata": {},
   "source": [
    "#### 1.3.1 单个索引"
   ]
  },
  {
   "cell_type": "code",
   "execution_count": 4,
   "id": "b1c2777a",
   "metadata": {},
   "outputs": [
    {
     "name": "stdout",
     "output_type": "stream",
     "text": [
      "6\n"
     ]
    }
   ],
   "source": [
    "arr1 = np.array([4, 6, 3, 2, 1])\n",
    "print(arr1[1])"
   ]
  },
  {
   "cell_type": "markdown",
   "id": "c87e6ba9",
   "metadata": {},
   "source": [
    "#### 1.3.2 切片索引"
   ]
  },
  {
   "cell_type": "code",
   "execution_count": 65,
   "id": "e9d59f11",
   "metadata": {},
   "outputs": [
    {
     "name": "stdout",
     "output_type": "stream",
     "text": [
      "[6 3 2]\n"
     ]
    }
   ],
   "source": [
    "print(arr1[1: 4])  # 切片索引索引号是左闭右开的，切片出的会形成数组"
   ]
  },
  {
   "cell_type": "markdown",
   "id": "93a43971",
   "metadata": {},
   "source": [
    "### 1.4 数组的运算：线性代数运算"
   ]
  },
  {
   "cell_type": "code",
   "execution_count": 66,
   "id": "2165e7d3",
   "metadata": {},
   "outputs": [
    {
     "name": "stdout",
     "output_type": "stream",
     "text": [
      "[ 5  7  9 11]\n",
      "[ 3  6  9 12]\n"
     ]
    }
   ],
   "source": [
    "arr1 = np.array([1, 2, 3, 4])\n",
    "arr2 = np.array([4, 5, 6, 7])\n",
    "print(arr1 + arr2)\n",
    "print(arr1 * 3)"
   ]
  },
  {
   "cell_type": "code",
   "execution_count": 5,
   "id": "039ddfda",
   "metadata": {},
   "outputs": [
    {
     "name": "stdout",
     "output_type": "stream",
     "text": [
      "6\n",
      "1\n",
      "3.2\n",
      "16\n"
     ]
    }
   ],
   "source": [
    "print(arr1.max())\n",
    "print(arr1.min())\n",
    "print(arr1.mean())\n",
    "print(arr1.sum())"
   ]
  },
  {
   "cell_type": "code",
   "execution_count": 7,
   "id": "0d6ba9ef",
   "metadata": {},
   "outputs": [
    {
     "data": {
      "text/plain": [
       "array([False,  True, False, False, False])"
      ]
     },
     "execution_count": 7,
     "metadata": {},
     "output_type": "execute_result"
    }
   ],
   "source": [
    "arr1 > 5  # 会返回一个布尔值组成的数组"
   ]
  },
  {
   "cell_type": "code",
   "execution_count": 71,
   "id": "1b3a4847",
   "metadata": {},
   "outputs": [
    {
     "data": {
      "text/plain": [
       "array([78])"
      ]
     },
     "execution_count": 71,
     "metadata": {},
     "output_type": "execute_result"
    }
   ],
   "source": [
    "arr3 = np.array([3, 5, 9, 10, 78])\n",
    "arr3[arr3 > 11]"
   ]
  },
  {
   "cell_type": "code",
   "execution_count": 72,
   "id": "086b6410",
   "metadata": {},
   "outputs": [
    {
     "data": {
      "text/plain": [
       "array([ 9, 10])"
      ]
     },
     "execution_count": 72,
     "metadata": {},
     "output_type": "execute_result"
    }
   ],
   "source": [
    "arr3[(arr3 > 5) & (arr3 <11)]  # 里面还可以加逻辑运算"
   ]
  },
  {
   "cell_type": "markdown",
   "id": "1ca7d613",
   "metadata": {},
   "source": [
    "<font color=\"#dd000\"> numpy里面与 或 非对应符号为& | ~</font>"
   ]
  },
  {
   "cell_type": "markdown",
   "id": "4d5f5cfc",
   "metadata": {},
   "source": [
    "1.3 和 1.4数组操作练习"
   ]
  },
  {
   "cell_type": "code",
   "execution_count": 2,
   "id": "f4c66bea",
   "metadata": {},
   "outputs": [],
   "source": [
    "import numpy as np"
   ]
  },
  {
   "cell_type": "code",
   "execution_count": 3,
   "id": "56ff56fd",
   "metadata": {},
   "outputs": [],
   "source": [
    "arr1 = np.array([1, 3, 2, 4, 9])\n",
    "arr2 = np.zeros(3)\n",
    "arr3 = np.ones(5)"
   ]
  },
  {
   "cell_type": "markdown",
   "id": "69663692",
   "metadata": {},
   "source": [
    "创建数组arr4，包括arr1、arr2、arr3中的所有元素"
   ]
  },
  {
   "cell_type": "code",
   "execution_count": 5,
   "id": "685ac1ef",
   "metadata": {},
   "outputs": [
    {
     "data": {
      "text/plain": [
       "array([1., 3., 2., 4., 9., 0., 0., 0., 1., 1., 1., 1., 1.])"
      ]
     },
     "execution_count": 5,
     "metadata": {},
     "output_type": "execute_result"
    }
   ],
   "source": [
    "arr4 = np.concatenate([arr1, arr2, arr3])\n",
    "arr4"
   ]
  },
  {
   "cell_type": "markdown",
   "id": "9814f5a2",
   "metadata": {},
   "source": [
    "更改arr1，对arr1里的元素进行排序，并输出排序后的结果。"
   ]
  },
  {
   "cell_type": "code",
   "execution_count": 14,
   "id": "a149b1ca",
   "metadata": {},
   "outputs": [
    {
     "data": {
      "text/plain": [
       "array([1, 2, 3, 4, 9])"
      ]
     },
     "execution_count": 14,
     "metadata": {},
     "output_type": "execute_result"
    }
   ],
   "source": [
    "arr1.sort()\n",
    "arr1"
   ]
  },
  {
   "cell_type": "markdown",
   "id": "9ae8fa4b",
   "metadata": {},
   "source": [
    "用两种方法打印arr1的第三个元素"
   ]
  },
  {
   "cell_type": "code",
   "execution_count": 12,
   "id": "eddf1a96",
   "metadata": {},
   "outputs": [
    {
     "name": "stdout",
     "output_type": "stream",
     "text": [
      "3\n",
      "3\n"
     ]
    }
   ],
   "source": [
    "print(arr1[2])\n",
    "print(arr1[-3])"
   ]
  },
  {
   "cell_type": "markdown",
   "id": "4a1c1c26",
   "metadata": {},
   "source": [
    "输出arr1第2个到第4个元素组成的"
   ]
  },
  {
   "cell_type": "code",
   "execution_count": 13,
   "id": "c821820a",
   "metadata": {},
   "outputs": [
    {
     "name": "stdout",
     "output_type": "stream",
     "text": [
      "[2 3 4]\n"
     ]
    }
   ],
   "source": [
    "print(arr1[1: 4])"
   ]
  },
  {
   "cell_type": "markdown",
   "id": "c51c1def",
   "metadata": {},
   "source": [
    "输出arr1和arr3相同位置元素相加后组成的数组"
   ]
  },
  {
   "cell_type": "code",
   "execution_count": 19,
   "id": "d4f08d9e",
   "metadata": {},
   "outputs": [
    {
     "data": {
      "text/plain": [
       "array([ 2.,  3.,  4.,  5., 10.])"
      ]
     },
     "execution_count": 19,
     "metadata": {},
     "output_type": "execute_result"
    }
   ],
   "source": [
    "arr_12 = arr1 + arr3\n",
    "arr_12"
   ]
  },
  {
   "cell_type": "markdown",
   "id": "d8415c00",
   "metadata": {},
   "source": [
    "输出arr1的各个元素乘以-5后组成的数组"
   ]
  },
  {
   "cell_type": "code",
   "execution_count": 18,
   "id": "1b02de78",
   "metadata": {},
   "outputs": [
    {
     "name": "stdout",
     "output_type": "stream",
     "text": [
      "[ -5 -10 -15 -20 -45]\n"
     ]
    }
   ],
   "source": [
    "print(arr1 * (-5))"
   ]
  },
  {
   "cell_type": "markdown",
   "id": "3dfb0ffb",
   "metadata": {},
   "source": [
    "打印出arr1数组的最小值、最大值、和、平均值"
   ]
  },
  {
   "cell_type": "code",
   "execution_count": 21,
   "id": "735aa285",
   "metadata": {},
   "outputs": [
    {
     "name": "stdout",
     "output_type": "stream",
     "text": [
      "1\n",
      "9\n",
      "19\n",
      "3.8\n"
     ]
    }
   ],
   "source": [
    "print(arr1.min())\n",
    "print(arr1.max())\n",
    "print(arr1.sum())\n",
    "print(arr1.mean())"
   ]
  },
  {
   "cell_type": "markdown",
   "id": "55f1b6a7",
   "metadata": {},
   "source": [
    "筛选出arr1数组里面所有小于1或大于2的数字，并打印出来"
   ]
  },
  {
   "cell_type": "code",
   "execution_count": 27,
   "id": "b0929ecf",
   "metadata": {},
   "outputs": [
    {
     "name": "stdout",
     "output_type": "stream",
     "text": [
      "[3 4 9]\n"
     ]
    }
   ],
   "source": [
    "print(arr1[(arr1 < 1) | (arr1 > 2)])"
   ]
  },
  {
   "cell_type": "code",
   "execution_count": 29,
   "id": "0f9c71d1",
   "metadata": {},
   "outputs": [
    {
     "data": {
      "text/plain": [
       "array([False, False, False, False, False])"
      ]
     },
     "execution_count": 29,
     "metadata": {},
     "output_type": "execute_result"
    }
   ],
   "source": [
    "arr1 < 1"
   ]
  },
  {
   "cell_type": "code",
   "execution_count": 31,
   "id": "d0c0f95b",
   "metadata": {},
   "outputs": [
    {
     "data": {
      "text/plain": [
       "array([False, False,  True,  True,  True])"
      ]
     },
     "execution_count": 31,
     "metadata": {},
     "output_type": "execute_result"
    }
   ],
   "source": [
    "arr1 > 2"
   ]
  },
  {
   "cell_type": "code",
   "execution_count": 32,
   "id": "f3b4113a",
   "metadata": {},
   "outputs": [
    {
     "data": {
      "text/plain": [
       "array([3, 4, 9])"
      ]
     },
     "execution_count": 32,
     "metadata": {},
     "output_type": "execute_result"
    }
   ],
   "source": [
    "arr1[arr1 > 2]"
   ]
  }
 ],
 "metadata": {
  "kernelspec": {
   "display_name": "Python 3 (ipykernel)",
   "language": "python",
   "name": "python3"
  },
  "language_info": {
   "codemirror_mode": {
    "name": "ipython",
    "version": 3
   },
   "file_extension": ".py",
   "mimetype": "text/x-python",
   "name": "python",
   "nbconvert_exporter": "python",
   "pygments_lexer": "ipython3",
   "version": "3.9.7"
  }
 },
 "nbformat": 4,
 "nbformat_minor": 5
}
