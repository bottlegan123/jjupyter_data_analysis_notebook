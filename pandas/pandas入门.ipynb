{
 "cells": [
  {
   "cell_type": "markdown",
   "id": "5c217432",
   "metadata": {},
   "source": [
    "pandas基于numpy的，继承了numpy良好的数组计算功能，同时又提供了更加精细的数据计算能力\n",
    "\n",
    "终端中安装pandas：  \n",
    "```\n",
    "pip3 install pandas\n",
    "pip install pandas\n",
    "```"
   ]
  },
  {
   "cell_type": "markdown",
   "id": "e7186f1a",
   "metadata": {},
   "source": [
    "# 1 单个Series"
   ]
  },
  {
   "cell_type": "markdown",
   "id": "94676674",
   "metadata": {},
   "source": [
    "和numpy的一维数组很相似，但是Series可以自己制定索引（标签索引，是左闭右闭的）"
   ]
  },
  {
   "cell_type": "code",
   "execution_count": 1,
   "id": "057b9c58",
   "metadata": {},
   "outputs": [],
   "source": [
    "import pandas as pd"
   ]
  },
  {
   "cell_type": "code",
   "execution_count": 2,
   "id": "2f4a2867",
   "metadata": {},
   "outputs": [
    {
     "data": {
      "text/plain": [
       "0     1\n",
       "1     5\n",
       "2     6\n",
       "3    18\n",
       "dtype: int64"
      ]
     },
     "execution_count": 2,
     "metadata": {},
     "output_type": "execute_result"
    }
   ],
   "source": [
    "s1 = pd.Series([1, 5, 6, 18])  # Series第一个字母大写，说明这是一个构造函数，会返还给我们一个实例对象\n",
    "s1"
   ]
  },
  {
   "cell_type": "code",
   "execution_count": 3,
   "id": "e53d88ad",
   "metadata": {},
   "outputs": [
    {
     "data": {
      "text/plain": [
       "array([ 1,  5,  6, 18])"
      ]
     },
     "execution_count": 3,
     "metadata": {},
     "output_type": "execute_result"
    }
   ],
   "source": [
    "s1.values"
   ]
  },
  {
   "cell_type": "code",
   "execution_count": 4,
   "id": "ed746b10",
   "metadata": {},
   "outputs": [
    {
     "data": {
      "text/plain": [
       "RangeIndex(start=0, stop=4, step=1)"
      ]
     },
     "execution_count": 4,
     "metadata": {},
     "output_type": "execute_result"
    }
   ],
   "source": [
    "s1.index  # index是左闭右开的"
   ]
  },
  {
   "cell_type": "markdown",
   "id": "e653a38f",
   "metadata": {},
   "source": [
    "### 1.2 Series的索引和切片"
   ]
  },
  {
   "cell_type": "markdown",
   "id": "91b0b431",
   "metadata": {},
   "source": [
    "#### 1.2.1 Series的索引"
   ]
  },
  {
   "cell_type": "code",
   "execution_count": 5,
   "id": "157b5de3",
   "metadata": {},
   "outputs": [
    {
     "data": {
      "text/plain": [
       "5"
      ]
     },
     "execution_count": 5,
     "metadata": {},
     "output_type": "execute_result"
    }
   ],
   "source": [
    "s1[1]  # 索引出来的是值"
   ]
  },
  {
   "cell_type": "markdown",
   "id": "cc6a7a06",
   "metadata": {},
   "source": [
    "#### 1.2.2 Series的切片"
   ]
  },
  {
   "cell_type": "code",
   "execution_count": 6,
   "id": "603c19eb",
   "metadata": {},
   "outputs": [
    {
     "data": {
      "text/plain": [
       "1    5\n",
       "2    6\n",
       "dtype: int64"
      ]
     },
     "execution_count": 6,
     "metadata": {},
     "output_type": "execute_result"
    }
   ],
   "source": [
    "s1[1:3]  # 切片出来即有值也有索引"
   ]
  },
  {
   "cell_type": "markdown",
   "id": "17d1b172",
   "metadata": {},
   "source": [
    "Series的索引可以自己设定，自己设定之后原来的位置索引仍然管用；自己设定的叫做标签索引，远啦的叫做位置索引"
   ]
  },
  {
   "cell_type": "code",
   "execution_count": 7,
   "id": "e582daa7",
   "metadata": {},
   "outputs": [
    {
     "data": {
      "text/plain": [
       "a    1\n",
       "d    5\n",
       "b    7\n",
       "c    9\n",
       "dtype: int64"
      ]
     },
     "execution_count": 7,
     "metadata": {},
     "output_type": "execute_result"
    }
   ],
   "source": [
    "s2 = pd.Series([1, 5, 7, 9], index=[\"a\", \"d\", \"b\", \"c\"])\n",
    "s2"
   ]
  },
  {
   "cell_type": "markdown",
   "id": "c693b6c6",
   "metadata": {},
   "source": [
    "#### 1.2.3 标签索引"
   ]
  },
  {
   "cell_type": "code",
   "execution_count": 8,
   "id": "aefffc7c",
   "metadata": {},
   "outputs": [
    {
     "data": {
      "text/plain": [
       "1"
      ]
     },
     "execution_count": 8,
     "metadata": {},
     "output_type": "execute_result"
    }
   ],
   "source": [
    "s2[\"a\"]  # 当位置和标签都是整数时，优先标签索引"
   ]
  },
  {
   "cell_type": "markdown",
   "id": "9d88fa96",
   "metadata": {},
   "source": [
    "#### 1.2.4 标签切片"
   ]
  },
  {
   "cell_type": "code",
   "execution_count": 9,
   "id": "416ac515",
   "metadata": {},
   "outputs": [
    {
     "data": {
      "text/plain": [
       "a    1\n",
       "d    5\n",
       "dtype: int64"
      ]
     },
     "execution_count": 9,
     "metadata": {},
     "output_type": "execute_result"
    }
   ],
   "source": [
    "s2[\"a\":\"d\"]  # 标签索引切片时是又闭的"
   ]
  },
  {
   "cell_type": "markdown",
   "id": "13e6f9a3",
   "metadata": {},
   "source": [
    "### 1.3 Series的列表索引"
   ]
  },
  {
   "cell_type": "code",
   "execution_count": 10,
   "id": "4ec2295e",
   "metadata": {},
   "outputs": [
    {
     "data": {
      "text/plain": [
       "a    1\n",
       "b    7\n",
       "d    5\n",
       "dtype: int64"
      ]
     },
     "execution_count": 10,
     "metadata": {},
     "output_type": "execute_result"
    }
   ],
   "source": [
    "s2[[\"a\", \"b\", \"d\"]]  # 位置的顺序可以不受限制"
   ]
  },
  {
   "cell_type": "markdown",
   "id": "67cb74ba",
   "metadata": {},
   "source": [
    "<font color=\"#dd000\">索引取值按标签，切片取值时用位置</font>"
   ]
  },
  {
   "cell_type": "markdown",
   "id": "9b912631",
   "metadata": {},
   "source": [
    "### 1.4 Series的loc（标签索引）和iloc（位置索引）"
   ]
  },
  {
   "cell_type": "code",
   "execution_count": 11,
   "id": "9b0cc066",
   "metadata": {},
   "outputs": [
    {
     "name": "stdout",
     "output_type": "stream",
     "text": [
      "1\n",
      "a    1\n",
      "d    5\n",
      "dtype: int64\n"
     ]
    }
   ],
   "source": [
    "s2 = pd.Series([1, 5, 7, 9], index=[\"a\", \"d\", \"b\", \"c\"])\n",
    "print(s2.loc[\"a\"])\n",
    "print(s2.loc[\"a\":\"d\"])"
   ]
  },
  {
   "cell_type": "code",
   "execution_count": 12,
   "id": "574b917a",
   "metadata": {},
   "outputs": [
    {
     "data": {
      "text/plain": [
       "d    5\n",
       "b    7\n",
       "dtype: int64"
      ]
     },
     "execution_count": 12,
     "metadata": {},
     "output_type": "execute_result"
    }
   ],
   "source": [
    "s2.iloc[1:3]"
   ]
  },
  {
   "cell_type": "markdown",
   "id": "5384e3d7",
   "metadata": {},
   "source": [
    "创建Series索引的另外一种方式：给Series传入一个字典"
   ]
  },
  {
   "cell_type": "code",
   "execution_count": 13,
   "id": "92ef612d",
   "metadata": {},
   "outputs": [
    {
     "data": {
      "text/plain": [
       "青菜     4.1\n",
       "白萝卜    2.2\n",
       "西红柿    5.3\n",
       "土豆     3.7\n",
       "黄瓜     6.8\n",
       "dtype: float64"
      ]
     },
     "execution_count": 13,
     "metadata": {},
     "output_type": "execute_result"
    }
   ],
   "source": [
    "s3 = pd.Series({\"青菜\": 4.1, \"白萝卜\": 2.2, \"西红柿\": 5.3, \"土豆\": 3.7, \"黄瓜\": 6.8})\n",
    "s3"
   ]
  },
  {
   "cell_type": "markdown",
   "id": "186f3e9f",
   "metadata": {},
   "source": [
    "字典的键会直接变成标签索引，字典的值就变为Series的值"
   ]
  },
  {
   "cell_type": "code",
   "execution_count": 14,
   "id": "ca17fe05",
   "metadata": {},
   "outputs": [
    {
     "data": {
      "text/plain": [
       "青菜     4.3\n",
       "白萝卜    2.2\n",
       "西红柿    5.3\n",
       "土豆     3.7\n",
       "黄瓜     6.8\n",
       "dtype: float64"
      ]
     },
     "execution_count": 14,
     "metadata": {},
     "output_type": "execute_result"
    }
   ],
   "source": [
    "s3[\"青菜\"] = 4.3  # 也可以像之前那样改字典里面的值\n",
    "s3"
   ]
  },
  {
   "cell_type": "markdown",
   "id": "98e110e3",
   "metadata": {},
   "source": [
    "如果标签也是整数就容易搞混，怎么办呢？用loc标签索引和iloc位置索引"
   ]
  },
  {
   "cell_type": "code",
   "execution_count": 15,
   "id": "3a21298c",
   "metadata": {},
   "outputs": [
    {
     "data": {
      "text/plain": [
       "青菜     4.5\n",
       "白萝卜    5.6\n",
       "西红柿    5.3\n",
       "土豆     3.7\n",
       "黄瓜     6.8\n",
       "dtype: float64"
      ]
     },
     "execution_count": 15,
     "metadata": {},
     "output_type": "execute_result"
    }
   ],
   "source": [
    "s3.loc[\"青菜\"] = 4.5\n",
    "s3.iloc[1] = 5.6\n",
    "s3"
   ]
  },
  {
   "cell_type": "code",
   "execution_count": 16,
   "id": "6098fe9b",
   "metadata": {},
   "outputs": [
    {
     "data": {
      "text/plain": [
       "青菜     False\n",
       "白萝卜     True\n",
       "西红柿     True\n",
       "土豆     False\n",
       "黄瓜      True\n",
       "dtype: bool"
      ]
     },
     "execution_count": 16,
     "metadata": {},
     "output_type": "execute_result"
    }
   ],
   "source": [
    "s3 > 5  # 会返回一个布尔值和标签索引组成的Series"
   ]
  },
  {
   "cell_type": "code",
   "execution_count": 17,
   "id": "752ddf77",
   "metadata": {},
   "outputs": [
    {
     "data": {
      "text/plain": [
       "白萝卜    5.6\n",
       "西红柿    5.3\n",
       "黄瓜     6.8\n",
       "dtype: float64"
      ]
     },
     "execution_count": 17,
     "metadata": {},
     "output_type": "execute_result"
    }
   ],
   "source": [
    "s3[s3 > 5]  # 把条件作为索引就可以搜索出满足条件的元素组成的Series"
   ]
  },
  {
   "cell_type": "code",
   "execution_count": 18,
   "id": "b35de3d9",
   "metadata": {},
   "outputs": [
    {
     "data": {
      "text/plain": [
       "白萝卜    5.6\n",
       "西红柿    5.3\n",
       "黄瓜     6.8\n",
       "dtype: float64"
      ]
     },
     "execution_count": 18,
     "metadata": {},
     "output_type": "execute_result"
    }
   ],
   "source": [
    "s3[(s3 > 5) | (s3 < 3)]"
   ]
  },
  {
   "cell_type": "markdown",
   "id": "4a3befaa",
   "metadata": {},
   "source": [
    "#### 练习："
   ]
  },
  {
   "cell_type": "markdown",
   "id": "5c128768",
   "metadata": {},
   "source": [
    "写出导入pandas的语句并命名为pd"
   ]
  },
  {
   "cell_type": "code",
   "execution_count": 19,
   "id": "7633de43",
   "metadata": {},
   "outputs": [],
   "source": [
    "import pandas as pd"
   ]
  },
  {
   "cell_type": "markdown",
   "id": "ffc52d34",
   "metadata": {},
   "source": [
    "创建一个叫s1的Series，里面包含元素-1.2\\3.7\\2.5\\-8.2\\6.3。创建后进行输出。"
   ]
  },
  {
   "cell_type": "code",
   "execution_count": 20,
   "id": "252c1e52",
   "metadata": {},
   "outputs": [
    {
     "data": {
      "text/plain": [
       "0   -1.2\n",
       "1    3.7\n",
       "2    2.5\n",
       "3   -8.2\n",
       "4    6.3\n",
       "dtype: float64"
      ]
     },
     "execution_count": 20,
     "metadata": {},
     "output_type": "execute_result"
    }
   ],
   "source": [
    "s1 = pd.Series([-1.2, 3.7,2.5 , -8.2, 6.3])\n",
    "s1"
   ]
  },
  {
   "cell_type": "markdown",
   "id": "b8c999c5",
   "metadata": {},
   "source": [
    "打印s1所有索引和元素值"
   ]
  },
  {
   "cell_type": "code",
   "execution_count": 21,
   "id": "5f0f6e4d",
   "metadata": {},
   "outputs": [
    {
     "name": "stdout",
     "output_type": "stream",
     "text": [
      "[-1.2  3.7  2.5 -8.2  6.3]\n",
      "RangeIndex(start=0, stop=5, step=1)\n"
     ]
    }
   ],
   "source": [
    "print(s1.values)\n",
    "print(s1.index)"
   ]
  },
  {
   "cell_type": "markdown",
   "id": "27b932b6",
   "metadata": {},
   "source": [
    "创建一个叫做s2的Series，里面包含元素1、2、3、4、5，并且对应的索引是5、4、3、2、1"
   ]
  },
  {
   "cell_type": "code",
   "execution_count": 22,
   "id": "a24f847f",
   "metadata": {},
   "outputs": [
    {
     "data": {
      "text/plain": [
       "5    1\n",
       "4    2\n",
       "3    3\n",
       "2    4\n",
       "1    5\n",
       "dtype: int64"
      ]
     },
     "execution_count": 22,
     "metadata": {},
     "output_type": "execute_result"
    }
   ],
   "source": [
    "s2 = pd.Series([1, 2, 3, 4, 5], index=[\"5\", \"4\", \"3\", \"2\", \"1\"])\n",
    "s2 = pd.Series({\"5\":1, \"4\":2, \"3\":3, \"2\":4, \"1\":5})\n",
    "s2"
   ]
  },
  {
   "cell_type": "markdown",
   "id": "737c4ce6",
   "metadata": {},
   "source": [
    "输出s2里面按位置排在第二的元素"
   ]
  },
  {
   "cell_type": "code",
   "execution_count": 23,
   "id": "6c20cbc7",
   "metadata": {},
   "outputs": [
    {
     "data": {
      "text/plain": [
       "2"
      ]
     },
     "execution_count": 23,
     "metadata": {},
     "output_type": "execute_result"
    }
   ],
   "source": [
    "s2[1]"
   ]
  },
  {
   "cell_type": "code",
   "execution_count": 24,
   "id": "e0d2bcb0",
   "metadata": {},
   "outputs": [
    {
     "data": {
      "text/plain": [
       "2"
      ]
     },
     "execution_count": 24,
     "metadata": {},
     "output_type": "execute_result"
    }
   ],
   "source": [
    "s2.iloc[1]"
   ]
  },
  {
   "cell_type": "markdown",
   "id": "c907b43b",
   "metadata": {},
   "source": [
    "输出s2中按标签对应从5到3（包括3）范围内的元素"
   ]
  },
  {
   "cell_type": "code",
   "execution_count": 25,
   "id": "9a05a334",
   "metadata": {},
   "outputs": [
    {
     "data": {
      "text/plain": [
       "5    1\n",
       "4    2\n",
       "3    3\n",
       "dtype: int64"
      ]
     },
     "execution_count": 25,
     "metadata": {},
     "output_type": "execute_result"
    }
   ],
   "source": [
    "s2.loc[\"5\":\"3\"]"
   ]
  },
  {
   "cell_type": "markdown",
   "id": "ca309058",
   "metadata": {},
   "source": [
    "通过一个字典创建Series3。字典的键为：小李、小陈、小张、小曾、小邓，值为82、93、91、78、68。创建后进行输出。"
   ]
  },
  {
   "cell_type": "code",
   "execution_count": 26,
   "id": "3569bafd",
   "metadata": {},
   "outputs": [
    {
     "data": {
      "text/plain": [
       "小李    82\n",
       "小陈    93\n",
       "小张    91\n",
       "小曾    78\n",
       "小邓    86\n",
       "dtype: int64"
      ]
     },
     "execution_count": 26,
     "metadata": {},
     "output_type": "execute_result"
    }
   ],
   "source": [
    "s3 = pd.Series({\"小李\":82, \"小陈\":93, \"小张\":91, \"小曾\":78, \"小邓\":86})\n",
    "s3"
   ]
  },
  {
   "cell_type": "markdown",
   "id": "bf560a2e",
   "metadata": {},
   "source": [
    "把s3中小张对应的值改为95，在输出s3"
   ]
  },
  {
   "cell_type": "code",
   "execution_count": 27,
   "id": "1dacbb15",
   "metadata": {},
   "outputs": [
    {
     "data": {
      "text/plain": [
       "小李    82\n",
       "小陈    93\n",
       "小张    95\n",
       "小曾    78\n",
       "小邓    86\n",
       "dtype: int64"
      ]
     },
     "execution_count": 27,
     "metadata": {},
     "output_type": "execute_result"
    }
   ],
   "source": [
    "s3.loc[\"小张\"] = 95\n",
    "s3"
   ]
  },
  {
   "cell_type": "markdown",
   "id": "ea8a03cc",
   "metadata": {},
   "source": [
    "输出s3中所有大于80且小于90的元素。"
   ]
  },
  {
   "cell_type": "code",
   "execution_count": 28,
   "id": "5b4e56ca",
   "metadata": {},
   "outputs": [
    {
     "data": {
      "text/plain": [
       "小李    82\n",
       "小邓    86\n",
       "dtype: int64"
      ]
     },
     "execution_count": 28,
     "metadata": {},
     "output_type": "execute_result"
    }
   ],
   "source": [
    "s3[(s3 > 80) & (s3 < 90)]"
   ]
  },
  {
   "cell_type": "markdown",
   "id": "1722d9c8",
   "metadata": {},
   "source": [
    "# 2 多个Series"
   ]
  },
  {
   "cell_type": "markdown",
   "id": "c5e44a39",
   "metadata": {},
   "source": [
    "pandas可以进行加减乘除操作，pandas会自动根据索引自动对齐并排序，匹配不上的索引就会是Nan表示not a number"
   ]
  },
  {
   "cell_type": "code",
   "execution_count": 29,
   "id": "c8ac7106",
   "metadata": {},
   "outputs": [],
   "source": [
    "import pandas as pd"
   ]
  },
  {
   "cell_type": "markdown",
   "id": "e6295d7c",
   "metadata": {},
   "source": [
    "### 2.1 Series的四则运算"
   ]
  },
  {
   "cell_type": "code",
   "execution_count": 30,
   "id": "0144c947",
   "metadata": {},
   "outputs": [
    {
     "data": {
      "text/plain": [
       "1      9.0\n",
       "2      NaN\n",
       "3     11.0\n",
       "5      5.0\n",
       "7      NaN\n",
       "9      NaN\n",
       "10     NaN\n",
       "dtype: float64"
      ]
     },
     "execution_count": 30,
     "metadata": {},
     "output_type": "execute_result"
    }
   ],
   "source": [
    "s1 = pd.Series([1, 4, 2, 3, 5], index=[1, 3, 5, 7, 9])\n",
    "s2 = pd.Series([8, 1, 7, 3, 9], index=[1, 2, 3, 5, 10])\n",
    "s1+s2"
   ]
  },
  {
   "cell_type": "markdown",
   "id": "880d5787",
   "metadata": {},
   "source": [
    "用方法把缺失值补上"
   ]
  },
  {
   "cell_type": "code",
   "execution_count": 31,
   "id": "be557f9a",
   "metadata": {},
   "outputs": [
    {
     "data": {
      "text/plain": [
       "1      9.0\n",
       "2      1.0\n",
       "3     11.0\n",
       "5      5.0\n",
       "7      3.0\n",
       "9      5.0\n",
       "10     9.0\n",
       "dtype: float64"
      ]
     },
     "execution_count": 31,
     "metadata": {},
     "output_type": "execute_result"
    }
   ],
   "source": [
    "s1.add(s2, fill_value=0)  # 缺少的值会用0代替"
   ]
  },
  {
   "cell_type": "code",
   "execution_count": 32,
   "id": "657b12d4",
   "metadata": {},
   "outputs": [
    {
     "data": {
      "text/plain": [
       "1      9.0\n",
       "2      1.0\n",
       "3     11.0\n",
       "5      5.0\n",
       "7      3.0\n",
       "9      5.0\n",
       "10     9.0\n",
       "dtype: float64"
      ]
     },
     "execution_count": 32,
     "metadata": {},
     "output_type": "execute_result"
    }
   ],
   "source": [
    "s2.add(s1, fill_value=0)"
   ]
  },
  {
   "cell_type": "code",
   "execution_count": 33,
   "id": "21ed4821",
   "metadata": {},
   "outputs": [
    {
     "data": {
      "text/plain": [
       "1    -7.0\n",
       "2     NaN\n",
       "3    -3.0\n",
       "5    -1.0\n",
       "7     NaN\n",
       "9     NaN\n",
       "10    NaN\n",
       "dtype: float64"
      ]
     },
     "execution_count": 33,
     "metadata": {},
     "output_type": "execute_result"
    }
   ],
   "source": [
    "s1 - s2"
   ]
  },
  {
   "cell_type": "code",
   "execution_count": 34,
   "id": "e1f05754",
   "metadata": {},
   "outputs": [
    {
     "data": {
      "text/plain": [
       "1    -7.0\n",
       "2    -1.0\n",
       "3    -3.0\n",
       "5    -1.0\n",
       "7     3.0\n",
       "9     5.0\n",
       "10   -9.0\n",
       "dtype: float64"
      ]
     },
     "execution_count": 34,
     "metadata": {},
     "output_type": "execute_result"
    }
   ],
   "source": [
    "s1.sub(s2, fill_value=0)"
   ]
  },
  {
   "cell_type": "code",
   "execution_count": 35,
   "id": "c1e1fa9d",
   "metadata": {},
   "outputs": [
    {
     "data": {
      "text/plain": [
       "1      8.0\n",
       "2      NaN\n",
       "3     28.0\n",
       "5      6.0\n",
       "7      NaN\n",
       "9      NaN\n",
       "10     NaN\n",
       "dtype: float64"
      ]
     },
     "execution_count": 35,
     "metadata": {},
     "output_type": "execute_result"
    }
   ],
   "source": [
    "s1 * s2"
   ]
  },
  {
   "cell_type": "code",
   "execution_count": 36,
   "id": "c7bac7c6",
   "metadata": {},
   "outputs": [
    {
     "data": {
      "text/plain": [
       "1      8.0\n",
       "2      0.0\n",
       "3     28.0\n",
       "5      6.0\n",
       "7      0.0\n",
       "9      0.0\n",
       "10     0.0\n",
       "dtype: float64"
      ]
     },
     "execution_count": 36,
     "metadata": {},
     "output_type": "execute_result"
    }
   ],
   "source": [
    "s1.mul(s2, fill_value=0)"
   ]
  },
  {
   "cell_type": "code",
   "execution_count": 37,
   "id": "d261b0b1",
   "metadata": {},
   "outputs": [
    {
     "data": {
      "text/plain": [
       "1     0.125000\n",
       "2          NaN\n",
       "3     0.571429\n",
       "5     0.666667\n",
       "7          NaN\n",
       "9          NaN\n",
       "10         NaN\n",
       "dtype: float64"
      ]
     },
     "execution_count": 37,
     "metadata": {},
     "output_type": "execute_result"
    }
   ],
   "source": [
    "s1 / s2"
   ]
  },
  {
   "cell_type": "code",
   "execution_count": 38,
   "id": "f2fb74b6",
   "metadata": {},
   "outputs": [
    {
     "data": {
      "text/plain": [
       "1     0.125000\n",
       "2     0.000000\n",
       "3     0.571429\n",
       "5     0.666667\n",
       "7          inf\n",
       "9          inf\n",
       "10    0.000000\n",
       "dtype: float64"
      ]
     },
     "execution_count": 38,
     "metadata": {},
     "output_type": "execute_result"
    }
   ],
   "source": [
    "s1.div(s2, fill_value=0)"
   ]
  },
  {
   "cell_type": "code",
   "execution_count": 39,
   "id": "c874a8ee",
   "metadata": {},
   "outputs": [],
   "source": [
    "s3 = pd.Series([92, 67, 70, 88, 76], index=[\"小明\", \"小红\", \"小杰\", \"小丽\", \"小华\"])\n",
    "s4 = pd.Series([95, 85, 60, 79, 76], index=[\"小明\", \"小娟\", \"小杰\", \"小同\", \"小与\"])"
   ]
  },
  {
   "cell_type": "code",
   "execution_count": 40,
   "id": "5b9d8723",
   "metadata": {},
   "outputs": [
    {
     "data": {
      "text/plain": [
       "小与      NaN\n",
       "小丽      NaN\n",
       "小华      NaN\n",
       "小同      NaN\n",
       "小娟      NaN\n",
       "小明    187.0\n",
       "小杰    130.0\n",
       "小红      NaN\n",
       "dtype: float64"
      ]
     },
     "execution_count": 40,
     "metadata": {},
     "output_type": "execute_result"
    }
   ],
   "source": [
    "s3 + s4"
   ]
  },
  {
   "cell_type": "code",
   "execution_count": 41,
   "id": "f1c5ef4f",
   "metadata": {},
   "outputs": [
    {
     "data": {
      "text/plain": [
       "小与     76.0\n",
       "小丽     88.0\n",
       "小华     76.0\n",
       "小同     79.0\n",
       "小娟     85.0\n",
       "小明    187.0\n",
       "小杰    130.0\n",
       "小红     67.0\n",
       "dtype: float64"
      ]
     },
     "execution_count": 41,
     "metadata": {},
     "output_type": "execute_result"
    }
   ],
   "source": [
    "s3.add(s4, fill_value=0)"
   ]
  },
  {
   "cell_type": "markdown",
   "id": "60d793f3",
   "metadata": {},
   "source": [
    "### 2.2 Series的统计描述"
   ]
  },
  {
   "cell_type": "code",
   "execution_count": 42,
   "id": "cb13f11c",
   "metadata": {},
   "outputs": [
    {
     "name": "stdout",
     "output_type": "stream",
     "text": [
      "5\n",
      "1\n",
      "3.0\n",
      "15\n"
     ]
    }
   ],
   "source": [
    "print(s1.max())\n",
    "print(s1.min())\n",
    "print(s1.mean())\n",
    "print(s1.sum())"
   ]
  },
  {
   "cell_type": "code",
   "execution_count": 43,
   "id": "879ce700",
   "metadata": {},
   "outputs": [
    {
     "name": "stdout",
     "output_type": "stream",
     "text": [
      "5\n"
     ]
    }
   ],
   "source": [
    "print(max(s1))"
   ]
  },
  {
   "cell_type": "code",
   "execution_count": 44,
   "id": "495cf5c2",
   "metadata": {},
   "outputs": [
    {
     "data": {
      "text/plain": [
       "count    5.000000\n",
       "mean     3.000000\n",
       "std      1.581139\n",
       "min      1.000000\n",
       "25%      2.000000\n",
       "50%      3.000000\n",
       "75%      4.000000\n",
       "max      5.000000\n",
       "dtype: float64"
      ]
     },
     "execution_count": 44,
     "metadata": {},
     "output_type": "execute_result"
    }
   ],
   "source": [
    "s1.describe()  # Series的统计描述"
   ]
  },
  {
   "cell_type": "markdown",
   "id": "49d4df3c",
   "metadata": {},
   "source": [
    "### 2.3 对元素分别进行操作（广播机制）"
   ]
  },
  {
   "cell_type": "code",
   "execution_count": 45,
   "id": "527aaee9",
   "metadata": {},
   "outputs": [
    {
     "data": {
      "text/plain": [
       "1     5\n",
       "3    20\n",
       "5    10\n",
       "7    15\n",
       "9    25\n",
       "dtype: int64"
      ]
     },
     "execution_count": 45,
     "metadata": {},
     "output_type": "execute_result"
    }
   ],
   "source": [
    "s1 * 5"
   ]
  },
  {
   "cell_type": "markdown",
   "id": "d25d8938",
   "metadata": {},
   "source": [
    "apply方法可以把函数运用到Series中的每一个元素上"
   ]
  },
  {
   "cell_type": "code",
   "execution_count": 46,
   "id": "f7b62892",
   "metadata": {},
   "outputs": [
    {
     "name": "stdout",
     "output_type": "stream",
     "text": [
      "小明    A\n",
      "小红    D\n",
      "小杰    C\n",
      "小丽    B\n",
      "小华    C\n",
      "dtype: object\n"
     ]
    }
   ],
   "source": [
    "scores = pd.Series([92, 67, 70, 88, 76], index=[\"小明\", \"小红\", \"小杰\", \"小丽\", \"小华\"])\n",
    "\n",
    "def score_grade(score):\n",
    "    if score >= 90:\n",
    "        return \"A\"\n",
    "    elif 90  >  score >= 80:\n",
    "        return \"B\"\n",
    "    elif 80  >  score >= 70:\n",
    "        return \"C\"\n",
    "    elif 70  >  score >= 60:\n",
    "        return \"D\"\n",
    "    else:\n",
    "        return \"E\"\n",
    "    \n",
    "grades = scores.apply(score_grade)  # apply方法不会改变原始Series而是会输出一个新的Series\n",
    "print(grades)"
   ]
  },
  {
   "cell_type": "code",
   "execution_count": 47,
   "id": "3ba28ec9",
   "metadata": {},
   "outputs": [
    {
     "name": "stdout",
     "output_type": "stream",
     "text": [
      "小明    8464\n",
      "小红    4489\n",
      "小杰    4900\n",
      "小丽    7744\n",
      "小华    5776\n",
      "dtype: int64\n"
     ]
    }
   ],
   "source": [
    "series_square = scores.apply(lambda score: score ** 2)\n",
    "print(series_square)"
   ]
  },
  {
   "cell_type": "markdown",
   "id": "9dab5401",
   "metadata": {},
   "source": [
    "# 3 DataFrame"
   ]
  },
  {
   "cell_type": "markdown",
   "id": "ea8aab1a",
   "metadata": {},
   "source": [
    "## 3.1 DataFrame的构造"
   ]
  },
  {
   "cell_type": "code",
   "execution_count": 48,
   "id": "15f588f6",
   "metadata": {},
   "outputs": [],
   "source": [
    "import pandas as pd"
   ]
  },
  {
   "cell_type": "markdown",
   "id": "584bb44d",
   "metadata": {},
   "source": [
    "**构造方法一**"
   ]
  },
  {
   "cell_type": "code",
   "execution_count": 49,
   "id": "48a592b5",
   "metadata": {},
   "outputs": [
    {
     "data": {
      "text/html": [
       "<div>\n",
       "<style scoped>\n",
       "    .dataframe tbody tr th:only-of-type {\n",
       "        vertical-align: middle;\n",
       "    }\n",
       "\n",
       "    .dataframe tbody tr th {\n",
       "        vertical-align: top;\n",
       "    }\n",
       "\n",
       "    .dataframe thead th {\n",
       "        text-align: right;\n",
       "    }\n",
       "</style>\n",
       "<table border=\"1\" class=\"dataframe\">\n",
       "  <thead>\n",
       "    <tr style=\"text-align: right;\">\n",
       "      <th></th>\n",
       "      <th>学号</th>\n",
       "      <th>班级</th>\n",
       "      <th>成绩</th>\n",
       "    </tr>\n",
       "  </thead>\n",
       "  <tbody>\n",
       "    <tr>\n",
       "      <th>0</th>\n",
       "      <td>01</td>\n",
       "      <td>二班</td>\n",
       "      <td>92</td>\n",
       "    </tr>\n",
       "    <tr>\n",
       "      <th>1</th>\n",
       "      <td>02</td>\n",
       "      <td>一班</td>\n",
       "      <td>67</td>\n",
       "    </tr>\n",
       "    <tr>\n",
       "      <th>2</th>\n",
       "      <td>03</td>\n",
       "      <td>三班</td>\n",
       "      <td>70</td>\n",
       "    </tr>\n",
       "    <tr>\n",
       "      <th>3</th>\n",
       "      <td>04</td>\n",
       "      <td>一班</td>\n",
       "      <td>88</td>\n",
       "    </tr>\n",
       "    <tr>\n",
       "      <th>4</th>\n",
       "      <td>05</td>\n",
       "      <td>二班</td>\n",
       "      <td>76</td>\n",
       "    </tr>\n",
       "  </tbody>\n",
       "</table>\n",
       "</div>"
      ],
      "text/plain": [
       "   学号  班级  成绩\n",
       "0  01  二班  92\n",
       "1  02  一班  67\n",
       "2  03  三班  70\n",
       "3  04  一班  88\n",
       "4  05  二班  76"
      ]
     },
     "execution_count": 49,
     "metadata": {},
     "output_type": "execute_result"
    }
   ],
   "source": [
    "s_id = pd.Series([\"01\", \"02\", \"03\", \"04\", \"05\"])\n",
    "s_class = pd.Series([\"二班\", \"一班\", \"三班\", \"一班\", \"二班\"])\n",
    "s_grade = pd.Series([92, 67, 70, 88, 76])\n",
    "df1 = pd.DataFrame({\"学号\": s_id, \"班级\": s_class, \"成绩\": s_grade})\n",
    "df1"
   ]
  },
  {
   "cell_type": "markdown",
   "id": "4ad2d387",
   "metadata": {},
   "source": [
    "把DataFrame的每一列和所有标签索引对应起来看作是一个Series，列名看作是键，列名与每一个Series构成一个键值对"
   ]
  },
  {
   "cell_type": "code",
   "execution_count": 50,
   "id": "71a938ab",
   "metadata": {},
   "outputs": [
    {
     "data": {
      "text/html": [
       "<div>\n",
       "<style scoped>\n",
       "    .dataframe tbody tr th:only-of-type {\n",
       "        vertical-align: middle;\n",
       "    }\n",
       "\n",
       "    .dataframe tbody tr th {\n",
       "        vertical-align: top;\n",
       "    }\n",
       "\n",
       "    .dataframe thead th {\n",
       "        text-align: right;\n",
       "    }\n",
       "</style>\n",
       "<table border=\"1\" class=\"dataframe\">\n",
       "  <thead>\n",
       "    <tr style=\"text-align: right;\">\n",
       "      <th></th>\n",
       "      <th>学号</th>\n",
       "      <th>班级</th>\n",
       "      <th>成绩</th>\n",
       "    </tr>\n",
       "  </thead>\n",
       "  <tbody>\n",
       "    <tr>\n",
       "      <th>小明</th>\n",
       "      <td>01</td>\n",
       "      <td>二班</td>\n",
       "      <td>92</td>\n",
       "    </tr>\n",
       "    <tr>\n",
       "      <th>小黄</th>\n",
       "      <td>02</td>\n",
       "      <td>一班</td>\n",
       "      <td>67</td>\n",
       "    </tr>\n",
       "    <tr>\n",
       "      <th>小红</th>\n",
       "      <td>03</td>\n",
       "      <td>三班</td>\n",
       "      <td>70</td>\n",
       "    </tr>\n",
       "    <tr>\n",
       "      <th>小张</th>\n",
       "      <td>04</td>\n",
       "      <td>一班</td>\n",
       "      <td>88</td>\n",
       "    </tr>\n",
       "    <tr>\n",
       "      <th>小黑</th>\n",
       "      <td>05</td>\n",
       "      <td>二班</td>\n",
       "      <td>76</td>\n",
       "    </tr>\n",
       "  </tbody>\n",
       "</table>\n",
       "</div>"
      ],
      "text/plain": [
       "    学号  班级  成绩\n",
       "小明  01  二班  92\n",
       "小黄  02  一班  67\n",
       "小红  03  三班  70\n",
       "小张  04  一班  88\n",
       "小黑  05  二班  76"
      ]
     },
     "execution_count": 50,
     "metadata": {},
     "output_type": "execute_result"
    }
   ],
   "source": [
    "s_id = pd.Series([\"01\", \"02\", \"03\", \"04\", \"05\"], index=[\"小明\", \"小黄\", \"小红\", \"小张\", \"小黑\"])\n",
    "s_class = pd.Series([\"二班\", \"一班\", \"三班\", \"一班\", \"二班\"],index=[\"小明\", \"小黄\", \"小红\", \"小张\", \"小黑\"])\n",
    "s_grade = pd.Series([92, 67, 70, 88, 76], index=[\"小明\", \"小黄\", \"小红\", \"小张\", \"小黑\"])\n",
    "df2 = pd.DataFrame({\"学号\": s_id, \"班级\": s_class, \"成绩\": s_grade})\n",
    "df2\n",
    "# 必须还得每个Series都加上标签才能改变DataFrame的标签"
   ]
  },
  {
   "cell_type": "markdown",
   "id": "bbd89edb",
   "metadata": {},
   "source": [
    "**嵌套字典构造DataFrame**"
   ]
  },
  {
   "cell_type": "code",
   "execution_count": 51,
   "id": "f777cfeb",
   "metadata": {},
   "outputs": [
    {
     "data": {
      "text/html": [
       "<div>\n",
       "<style scoped>\n",
       "    .dataframe tbody tr th:only-of-type {\n",
       "        vertical-align: middle;\n",
       "    }\n",
       "\n",
       "    .dataframe tbody tr th {\n",
       "        vertical-align: top;\n",
       "    }\n",
       "\n",
       "    .dataframe thead th {\n",
       "        text-align: right;\n",
       "    }\n",
       "</style>\n",
       "<table border=\"1\" class=\"dataframe\">\n",
       "  <thead>\n",
       "    <tr style=\"text-align: right;\">\n",
       "      <th></th>\n",
       "      <th>学号</th>\n",
       "      <th>班级</th>\n",
       "      <th>成绩</th>\n",
       "    </tr>\n",
       "  </thead>\n",
       "  <tbody>\n",
       "    <tr>\n",
       "      <th>小明</th>\n",
       "      <td>01</td>\n",
       "      <td>二班</td>\n",
       "      <td>92</td>\n",
       "    </tr>\n",
       "    <tr>\n",
       "      <th>小黄</th>\n",
       "      <td>02</td>\n",
       "      <td>一班</td>\n",
       "      <td>67</td>\n",
       "    </tr>\n",
       "    <tr>\n",
       "      <th>小红</th>\n",
       "      <td>03</td>\n",
       "      <td>三班</td>\n",
       "      <td>70</td>\n",
       "    </tr>\n",
       "    <tr>\n",
       "      <th>小张</th>\n",
       "      <td>04</td>\n",
       "      <td>一班</td>\n",
       "      <td>88</td>\n",
       "    </tr>\n",
       "    <tr>\n",
       "      <th>小黑</th>\n",
       "      <td>05</td>\n",
       "      <td>二班</td>\n",
       "      <td>76</td>\n",
       "    </tr>\n",
       "  </tbody>\n",
       "</table>\n",
       "</div>"
      ],
      "text/plain": [
       "    学号  班级  成绩\n",
       "小明  01  二班  92\n",
       "小黄  02  一班  67\n",
       "小红  03  三班  70\n",
       "小张  04  一班  88\n",
       "小黑  05  二班  76"
      ]
     },
     "execution_count": 51,
     "metadata": {},
     "output_type": "execute_result"
    }
   ],
   "source": [
    "df4 = pd.DataFrame({\"学号\": {\"小明\":\"01\", \"小黄\":\"02\", \"小红\":\"03\", \"小张\":\"04\", \"小黑\":\"05\"},\n",
    "                    \"班级\": {\"小明\":\"二班\", \"小黄\":\"一班\", \"小红\":\"三班\", \"小张\":\"一班\", \"小黑\":\"二班\"},\n",
    "                    \"成绩\": {\"小明\":92, \"小黄\":67, \"小红\":70, \"小张\":88, \"小黑\":76}})\n",
    "df4"
   ]
  },
  {
   "cell_type": "markdown",
   "id": "64360010",
   "metadata": {},
   "source": [
    "## 3.2 DataFrame的索引"
   ]
  },
  {
   "cell_type": "markdown",
   "id": "4e9bd1b0",
   "metadata": {},
   "source": [
    "### 3.2.1 获得列名、索引和值"
   ]
  },
  {
   "cell_type": "code",
   "execution_count": 52,
   "id": "b663a006",
   "metadata": {},
   "outputs": [
    {
     "data": {
      "text/plain": [
       "Index(['小明', '小黄', '小红', '小张', '小黑'], dtype='object')"
      ]
     },
     "execution_count": 52,
     "metadata": {},
     "output_type": "execute_result"
    }
   ],
   "source": [
    "df4.index"
   ]
  },
  {
   "cell_type": "code",
   "execution_count": 53,
   "id": "dfb748a1",
   "metadata": {},
   "outputs": [
    {
     "data": {
      "text/plain": [
       "Index(['学号', '班级', '成绩'], dtype='object')"
      ]
     },
     "execution_count": 53,
     "metadata": {},
     "output_type": "execute_result"
    }
   ],
   "source": [
    "df4.columns"
   ]
  },
  {
   "cell_type": "code",
   "execution_count": 54,
   "id": "a45f9099",
   "metadata": {},
   "outputs": [
    {
     "data": {
      "text/plain": [
       "array([['01', '二班', 92],\n",
       "       ['02', '一班', 67],\n",
       "       ['03', '三班', 70],\n",
       "       ['04', '一班', 88],\n",
       "       ['05', '二班', 76]], dtype=object)"
      ]
     },
     "execution_count": 54,
     "metadata": {},
     "output_type": "execute_result"
    }
   ],
   "source": [
    "df4.values  # 返还出的类型是Numpy数组，那么可以用于Numpy数组的就可以用到这个上了"
   ]
  },
  {
   "cell_type": "code",
   "execution_count": 55,
   "id": "e9b3e4f8",
   "metadata": {},
   "outputs": [
    {
     "data": {
      "text/html": [
       "<div>\n",
       "<style scoped>\n",
       "    .dataframe tbody tr th:only-of-type {\n",
       "        vertical-align: middle;\n",
       "    }\n",
       "\n",
       "    .dataframe tbody tr th {\n",
       "        vertical-align: top;\n",
       "    }\n",
       "\n",
       "    .dataframe thead th {\n",
       "        text-align: right;\n",
       "    }\n",
       "</style>\n",
       "<table border=\"1\" class=\"dataframe\">\n",
       "  <thead>\n",
       "    <tr style=\"text-align: right;\">\n",
       "      <th></th>\n",
       "      <th>小明</th>\n",
       "      <th>小黄</th>\n",
       "      <th>小红</th>\n",
       "      <th>小张</th>\n",
       "      <th>小黑</th>\n",
       "    </tr>\n",
       "  </thead>\n",
       "  <tbody>\n",
       "    <tr>\n",
       "      <th>学号</th>\n",
       "      <td>01</td>\n",
       "      <td>02</td>\n",
       "      <td>03</td>\n",
       "      <td>04</td>\n",
       "      <td>05</td>\n",
       "    </tr>\n",
       "    <tr>\n",
       "      <th>班级</th>\n",
       "      <td>二班</td>\n",
       "      <td>一班</td>\n",
       "      <td>三班</td>\n",
       "      <td>一班</td>\n",
       "      <td>二班</td>\n",
       "    </tr>\n",
       "    <tr>\n",
       "      <th>成绩</th>\n",
       "      <td>92</td>\n",
       "      <td>67</td>\n",
       "      <td>70</td>\n",
       "      <td>88</td>\n",
       "      <td>76</td>\n",
       "    </tr>\n",
       "  </tbody>\n",
       "</table>\n",
       "</div>"
      ],
      "text/plain": [
       "    小明  小黄  小红  小张  小黑\n",
       "学号  01  02  03  04  05\n",
       "班级  二班  一班  三班  一班  二班\n",
       "成绩  92  67  70  88  76"
      ]
     },
     "execution_count": 55,
     "metadata": {},
     "output_type": "execute_result"
    }
   ],
   "source": [
    "df4.T  # DataFrame转置，转置之后生成一个新的DataFrame不会对原来的DataFrame改变"
   ]
  },
  {
   "cell_type": "markdown",
   "id": "a4edeff0",
   "metadata": {},
   "source": [
    "### 3.2.2 提取DataFrame中的元素"
   ]
  },
  {
   "cell_type": "markdown",
   "id": "75e1f3fc",
   "metadata": {},
   "source": [
    "**提取列**"
   ]
  },
  {
   "cell_type": "code",
   "execution_count": 56,
   "id": "b54adccc",
   "metadata": {},
   "outputs": [
    {
     "data": {
      "text/plain": [
       "小明    二班\n",
       "小黄    一班\n",
       "小红    三班\n",
       "小张    一班\n",
       "小黑    二班\n",
       "Name: 班级, dtype: object"
      ]
     },
     "execution_count": 56,
     "metadata": {},
     "output_type": "execute_result"
    }
   ],
   "source": [
    "df4[\"班级\"]  # DataFrame名[\"列名\"]，返回出来的是一个Series"
   ]
  },
  {
   "cell_type": "code",
   "execution_count": 57,
   "id": "b00eaffe",
   "metadata": {},
   "outputs": [
    {
     "data": {
      "text/html": [
       "<div>\n",
       "<style scoped>\n",
       "    .dataframe tbody tr th:only-of-type {\n",
       "        vertical-align: middle;\n",
       "    }\n",
       "\n",
       "    .dataframe tbody tr th {\n",
       "        vertical-align: top;\n",
       "    }\n",
       "\n",
       "    .dataframe thead th {\n",
       "        text-align: right;\n",
       "    }\n",
       "</style>\n",
       "<table border=\"1\" class=\"dataframe\">\n",
       "  <thead>\n",
       "    <tr style=\"text-align: right;\">\n",
       "      <th></th>\n",
       "      <th>班级</th>\n",
       "    </tr>\n",
       "  </thead>\n",
       "  <tbody>\n",
       "    <tr>\n",
       "      <th>小明</th>\n",
       "      <td>二班</td>\n",
       "    </tr>\n",
       "    <tr>\n",
       "      <th>小黄</th>\n",
       "      <td>一班</td>\n",
       "    </tr>\n",
       "    <tr>\n",
       "      <th>小红</th>\n",
       "      <td>三班</td>\n",
       "    </tr>\n",
       "    <tr>\n",
       "      <th>小张</th>\n",
       "      <td>一班</td>\n",
       "    </tr>\n",
       "    <tr>\n",
       "      <th>小黑</th>\n",
       "      <td>二班</td>\n",
       "    </tr>\n",
       "  </tbody>\n",
       "</table>\n",
       "</div>"
      ],
      "text/plain": [
       "    班级\n",
       "小明  二班\n",
       "小黄  一班\n",
       "小红  三班\n",
       "小张  一班\n",
       "小黑  二班"
      ]
     },
     "execution_count": 57,
     "metadata": {},
     "output_type": "execute_result"
    }
   ],
   "source": [
    "df4[[\"班级\"]] "
   ]
  },
  {
   "cell_type": "markdown",
   "id": "df79223f",
   "metadata": {},
   "source": [
    "**DataFrame的每一列也是DataFrame的属性，用属性名获取DataFrame的列也是一样的**"
   ]
  },
  {
   "cell_type": "code",
   "execution_count": 58,
   "id": "d0f3b17d",
   "metadata": {},
   "outputs": [
    {
     "data": {
      "text/plain": [
       "小明    二班\n",
       "小黄    一班\n",
       "小红    三班\n",
       "小张    一班\n",
       "小黑    二班\n",
       "Name: 班级, dtype: object"
      ]
     },
     "execution_count": 58,
     "metadata": {},
     "output_type": "execute_result"
    }
   ],
   "source": [
    "df4.班级"
   ]
  },
  {
   "cell_type": "code",
   "execution_count": 59,
   "id": "adf4d9a7",
   "metadata": {},
   "outputs": [
    {
     "data": {
      "text/html": [
       "<div>\n",
       "<style scoped>\n",
       "    .dataframe tbody tr th:only-of-type {\n",
       "        vertical-align: middle;\n",
       "    }\n",
       "\n",
       "    .dataframe tbody tr th {\n",
       "        vertical-align: top;\n",
       "    }\n",
       "\n",
       "    .dataframe thead th {\n",
       "        text-align: right;\n",
       "    }\n",
       "</style>\n",
       "<table border=\"1\" class=\"dataframe\">\n",
       "  <thead>\n",
       "    <tr style=\"text-align: right;\">\n",
       "      <th></th>\n",
       "      <th>学号</th>\n",
       "      <th>班级</th>\n",
       "      <th>成绩-100</th>\n",
       "    </tr>\n",
       "  </thead>\n",
       "  <tbody>\n",
       "    <tr>\n",
       "      <th>小明</th>\n",
       "      <td>01</td>\n",
       "      <td>二班</td>\n",
       "      <td>92</td>\n",
       "    </tr>\n",
       "    <tr>\n",
       "      <th>小黄</th>\n",
       "      <td>02</td>\n",
       "      <td>一班</td>\n",
       "      <td>67</td>\n",
       "    </tr>\n",
       "    <tr>\n",
       "      <th>小红</th>\n",
       "      <td>03</td>\n",
       "      <td>三班</td>\n",
       "      <td>70</td>\n",
       "    </tr>\n",
       "    <tr>\n",
       "      <th>小张</th>\n",
       "      <td>04</td>\n",
       "      <td>一班</td>\n",
       "      <td>88</td>\n",
       "    </tr>\n",
       "    <tr>\n",
       "      <th>小黑</th>\n",
       "      <td>05</td>\n",
       "      <td>二班</td>\n",
       "      <td>76</td>\n",
       "    </tr>\n",
       "  </tbody>\n",
       "</table>\n",
       "</div>"
      ],
      "text/plain": [
       "    学号  班级  成绩-100\n",
       "小明  01  二班      92\n",
       "小黄  02  一班      67\n",
       "小红  03  三班      70\n",
       "小张  04  一班      88\n",
       "小黑  05  二班      76"
      ]
     },
     "execution_count": 59,
     "metadata": {},
     "output_type": "execute_result"
    }
   ],
   "source": [
    "df5 = pd.DataFrame({\"学号\": {\"小明\":\"01\", \"小黄\":\"02\", \"小红\":\"03\", \"小张\":\"04\", \"小黑\":\"05\"},\n",
    "                    \"班级\": {\"小明\":\"二班\", \"小黄\":\"一班\", \"小红\":\"三班\", \"小张\":\"一班\", \"小黑\":\"二班\"},\n",
    "                    \"成绩-100\": {\"小明\":92, \"小黄\":67, \"小红\":70, \"小张\":88, \"小黑\":76}})\n",
    "df5"
   ]
  },
  {
   "cell_type": "markdown",
   "id": "1c4a8f0c",
   "metadata": {},
   "source": [
    "```python\n",
    "df5.成绩-100  # 当属性名中出现特殊符号时用属性名就不能提取出Series了就只能用方括号索引了\n",
    "```"
   ]
  },
  {
   "cell_type": "code",
   "execution_count": 60,
   "id": "248b0569",
   "metadata": {},
   "outputs": [
    {
     "data": {
      "text/plain": [
       "小明    92\n",
       "小黄    67\n",
       "小红    70\n",
       "小张    88\n",
       "小黑    76\n",
       "Name: 成绩-100, dtype: int64"
      ]
     },
     "execution_count": 60,
     "metadata": {},
     "output_type": "execute_result"
    }
   ],
   "source": [
    "df5[\"成绩-100\"]"
   ]
  },
  {
   "cell_type": "markdown",
   "id": "90b4bf84",
   "metadata": {},
   "source": [
    "**提取多个列,再放括号里面放入列表**"
   ]
  },
  {
   "cell_type": "code",
   "execution_count": 61,
   "id": "5b2a726f",
   "metadata": {},
   "outputs": [
    {
     "data": {
      "text/html": [
       "<div>\n",
       "<style scoped>\n",
       "    .dataframe tbody tr th:only-of-type {\n",
       "        vertical-align: middle;\n",
       "    }\n",
       "\n",
       "    .dataframe tbody tr th {\n",
       "        vertical-align: top;\n",
       "    }\n",
       "\n",
       "    .dataframe thead th {\n",
       "        text-align: right;\n",
       "    }\n",
       "</style>\n",
       "<table border=\"1\" class=\"dataframe\">\n",
       "  <thead>\n",
       "    <tr style=\"text-align: right;\">\n",
       "      <th></th>\n",
       "      <th>学号</th>\n",
       "      <th>班级</th>\n",
       "    </tr>\n",
       "  </thead>\n",
       "  <tbody>\n",
       "    <tr>\n",
       "      <th>小明</th>\n",
       "      <td>01</td>\n",
       "      <td>二班</td>\n",
       "    </tr>\n",
       "    <tr>\n",
       "      <th>小黄</th>\n",
       "      <td>02</td>\n",
       "      <td>一班</td>\n",
       "    </tr>\n",
       "    <tr>\n",
       "      <th>小红</th>\n",
       "      <td>03</td>\n",
       "      <td>三班</td>\n",
       "    </tr>\n",
       "    <tr>\n",
       "      <th>小张</th>\n",
       "      <td>04</td>\n",
       "      <td>一班</td>\n",
       "    </tr>\n",
       "    <tr>\n",
       "      <th>小黑</th>\n",
       "      <td>05</td>\n",
       "      <td>二班</td>\n",
       "    </tr>\n",
       "  </tbody>\n",
       "</table>\n",
       "</div>"
      ],
      "text/plain": [
       "    学号  班级\n",
       "小明  01  二班\n",
       "小黄  02  一班\n",
       "小红  03  三班\n",
       "小张  04  一班\n",
       "小黑  05  二班"
      ]
     },
     "execution_count": 61,
     "metadata": {},
     "output_type": "execute_result"
    }
   ],
   "source": [
    "df4[[\"学号\",\"班级\"]]"
   ]
  },
  {
   "cell_type": "markdown",
   "id": "e3d876b7",
   "metadata": {},
   "source": [
    "**提取行**"
   ]
  },
  {
   "cell_type": "code",
   "execution_count": 62,
   "id": "79e72203",
   "metadata": {},
   "outputs": [
    {
     "data": {
      "text/plain": [
       "学号    03\n",
       "班级    三班\n",
       "成绩    70\n",
       "Name: 小红, dtype: object"
      ]
     },
     "execution_count": 62,
     "metadata": {},
     "output_type": "execute_result"
    }
   ],
   "source": [
    "df4.loc[\"小红\"]"
   ]
  },
  {
   "cell_type": "code",
   "execution_count": 63,
   "id": "e8512667",
   "metadata": {},
   "outputs": [
    {
     "data": {
      "text/plain": [
       "学号    03\n",
       "班级    三班\n",
       "成绩    70\n",
       "Name: 小红, dtype: object"
      ]
     },
     "execution_count": 63,
     "metadata": {},
     "output_type": "execute_result"
    }
   ],
   "source": [
    "df4.iloc[2]"
   ]
  },
  {
   "cell_type": "markdown",
   "id": "b5ea6a81",
   "metadata": {},
   "source": [
    "**切片**"
   ]
  },
  {
   "cell_type": "code",
   "execution_count": 64,
   "id": "e4beb307",
   "metadata": {},
   "outputs": [
    {
     "data": {
      "text/html": [
       "<div>\n",
       "<style scoped>\n",
       "    .dataframe tbody tr th:only-of-type {\n",
       "        vertical-align: middle;\n",
       "    }\n",
       "\n",
       "    .dataframe tbody tr th {\n",
       "        vertical-align: top;\n",
       "    }\n",
       "\n",
       "    .dataframe thead th {\n",
       "        text-align: right;\n",
       "    }\n",
       "</style>\n",
       "<table border=\"1\" class=\"dataframe\">\n",
       "  <thead>\n",
       "    <tr style=\"text-align: right;\">\n",
       "      <th></th>\n",
       "      <th>学号</th>\n",
       "      <th>班级</th>\n",
       "      <th>成绩</th>\n",
       "    </tr>\n",
       "  </thead>\n",
       "  <tbody>\n",
       "    <tr>\n",
       "      <th>小明</th>\n",
       "      <td>01</td>\n",
       "      <td>二班</td>\n",
       "      <td>92</td>\n",
       "    </tr>\n",
       "    <tr>\n",
       "      <th>小黄</th>\n",
       "      <td>02</td>\n",
       "      <td>一班</td>\n",
       "      <td>67</td>\n",
       "    </tr>\n",
       "    <tr>\n",
       "      <th>小红</th>\n",
       "      <td>03</td>\n",
       "      <td>三班</td>\n",
       "      <td>70</td>\n",
       "    </tr>\n",
       "  </tbody>\n",
       "</table>\n",
       "</div>"
      ],
      "text/plain": [
       "    学号  班级  成绩\n",
       "小明  01  二班  92\n",
       "小黄  02  一班  67\n",
       "小红  03  三班  70"
      ]
     },
     "execution_count": 64,
     "metadata": {},
     "output_type": "execute_result"
    }
   ],
   "source": [
    "df4.loc[\"小明\":\"小红\"]"
   ]
  },
  {
   "cell_type": "code",
   "execution_count": 65,
   "id": "20144ac4",
   "metadata": {},
   "outputs": [
    {
     "data": {
      "text/html": [
       "<div>\n",
       "<style scoped>\n",
       "    .dataframe tbody tr th:only-of-type {\n",
       "        vertical-align: middle;\n",
       "    }\n",
       "\n",
       "    .dataframe tbody tr th {\n",
       "        vertical-align: top;\n",
       "    }\n",
       "\n",
       "    .dataframe thead th {\n",
       "        text-align: right;\n",
       "    }\n",
       "</style>\n",
       "<table border=\"1\" class=\"dataframe\">\n",
       "  <thead>\n",
       "    <tr style=\"text-align: right;\">\n",
       "      <th></th>\n",
       "      <th>学号</th>\n",
       "      <th>班级</th>\n",
       "      <th>成绩</th>\n",
       "    </tr>\n",
       "  </thead>\n",
       "  <tbody>\n",
       "    <tr>\n",
       "      <th>小明</th>\n",
       "      <td>01</td>\n",
       "      <td>二班</td>\n",
       "      <td>92</td>\n",
       "    </tr>\n",
       "    <tr>\n",
       "      <th>小黄</th>\n",
       "      <td>02</td>\n",
       "      <td>一班</td>\n",
       "      <td>67</td>\n",
       "    </tr>\n",
       "    <tr>\n",
       "      <th>小红</th>\n",
       "      <td>03</td>\n",
       "      <td>三班</td>\n",
       "      <td>70</td>\n",
       "    </tr>\n",
       "  </tbody>\n",
       "</table>\n",
       "</div>"
      ],
      "text/plain": [
       "    学号  班级  成绩\n",
       "小明  01  二班  92\n",
       "小黄  02  一班  67\n",
       "小红  03  三班  70"
      ]
     },
     "execution_count": 65,
     "metadata": {},
     "output_type": "execute_result"
    }
   ],
   "source": [
    "df4.iloc[0:3]"
   ]
  },
  {
   "cell_type": "code",
   "execution_count": 66,
   "id": "81c98f6e",
   "metadata": {},
   "outputs": [
    {
     "data": {
      "text/html": [
       "<div>\n",
       "<style scoped>\n",
       "    .dataframe tbody tr th:only-of-type {\n",
       "        vertical-align: middle;\n",
       "    }\n",
       "\n",
       "    .dataframe tbody tr th {\n",
       "        vertical-align: top;\n",
       "    }\n",
       "\n",
       "    .dataframe thead th {\n",
       "        text-align: right;\n",
       "    }\n",
       "</style>\n",
       "<table border=\"1\" class=\"dataframe\">\n",
       "  <thead>\n",
       "    <tr style=\"text-align: right;\">\n",
       "      <th></th>\n",
       "      <th>学号</th>\n",
       "      <th>班级</th>\n",
       "      <th>成绩</th>\n",
       "    </tr>\n",
       "  </thead>\n",
       "  <tbody>\n",
       "    <tr>\n",
       "      <th>小明</th>\n",
       "      <td>True</td>\n",
       "      <td>True</td>\n",
       "      <td>True</td>\n",
       "    </tr>\n",
       "    <tr>\n",
       "      <th>小黄</th>\n",
       "      <td>True</td>\n",
       "      <td>True</td>\n",
       "      <td>True</td>\n",
       "    </tr>\n",
       "    <tr>\n",
       "      <th>小红</th>\n",
       "      <td>True</td>\n",
       "      <td>True</td>\n",
       "      <td>True</td>\n",
       "    </tr>\n",
       "  </tbody>\n",
       "</table>\n",
       "</div>"
      ],
      "text/plain": [
       "      学号    班级    成绩\n",
       "小明  True  True  True\n",
       "小黄  True  True  True\n",
       "小红  True  True  True"
      ]
     },
     "execution_count": 66,
     "metadata": {},
     "output_type": "execute_result"
    }
   ],
   "source": [
    "df4.loc[\"小明\":\"小红\"] == df4.iloc[0:3]  # 标签索引切片包含最后一个值，位置索引不包含最后一个值"
   ]
  },
  {
   "cell_type": "code",
   "execution_count": 67,
   "id": "d70a93f7",
   "metadata": {},
   "outputs": [
    {
     "data": {
      "text/html": [
       "<div>\n",
       "<style scoped>\n",
       "    .dataframe tbody tr th:only-of-type {\n",
       "        vertical-align: middle;\n",
       "    }\n",
       "\n",
       "    .dataframe tbody tr th {\n",
       "        vertical-align: top;\n",
       "    }\n",
       "\n",
       "    .dataframe thead th {\n",
       "        text-align: right;\n",
       "    }\n",
       "</style>\n",
       "<table border=\"1\" class=\"dataframe\">\n",
       "  <thead>\n",
       "    <tr style=\"text-align: right;\">\n",
       "      <th></th>\n",
       "      <th>学号</th>\n",
       "      <th>班级</th>\n",
       "      <th>成绩</th>\n",
       "    </tr>\n",
       "  </thead>\n",
       "  <tbody>\n",
       "    <tr>\n",
       "      <th>小张</th>\n",
       "      <td>04</td>\n",
       "      <td>一班</td>\n",
       "      <td>88</td>\n",
       "    </tr>\n",
       "    <tr>\n",
       "      <th>小黄</th>\n",
       "      <td>02</td>\n",
       "      <td>一班</td>\n",
       "      <td>67</td>\n",
       "    </tr>\n",
       "  </tbody>\n",
       "</table>\n",
       "</div>"
      ],
      "text/plain": [
       "    学号  班级  成绩\n",
       "小张  04  一班  88\n",
       "小黄  02  一班  67"
      ]
     },
     "execution_count": 67,
     "metadata": {},
     "output_type": "execute_result"
    }
   ],
   "source": [
    "df4.iloc[[3, 1]]"
   ]
  },
  {
   "cell_type": "code",
   "execution_count": 68,
   "id": "61302464",
   "metadata": {},
   "outputs": [
    {
     "data": {
      "text/html": [
       "<div>\n",
       "<style scoped>\n",
       "    .dataframe tbody tr th:only-of-type {\n",
       "        vertical-align: middle;\n",
       "    }\n",
       "\n",
       "    .dataframe tbody tr th {\n",
       "        vertical-align: top;\n",
       "    }\n",
       "\n",
       "    .dataframe thead th {\n",
       "        text-align: right;\n",
       "    }\n",
       "</style>\n",
       "<table border=\"1\" class=\"dataframe\">\n",
       "  <thead>\n",
       "    <tr style=\"text-align: right;\">\n",
       "      <th></th>\n",
       "      <th>学号</th>\n",
       "      <th>班级</th>\n",
       "      <th>成绩</th>\n",
       "    </tr>\n",
       "  </thead>\n",
       "  <tbody>\n",
       "    <tr>\n",
       "      <th>小张</th>\n",
       "      <td>04</td>\n",
       "      <td>一班</td>\n",
       "      <td>88</td>\n",
       "    </tr>\n",
       "    <tr>\n",
       "      <th>小黄</th>\n",
       "      <td>02</td>\n",
       "      <td>一班</td>\n",
       "      <td>67</td>\n",
       "    </tr>\n",
       "  </tbody>\n",
       "</table>\n",
       "</div>"
      ],
      "text/plain": [
       "    学号  班级  成绩\n",
       "小张  04  一班  88\n",
       "小黄  02  一班  67"
      ]
     },
     "execution_count": 68,
     "metadata": {},
     "output_type": "execute_result"
    }
   ],
   "source": [
    "df4.loc[[\"小张\", \"小黄\"]]"
   ]
  },
  {
   "cell_type": "code",
   "execution_count": 69,
   "id": "adad3368",
   "metadata": {},
   "outputs": [
    {
     "data": {
      "text/html": [
       "<div>\n",
       "<style scoped>\n",
       "    .dataframe tbody tr th:only-of-type {\n",
       "        vertical-align: middle;\n",
       "    }\n",
       "\n",
       "    .dataframe tbody tr th {\n",
       "        vertical-align: top;\n",
       "    }\n",
       "\n",
       "    .dataframe thead th {\n",
       "        text-align: right;\n",
       "    }\n",
       "</style>\n",
       "<table border=\"1\" class=\"dataframe\">\n",
       "  <thead>\n",
       "    <tr style=\"text-align: right;\">\n",
       "      <th></th>\n",
       "      <th>学号</th>\n",
       "      <th>班级</th>\n",
       "      <th>成绩</th>\n",
       "    </tr>\n",
       "  </thead>\n",
       "  <tbody>\n",
       "    <tr>\n",
       "      <th>小明</th>\n",
       "      <td>01</td>\n",
       "      <td>二班</td>\n",
       "      <td>92</td>\n",
       "    </tr>\n",
       "    <tr>\n",
       "      <th>小黄</th>\n",
       "      <td>02</td>\n",
       "      <td>一班</td>\n",
       "      <td>67</td>\n",
       "    </tr>\n",
       "    <tr>\n",
       "      <th>小红</th>\n",
       "      <td>03</td>\n",
       "      <td>三班</td>\n",
       "      <td>70</td>\n",
       "    </tr>\n",
       "    <tr>\n",
       "      <th>小张</th>\n",
       "      <td>04</td>\n",
       "      <td>一班</td>\n",
       "      <td>88</td>\n",
       "    </tr>\n",
       "  </tbody>\n",
       "</table>\n",
       "</div>"
      ],
      "text/plain": [
       "    学号  班级  成绩\n",
       "小明  01  二班  92\n",
       "小黄  02  一班  67\n",
       "小红  03  三班  70\n",
       "小张  04  一班  88"
      ]
     },
     "execution_count": 69,
     "metadata": {},
     "output_type": "execute_result"
    }
   ],
   "source": [
    "df4.loc[\"小明\":\"小张\", \"学号\": \"成绩\"]"
   ]
  },
  {
   "cell_type": "code",
   "execution_count": 70,
   "id": "f0e4a9d9",
   "metadata": {},
   "outputs": [
    {
     "data": {
      "text/html": [
       "<div>\n",
       "<style scoped>\n",
       "    .dataframe tbody tr th:only-of-type {\n",
       "        vertical-align: middle;\n",
       "    }\n",
       "\n",
       "    .dataframe tbody tr th {\n",
       "        vertical-align: top;\n",
       "    }\n",
       "\n",
       "    .dataframe thead th {\n",
       "        text-align: right;\n",
       "    }\n",
       "</style>\n",
       "<table border=\"1\" class=\"dataframe\">\n",
       "  <thead>\n",
       "    <tr style=\"text-align: right;\">\n",
       "      <th></th>\n",
       "      <th>学号</th>\n",
       "      <th>班级</th>\n",
       "    </tr>\n",
       "  </thead>\n",
       "  <tbody>\n",
       "    <tr>\n",
       "      <th>小明</th>\n",
       "      <td>01</td>\n",
       "      <td>二班</td>\n",
       "    </tr>\n",
       "    <tr>\n",
       "      <th>小黄</th>\n",
       "      <td>02</td>\n",
       "      <td>一班</td>\n",
       "    </tr>\n",
       "    <tr>\n",
       "      <th>小红</th>\n",
       "      <td>03</td>\n",
       "      <td>三班</td>\n",
       "    </tr>\n",
       "  </tbody>\n",
       "</table>\n",
       "</div>"
      ],
      "text/plain": [
       "    学号  班级\n",
       "小明  01  二班\n",
       "小黄  02  一班\n",
       "小红  03  三班"
      ]
     },
     "execution_count": 70,
     "metadata": {},
     "output_type": "execute_result"
    }
   ],
   "source": [
    "df4.iloc[0:3, 0:2]"
   ]
  },
  {
   "cell_type": "code",
   "execution_count": 71,
   "id": "4346ac3b",
   "metadata": {},
   "outputs": [
    {
     "data": {
      "text/html": [
       "<div>\n",
       "<style scoped>\n",
       "    .dataframe tbody tr th:only-of-type {\n",
       "        vertical-align: middle;\n",
       "    }\n",
       "\n",
       "    .dataframe tbody tr th {\n",
       "        vertical-align: top;\n",
       "    }\n",
       "\n",
       "    .dataframe thead th {\n",
       "        text-align: right;\n",
       "    }\n",
       "</style>\n",
       "<table border=\"1\" class=\"dataframe\">\n",
       "  <thead>\n",
       "    <tr style=\"text-align: right;\">\n",
       "      <th></th>\n",
       "      <th>学号</th>\n",
       "      <th>班级</th>\n",
       "      <th>成绩</th>\n",
       "    </tr>\n",
       "  </thead>\n",
       "  <tbody>\n",
       "    <tr>\n",
       "      <th>小明</th>\n",
       "      <td>01</td>\n",
       "      <td>二班</td>\n",
       "      <td>92</td>\n",
       "    </tr>\n",
       "    <tr>\n",
       "      <th>小黄</th>\n",
       "      <td>02</td>\n",
       "      <td>一班</td>\n",
       "      <td>67</td>\n",
       "    </tr>\n",
       "    <tr>\n",
       "      <th>小红</th>\n",
       "      <td>03</td>\n",
       "      <td>三班</td>\n",
       "      <td>70</td>\n",
       "    </tr>\n",
       "    <tr>\n",
       "      <th>小张</th>\n",
       "      <td>04</td>\n",
       "      <td>一班</td>\n",
       "      <td>88</td>\n",
       "    </tr>\n",
       "  </tbody>\n",
       "</table>\n",
       "</div>"
      ],
      "text/plain": [
       "    学号  班级  成绩\n",
       "小明  01  二班  92\n",
       "小黄  02  一班  67\n",
       "小红  03  三班  70\n",
       "小张  04  一班  88"
      ]
     },
     "execution_count": 71,
     "metadata": {},
     "output_type": "execute_result"
    }
   ],
   "source": [
    "df4.iloc[0:4, 0:3]"
   ]
  },
  {
   "cell_type": "code",
   "execution_count": 72,
   "id": "7ada1cce",
   "metadata": {},
   "outputs": [
    {
     "data": {
      "text/html": [
       "<div>\n",
       "<style scoped>\n",
       "    .dataframe tbody tr th:only-of-type {\n",
       "        vertical-align: middle;\n",
       "    }\n",
       "\n",
       "    .dataframe tbody tr th {\n",
       "        vertical-align: top;\n",
       "    }\n",
       "\n",
       "    .dataframe thead th {\n",
       "        text-align: right;\n",
       "    }\n",
       "</style>\n",
       "<table border=\"1\" class=\"dataframe\">\n",
       "  <thead>\n",
       "    <tr style=\"text-align: right;\">\n",
       "      <th></th>\n",
       "      <th>成绩</th>\n",
       "      <th>学号</th>\n",
       "    </tr>\n",
       "  </thead>\n",
       "  <tbody>\n",
       "    <tr>\n",
       "      <th>小明</th>\n",
       "      <td>92</td>\n",
       "      <td>01</td>\n",
       "    </tr>\n",
       "    <tr>\n",
       "      <th>小黄</th>\n",
       "      <td>67</td>\n",
       "      <td>02</td>\n",
       "    </tr>\n",
       "    <tr>\n",
       "      <th>小红</th>\n",
       "      <td>70</td>\n",
       "      <td>03</td>\n",
       "    </tr>\n",
       "    <tr>\n",
       "      <th>小张</th>\n",
       "      <td>88</td>\n",
       "      <td>04</td>\n",
       "    </tr>\n",
       "  </tbody>\n",
       "</table>\n",
       "</div>"
      ],
      "text/plain": [
       "    成绩  学号\n",
       "小明  92  01\n",
       "小黄  67  02\n",
       "小红  70  03\n",
       "小张  88  04"
      ]
     },
     "execution_count": 72,
     "metadata": {},
     "output_type": "execute_result"
    }
   ],
   "source": [
    "df4.iloc[0:4, [2, 0]]"
   ]
  },
  {
   "cell_type": "markdown",
   "id": "d153cd91",
   "metadata": {},
   "source": [
    "**提取表格数据**"
   ]
  },
  {
   "cell_type": "code",
   "execution_count": 73,
   "id": "ac2444f7",
   "metadata": {},
   "outputs": [
    {
     "data": {
      "text/plain": [
       "'一班'"
      ]
     },
     "execution_count": 73,
     "metadata": {},
     "output_type": "execute_result"
    }
   ],
   "source": [
    "df4.loc[\"小张\", \"班级\"]"
   ]
  },
  {
   "cell_type": "code",
   "execution_count": 74,
   "id": "4d4316db",
   "metadata": {},
   "outputs": [
    {
     "data": {
      "text/plain": [
       "'一班'"
      ]
     },
     "execution_count": 74,
     "metadata": {},
     "output_type": "execute_result"
    }
   ],
   "source": [
    "df4.iloc[3, 1]"
   ]
  },
  {
   "cell_type": "code",
   "execution_count": 75,
   "id": "4a45aa43",
   "metadata": {},
   "outputs": [
    {
     "data": {
      "text/plain": [
       "True"
      ]
     },
     "execution_count": 75,
     "metadata": {},
     "output_type": "execute_result"
    }
   ],
   "source": [
    "df4.loc[\"小张\", \"班级\"] == df4.iloc[3, 1]"
   ]
  },
  {
   "cell_type": "markdown",
   "id": "35f453b6",
   "metadata": {},
   "source": [
    "**筛选DataFrame中符合条件的行数据**"
   ]
  },
  {
   "cell_type": "code",
   "execution_count": 76,
   "id": "fb6c57b3",
   "metadata": {},
   "outputs": [
    {
     "data": {
      "text/plain": [
       "小明     True\n",
       "小黄    False\n",
       "小红    False\n",
       "小张     True\n",
       "小黑    False\n",
       "Name: 成绩, dtype: bool"
      ]
     },
     "execution_count": 76,
     "metadata": {},
     "output_type": "execute_result"
    }
   ],
   "source": [
    "df4[\"成绩\"] > 80"
   ]
  },
  {
   "cell_type": "code",
   "execution_count": 77,
   "id": "35ff426a",
   "metadata": {},
   "outputs": [
    {
     "data": {
      "text/plain": [
       "小明     True\n",
       "小黄    False\n",
       "小红    False\n",
       "小张     True\n",
       "小黑    False\n",
       "Name: 成绩, dtype: bool"
      ]
     },
     "execution_count": 77,
     "metadata": {},
     "output_type": "execute_result"
    }
   ],
   "source": [
    "df4.成绩 > 80"
   ]
  },
  {
   "cell_type": "code",
   "execution_count": 78,
   "id": "676fefaf",
   "metadata": {},
   "outputs": [
    {
     "data": {
      "text/html": [
       "<div>\n",
       "<style scoped>\n",
       "    .dataframe tbody tr th:only-of-type {\n",
       "        vertical-align: middle;\n",
       "    }\n",
       "\n",
       "    .dataframe tbody tr th {\n",
       "        vertical-align: top;\n",
       "    }\n",
       "\n",
       "    .dataframe thead th {\n",
       "        text-align: right;\n",
       "    }\n",
       "</style>\n",
       "<table border=\"1\" class=\"dataframe\">\n",
       "  <thead>\n",
       "    <tr style=\"text-align: right;\">\n",
       "      <th></th>\n",
       "      <th>学号</th>\n",
       "      <th>班级</th>\n",
       "      <th>成绩</th>\n",
       "    </tr>\n",
       "  </thead>\n",
       "  <tbody>\n",
       "    <tr>\n",
       "      <th>小明</th>\n",
       "      <td>01</td>\n",
       "      <td>二班</td>\n",
       "      <td>92</td>\n",
       "    </tr>\n",
       "    <tr>\n",
       "      <th>小张</th>\n",
       "      <td>04</td>\n",
       "      <td>一班</td>\n",
       "      <td>88</td>\n",
       "    </tr>\n",
       "  </tbody>\n",
       "</table>\n",
       "</div>"
      ],
      "text/plain": [
       "    学号  班级  成绩\n",
       "小明  01  二班  92\n",
       "小张  04  一班  88"
      ]
     },
     "execution_count": 78,
     "metadata": {},
     "output_type": "execute_result"
    }
   ],
   "source": [
    "df4[df4[\"成绩\"] > 80]"
   ]
  },
  {
   "cell_type": "code",
   "execution_count": 79,
   "id": "1c6f823a",
   "metadata": {},
   "outputs": [
    {
     "data": {
      "text/html": [
       "<div>\n",
       "<style scoped>\n",
       "    .dataframe tbody tr th:only-of-type {\n",
       "        vertical-align: middle;\n",
       "    }\n",
       "\n",
       "    .dataframe tbody tr th {\n",
       "        vertical-align: top;\n",
       "    }\n",
       "\n",
       "    .dataframe thead th {\n",
       "        text-align: right;\n",
       "    }\n",
       "</style>\n",
       "<table border=\"1\" class=\"dataframe\">\n",
       "  <thead>\n",
       "    <tr style=\"text-align: right;\">\n",
       "      <th></th>\n",
       "      <th>学号</th>\n",
       "      <th>班级</th>\n",
       "      <th>成绩</th>\n",
       "    </tr>\n",
       "  </thead>\n",
       "  <tbody>\n",
       "    <tr>\n",
       "      <th>小黄</th>\n",
       "      <td>02</td>\n",
       "      <td>一班</td>\n",
       "      <td>67</td>\n",
       "    </tr>\n",
       "    <tr>\n",
       "      <th>小张</th>\n",
       "      <td>04</td>\n",
       "      <td>一班</td>\n",
       "      <td>88</td>\n",
       "    </tr>\n",
       "  </tbody>\n",
       "</table>\n",
       "</div>"
      ],
      "text/plain": [
       "    学号  班级  成绩\n",
       "小黄  02  一班  67\n",
       "小张  04  一班  88"
      ]
     },
     "execution_count": 79,
     "metadata": {},
     "output_type": "execute_result"
    }
   ],
   "source": [
    "df4[df4[\"班级\"] == \"一班\"]"
   ]
  },
  {
   "cell_type": "code",
   "execution_count": 80,
   "id": "6ab35e18",
   "metadata": {},
   "outputs": [
    {
     "data": {
      "text/html": [
       "<div>\n",
       "<style scoped>\n",
       "    .dataframe tbody tr th:only-of-type {\n",
       "        vertical-align: middle;\n",
       "    }\n",
       "\n",
       "    .dataframe tbody tr th {\n",
       "        vertical-align: top;\n",
       "    }\n",
       "\n",
       "    .dataframe thead th {\n",
       "        text-align: right;\n",
       "    }\n",
       "</style>\n",
       "<table border=\"1\" class=\"dataframe\">\n",
       "  <thead>\n",
       "    <tr style=\"text-align: right;\">\n",
       "      <th></th>\n",
       "      <th>学号</th>\n",
       "      <th>班级</th>\n",
       "      <th>成绩</th>\n",
       "    </tr>\n",
       "  </thead>\n",
       "  <tbody>\n",
       "    <tr>\n",
       "      <th>小张</th>\n",
       "      <td>04</td>\n",
       "      <td>一班</td>\n",
       "      <td>88</td>\n",
       "    </tr>\n",
       "  </tbody>\n",
       "</table>\n",
       "</div>"
      ],
      "text/plain": [
       "    学号  班级  成绩\n",
       "小张  04  一班  88"
      ]
     },
     "execution_count": 80,
     "metadata": {},
     "output_type": "execute_result"
    }
   ],
   "source": [
    "df4[(df4[\"成绩\"] > 80) & (df4[\"班级\"] == \"一班\")]"
   ]
  },
  {
   "cell_type": "markdown",
   "id": "7b5b1818",
   "metadata": {},
   "source": [
    "**获得DataFrame中的前几行**"
   ]
  },
  {
   "cell_type": "code",
   "execution_count": 81,
   "id": "18979f6c",
   "metadata": {},
   "outputs": [
    {
     "data": {
      "text/html": [
       "<div>\n",
       "<style scoped>\n",
       "    .dataframe tbody tr th:only-of-type {\n",
       "        vertical-align: middle;\n",
       "    }\n",
       "\n",
       "    .dataframe tbody tr th {\n",
       "        vertical-align: top;\n",
       "    }\n",
       "\n",
       "    .dataframe thead th {\n",
       "        text-align: right;\n",
       "    }\n",
       "</style>\n",
       "<table border=\"1\" class=\"dataframe\">\n",
       "  <thead>\n",
       "    <tr style=\"text-align: right;\">\n",
       "      <th></th>\n",
       "      <th>学号</th>\n",
       "      <th>班级</th>\n",
       "      <th>成绩</th>\n",
       "    </tr>\n",
       "  </thead>\n",
       "  <tbody>\n",
       "    <tr>\n",
       "      <th>小明</th>\n",
       "      <td>01</td>\n",
       "      <td>二班</td>\n",
       "      <td>92</td>\n",
       "    </tr>\n",
       "    <tr>\n",
       "      <th>小黄</th>\n",
       "      <td>02</td>\n",
       "      <td>一班</td>\n",
       "      <td>67</td>\n",
       "    </tr>\n",
       "    <tr>\n",
       "      <th>小红</th>\n",
       "      <td>03</td>\n",
       "      <td>三班</td>\n",
       "      <td>70</td>\n",
       "    </tr>\n",
       "    <tr>\n",
       "      <th>小张</th>\n",
       "      <td>04</td>\n",
       "      <td>一班</td>\n",
       "      <td>88</td>\n",
       "    </tr>\n",
       "    <tr>\n",
       "      <th>小黑</th>\n",
       "      <td>05</td>\n",
       "      <td>二班</td>\n",
       "      <td>76</td>\n",
       "    </tr>\n",
       "  </tbody>\n",
       "</table>\n",
       "</div>"
      ],
      "text/plain": [
       "    学号  班级  成绩\n",
       "小明  01  二班  92\n",
       "小黄  02  一班  67\n",
       "小红  03  三班  70\n",
       "小张  04  一班  88\n",
       "小黑  05  二班  76"
      ]
     },
     "execution_count": 81,
     "metadata": {},
     "output_type": "execute_result"
    }
   ],
   "source": [
    "df4.head()  # 不输入参数就默认前面五行"
   ]
  },
  {
   "cell_type": "code",
   "execution_count": 82,
   "id": "39f9728f",
   "metadata": {},
   "outputs": [
    {
     "data": {
      "text/html": [
       "<div>\n",
       "<style scoped>\n",
       "    .dataframe tbody tr th:only-of-type {\n",
       "        vertical-align: middle;\n",
       "    }\n",
       "\n",
       "    .dataframe tbody tr th {\n",
       "        vertical-align: top;\n",
       "    }\n",
       "\n",
       "    .dataframe thead th {\n",
       "        text-align: right;\n",
       "    }\n",
       "</style>\n",
       "<table border=\"1\" class=\"dataframe\">\n",
       "  <thead>\n",
       "    <tr style=\"text-align: right;\">\n",
       "      <th></th>\n",
       "      <th>学号</th>\n",
       "      <th>班级</th>\n",
       "      <th>成绩</th>\n",
       "    </tr>\n",
       "  </thead>\n",
       "  <tbody>\n",
       "    <tr>\n",
       "      <th>小明</th>\n",
       "      <td>01</td>\n",
       "      <td>二班</td>\n",
       "      <td>92</td>\n",
       "    </tr>\n",
       "    <tr>\n",
       "      <th>小黄</th>\n",
       "      <td>02</td>\n",
       "      <td>一班</td>\n",
       "      <td>67</td>\n",
       "    </tr>\n",
       "  </tbody>\n",
       "</table>\n",
       "</div>"
      ],
      "text/plain": [
       "    学号  班级  成绩\n",
       "小明  01  二班  92\n",
       "小黄  02  一班  67"
      ]
     },
     "execution_count": 82,
     "metadata": {},
     "output_type": "execute_result"
    }
   ],
   "source": [
    "df4.head(2)"
   ]
  },
  {
   "cell_type": "markdown",
   "id": "95bf2a61",
   "metadata": {},
   "source": [
    "## 3.3 内部操作"
   ]
  },
  {
   "cell_type": "code",
   "execution_count": 83,
   "id": "1b847188",
   "metadata": {},
   "outputs": [
    {
     "data": {
      "text/html": [
       "<div>\n",
       "<style scoped>\n",
       "    .dataframe tbody tr th:only-of-type {\n",
       "        vertical-align: middle;\n",
       "    }\n",
       "\n",
       "    .dataframe tbody tr th {\n",
       "        vertical-align: top;\n",
       "    }\n",
       "\n",
       "    .dataframe thead th {\n",
       "        text-align: right;\n",
       "    }\n",
       "</style>\n",
       "<table border=\"1\" class=\"dataframe\">\n",
       "  <thead>\n",
       "    <tr style=\"text-align: right;\">\n",
       "      <th></th>\n",
       "      <th>姓名</th>\n",
       "      <th>性别</th>\n",
       "      <th>身高</th>\n",
       "    </tr>\n",
       "  </thead>\n",
       "  <tbody>\n",
       "    <tr>\n",
       "      <th>001</th>\n",
       "      <td>小陈</td>\n",
       "      <td>男</td>\n",
       "      <td>172.5</td>\n",
       "    </tr>\n",
       "    <tr>\n",
       "      <th>002</th>\n",
       "      <td>小李</td>\n",
       "      <td>女</td>\n",
       "      <td>168.0</td>\n",
       "    </tr>\n",
       "    <tr>\n",
       "      <th>003</th>\n",
       "      <td>小王</td>\n",
       "      <td>男</td>\n",
       "      <td>178.2</td>\n",
       "    </tr>\n",
       "    <tr>\n",
       "      <th>004</th>\n",
       "      <td>小张</td>\n",
       "      <td>男</td>\n",
       "      <td>181.3</td>\n",
       "    </tr>\n",
       "    <tr>\n",
       "      <th>005</th>\n",
       "      <td>小赵</td>\n",
       "      <td>女</td>\n",
       "      <td>161.7</td>\n",
       "    </tr>\n",
       "    <tr>\n",
       "      <th>006</th>\n",
       "      <td>小周</td>\n",
       "      <td>女</td>\n",
       "      <td>178.9</td>\n",
       "    </tr>\n",
       "  </tbody>\n",
       "</table>\n",
       "</div>"
      ],
      "text/plain": [
       "     姓名 性别     身高\n",
       "001  小陈  男  172.5\n",
       "002  小李  女  168.0\n",
       "003  小王  男  178.2\n",
       "004  小张  男  181.3\n",
       "005  小赵  女  161.7\n",
       "006  小周  女  178.9"
      ]
     },
     "execution_count": 83,
     "metadata": {},
     "output_type": "execute_result"
    }
   ],
   "source": [
    "name = pd.Series([\"小陈\", \"小李\", \"小王\", \"小张\", \"小赵\", \"小周\"], index=[\"001\", \"002\", \"003\", \"004\", \"005\", \"006\"])\n",
    "gender = pd.Series([\"女\", \"女\", \"男\", \"男\", \"女\", \"男\"], index=[\"006\", \"005\", \"004\", \"003\", \"002\", \"001\"])\n",
    "height = pd.Series([172.5, 168.0, 178.2, 181.3, 161.7,178.9], index=[\"001\", \"002\", \"003\", \"004\", \"005\", \"006\"])\n",
    "students = pd.DataFrame({\"姓名\":name, \"性别\":gender,\"身高\":height})\n",
    "students1 = pd.DataFrame({\"姓名\":name, \"性别\":gender,\"身高\":height})\n",
    "students  # DataFrame由字典构成"
   ]
  },
  {
   "cell_type": "markdown",
   "id": "ffca0d4b",
   "metadata": {},
   "source": [
    "**用Series修改DataFrame**"
   ]
  },
  {
   "cell_type": "code",
   "execution_count": 84,
   "id": "ab3cae00",
   "metadata": {},
   "outputs": [
    {
     "data": {
      "text/html": [
       "<div>\n",
       "<style scoped>\n",
       "    .dataframe tbody tr th:only-of-type {\n",
       "        vertical-align: middle;\n",
       "    }\n",
       "\n",
       "    .dataframe tbody tr th {\n",
       "        vertical-align: top;\n",
       "    }\n",
       "\n",
       "    .dataframe thead th {\n",
       "        text-align: right;\n",
       "    }\n",
       "</style>\n",
       "<table border=\"1\" class=\"dataframe\">\n",
       "  <thead>\n",
       "    <tr style=\"text-align: right;\">\n",
       "      <th></th>\n",
       "      <th>姓名</th>\n",
       "      <th>性别</th>\n",
       "      <th>身高</th>\n",
       "    </tr>\n",
       "  </thead>\n",
       "  <tbody>\n",
       "    <tr>\n",
       "      <th>001</th>\n",
       "      <td>小陈</td>\n",
       "      <td>男</td>\n",
       "      <td>NaN</td>\n",
       "    </tr>\n",
       "    <tr>\n",
       "      <th>002</th>\n",
       "      <td>小李</td>\n",
       "      <td>女</td>\n",
       "      <td>NaN</td>\n",
       "    </tr>\n",
       "    <tr>\n",
       "      <th>003</th>\n",
       "      <td>小王</td>\n",
       "      <td>男</td>\n",
       "      <td>NaN</td>\n",
       "    </tr>\n",
       "    <tr>\n",
       "      <th>004</th>\n",
       "      <td>小张</td>\n",
       "      <td>男</td>\n",
       "      <td>NaN</td>\n",
       "    </tr>\n",
       "    <tr>\n",
       "      <th>005</th>\n",
       "      <td>小赵</td>\n",
       "      <td>女</td>\n",
       "      <td>NaN</td>\n",
       "    </tr>\n",
       "    <tr>\n",
       "      <th>006</th>\n",
       "      <td>小周</td>\n",
       "      <td>女</td>\n",
       "      <td>NaN</td>\n",
       "    </tr>\n",
       "  </tbody>\n",
       "</table>\n",
       "</div>"
      ],
      "text/plain": [
       "     姓名 性别  身高\n",
       "001  小陈  男 NaN\n",
       "002  小李  女 NaN\n",
       "003  小王  男 NaN\n",
       "004  小张  男 NaN\n",
       "005  小赵  女 NaN\n",
       "006  小周  女 NaN"
      ]
     },
     "execution_count": 84,
     "metadata": {},
     "output_type": "execute_result"
    }
   ],
   "source": [
    "students[\"身高\"] = pd.Series([162.5, 167.0, 178.2, 181.3, 161.7,178.9])\n",
    "students  # 不注明索引就会出现NaN"
   ]
  },
  {
   "cell_type": "code",
   "execution_count": 85,
   "id": "010d45b7",
   "metadata": {},
   "outputs": [
    {
     "data": {
      "text/html": [
       "<div>\n",
       "<style scoped>\n",
       "    .dataframe tbody tr th:only-of-type {\n",
       "        vertical-align: middle;\n",
       "    }\n",
       "\n",
       "    .dataframe tbody tr th {\n",
       "        vertical-align: top;\n",
       "    }\n",
       "\n",
       "    .dataframe thead th {\n",
       "        text-align: right;\n",
       "    }\n",
       "</style>\n",
       "<table border=\"1\" class=\"dataframe\">\n",
       "  <thead>\n",
       "    <tr style=\"text-align: right;\">\n",
       "      <th></th>\n",
       "      <th>姓名</th>\n",
       "      <th>性别</th>\n",
       "      <th>身高</th>\n",
       "    </tr>\n",
       "  </thead>\n",
       "  <tbody>\n",
       "    <tr>\n",
       "      <th>001</th>\n",
       "      <td>小陈</td>\n",
       "      <td>男</td>\n",
       "      <td>162.5</td>\n",
       "    </tr>\n",
       "    <tr>\n",
       "      <th>002</th>\n",
       "      <td>小李</td>\n",
       "      <td>女</td>\n",
       "      <td>167.0</td>\n",
       "    </tr>\n",
       "    <tr>\n",
       "      <th>003</th>\n",
       "      <td>小王</td>\n",
       "      <td>男</td>\n",
       "      <td>178.2</td>\n",
       "    </tr>\n",
       "    <tr>\n",
       "      <th>004</th>\n",
       "      <td>小张</td>\n",
       "      <td>男</td>\n",
       "      <td>181.3</td>\n",
       "    </tr>\n",
       "    <tr>\n",
       "      <th>005</th>\n",
       "      <td>小赵</td>\n",
       "      <td>女</td>\n",
       "      <td>161.7</td>\n",
       "    </tr>\n",
       "    <tr>\n",
       "      <th>006</th>\n",
       "      <td>小周</td>\n",
       "      <td>女</td>\n",
       "      <td>178.9</td>\n",
       "    </tr>\n",
       "  </tbody>\n",
       "</table>\n",
       "</div>"
      ],
      "text/plain": [
       "     姓名 性别     身高\n",
       "001  小陈  男  162.5\n",
       "002  小李  女  167.0\n",
       "003  小王  男  178.2\n",
       "004  小张  男  181.3\n",
       "005  小赵  女  161.7\n",
       "006  小周  女  178.9"
      ]
     },
     "execution_count": 85,
     "metadata": {},
     "output_type": "execute_result"
    }
   ],
   "source": [
    "students[\"身高\"] = pd.Series([162.5, 167.0, 178.2, 181.3, 161.7,178.9], index=[\"001\", \"002\", \"003\", \"004\", \"005\", \"006\"])\n",
    "students "
   ]
  },
  {
   "cell_type": "markdown",
   "id": "be219075",
   "metadata": {},
   "source": [
    "**用列表修改DataFrame的列**"
   ]
  },
  {
   "cell_type": "code",
   "execution_count": 86,
   "id": "52a98244",
   "metadata": {},
   "outputs": [
    {
     "data": {
      "text/html": [
       "<div>\n",
       "<style scoped>\n",
       "    .dataframe tbody tr th:only-of-type {\n",
       "        vertical-align: middle;\n",
       "    }\n",
       "\n",
       "    .dataframe tbody tr th {\n",
       "        vertical-align: top;\n",
       "    }\n",
       "\n",
       "    .dataframe thead th {\n",
       "        text-align: right;\n",
       "    }\n",
       "</style>\n",
       "<table border=\"1\" class=\"dataframe\">\n",
       "  <thead>\n",
       "    <tr style=\"text-align: right;\">\n",
       "      <th></th>\n",
       "      <th>姓名</th>\n",
       "      <th>性别</th>\n",
       "      <th>身高</th>\n",
       "    </tr>\n",
       "  </thead>\n",
       "  <tbody>\n",
       "    <tr>\n",
       "      <th>001</th>\n",
       "      <td>小陈</td>\n",
       "      <td>男</td>\n",
       "      <td>162.5</td>\n",
       "    </tr>\n",
       "    <tr>\n",
       "      <th>002</th>\n",
       "      <td>小李</td>\n",
       "      <td>女</td>\n",
       "      <td>167.0</td>\n",
       "    </tr>\n",
       "    <tr>\n",
       "      <th>003</th>\n",
       "      <td>小王</td>\n",
       "      <td>男</td>\n",
       "      <td>178.2</td>\n",
       "    </tr>\n",
       "    <tr>\n",
       "      <th>004</th>\n",
       "      <td>小张</td>\n",
       "      <td>男</td>\n",
       "      <td>181.3</td>\n",
       "    </tr>\n",
       "    <tr>\n",
       "      <th>005</th>\n",
       "      <td>小赵</td>\n",
       "      <td>女</td>\n",
       "      <td>161.7</td>\n",
       "    </tr>\n",
       "    <tr>\n",
       "      <th>006</th>\n",
       "      <td>小周</td>\n",
       "      <td>男</td>\n",
       "      <td>178.9</td>\n",
       "    </tr>\n",
       "  </tbody>\n",
       "</table>\n",
       "</div>"
      ],
      "text/plain": [
       "     姓名 性别     身高\n",
       "001  小陈  男  162.5\n",
       "002  小李  女  167.0\n",
       "003  小王  男  178.2\n",
       "004  小张  男  181.3\n",
       "005  小赵  女  161.7\n",
       "006  小周  男  178.9"
      ]
     },
     "execution_count": 86,
     "metadata": {},
     "output_type": "execute_result"
    }
   ],
   "source": [
    "students[\"性别\"] = [\"男\", \"女\", \"男\", \"男\", \"女\", \"男\"]\n",
    "students"
   ]
  },
  {
   "cell_type": "markdown",
   "id": "2a20a4b8",
   "metadata": {},
   "source": [
    "**添加DataFrame的列**"
   ]
  },
  {
   "cell_type": "code",
   "execution_count": 87,
   "id": "7bd21a14",
   "metadata": {},
   "outputs": [
    {
     "data": {
      "text/html": [
       "<div>\n",
       "<style scoped>\n",
       "    .dataframe tbody tr th:only-of-type {\n",
       "        vertical-align: middle;\n",
       "    }\n",
       "\n",
       "    .dataframe tbody tr th {\n",
       "        vertical-align: top;\n",
       "    }\n",
       "\n",
       "    .dataframe thead th {\n",
       "        text-align: right;\n",
       "    }\n",
       "</style>\n",
       "<table border=\"1\" class=\"dataframe\">\n",
       "  <thead>\n",
       "    <tr style=\"text-align: right;\">\n",
       "      <th></th>\n",
       "      <th>姓名</th>\n",
       "      <th>性别</th>\n",
       "      <th>身高</th>\n",
       "      <th>成绩</th>\n",
       "    </tr>\n",
       "  </thead>\n",
       "  <tbody>\n",
       "    <tr>\n",
       "      <th>001</th>\n",
       "      <td>小陈</td>\n",
       "      <td>男</td>\n",
       "      <td>162.5</td>\n",
       "      <td>92</td>\n",
       "    </tr>\n",
       "    <tr>\n",
       "      <th>002</th>\n",
       "      <td>小李</td>\n",
       "      <td>女</td>\n",
       "      <td>167.0</td>\n",
       "      <td>78</td>\n",
       "    </tr>\n",
       "    <tr>\n",
       "      <th>003</th>\n",
       "      <td>小王</td>\n",
       "      <td>男</td>\n",
       "      <td>178.2</td>\n",
       "      <td>98</td>\n",
       "    </tr>\n",
       "    <tr>\n",
       "      <th>004</th>\n",
       "      <td>小张</td>\n",
       "      <td>男</td>\n",
       "      <td>181.3</td>\n",
       "      <td>89</td>\n",
       "    </tr>\n",
       "    <tr>\n",
       "      <th>005</th>\n",
       "      <td>小赵</td>\n",
       "      <td>女</td>\n",
       "      <td>161.7</td>\n",
       "      <td>56</td>\n",
       "    </tr>\n",
       "    <tr>\n",
       "      <th>006</th>\n",
       "      <td>小周</td>\n",
       "      <td>男</td>\n",
       "      <td>178.9</td>\n",
       "      <td>78</td>\n",
       "    </tr>\n",
       "  </tbody>\n",
       "</table>\n",
       "</div>"
      ],
      "text/plain": [
       "     姓名 性别     身高  成绩\n",
       "001  小陈  男  162.5  92\n",
       "002  小李  女  167.0  78\n",
       "003  小王  男  178.2  98\n",
       "004  小张  男  181.3  89\n",
       "005  小赵  女  161.7  56\n",
       "006  小周  男  178.9  78"
      ]
     },
     "execution_count": 87,
     "metadata": {},
     "output_type": "execute_result"
    }
   ],
   "source": [
    "students[\"成绩\"] = [92, 78, 98, 89, 56, 78]\n",
    "students"
   ]
  },
  {
   "cell_type": "markdown",
   "id": "2e4ef125",
   "metadata": {},
   "source": [
    "**DataFrame中添加多列**"
   ]
  },
  {
   "cell_type": "code",
   "execution_count": 88,
   "id": "02a32444",
   "metadata": {},
   "outputs": [
    {
     "data": {
      "text/html": [
       "<div>\n",
       "<style scoped>\n",
       "    .dataframe tbody tr th:only-of-type {\n",
       "        vertical-align: middle;\n",
       "    }\n",
       "\n",
       "    .dataframe tbody tr th {\n",
       "        vertical-align: top;\n",
       "    }\n",
       "\n",
       "    .dataframe thead th {\n",
       "        text-align: right;\n",
       "    }\n",
       "</style>\n",
       "<table border=\"1\" class=\"dataframe\">\n",
       "  <thead>\n",
       "    <tr style=\"text-align: right;\">\n",
       "      <th></th>\n",
       "      <th>姓名</th>\n",
       "      <th>性别</th>\n",
       "      <th>身高</th>\n",
       "      <th>成绩1</th>\n",
       "      <th>身高1</th>\n",
       "    </tr>\n",
       "  </thead>\n",
       "  <tbody>\n",
       "    <tr>\n",
       "      <th>001</th>\n",
       "      <td>小陈</td>\n",
       "      <td>男</td>\n",
       "      <td>172.5</td>\n",
       "      <td>92</td>\n",
       "      <td>162.5</td>\n",
       "    </tr>\n",
       "    <tr>\n",
       "      <th>002</th>\n",
       "      <td>小李</td>\n",
       "      <td>女</td>\n",
       "      <td>168.0</td>\n",
       "      <td>78</td>\n",
       "      <td>167.0</td>\n",
       "    </tr>\n",
       "    <tr>\n",
       "      <th>003</th>\n",
       "      <td>小王</td>\n",
       "      <td>男</td>\n",
       "      <td>178.2</td>\n",
       "      <td>98</td>\n",
       "      <td>178.2</td>\n",
       "    </tr>\n",
       "    <tr>\n",
       "      <th>004</th>\n",
       "      <td>小张</td>\n",
       "      <td>男</td>\n",
       "      <td>181.3</td>\n",
       "      <td>89</td>\n",
       "      <td>181.3</td>\n",
       "    </tr>\n",
       "    <tr>\n",
       "      <th>005</th>\n",
       "      <td>小赵</td>\n",
       "      <td>女</td>\n",
       "      <td>161.7</td>\n",
       "      <td>56</td>\n",
       "      <td>161.7</td>\n",
       "    </tr>\n",
       "    <tr>\n",
       "      <th>006</th>\n",
       "      <td>小周</td>\n",
       "      <td>女</td>\n",
       "      <td>178.9</td>\n",
       "      <td>78</td>\n",
       "      <td>178.9</td>\n",
       "    </tr>\n",
       "  </tbody>\n",
       "</table>\n",
       "</div>"
      ],
      "text/plain": [
       "     姓名 性别     身高  成绩1    身高1\n",
       "001  小陈  男  172.5   92  162.5\n",
       "002  小李  女  168.0   78  167.0\n",
       "003  小王  男  178.2   98  178.2\n",
       "004  小张  男  181.3   89  181.3\n",
       "005  小赵  女  161.7   56  161.7\n",
       "006  小周  女  178.9   78  178.9"
      ]
     },
     "execution_count": 88,
     "metadata": {},
     "output_type": "execute_result"
    }
   ],
   "source": [
    "students1[[\"成绩1\", \"身高1\"]] = students[[\"成绩\", \"身高\"]]\n",
    "students1"
   ]
  },
  {
   "cell_type": "markdown",
   "id": "c707d678",
   "metadata": {},
   "source": [
    "**DataFrame修改行**"
   ]
  },
  {
   "cell_type": "code",
   "execution_count": 89,
   "id": "0c2c6560",
   "metadata": {},
   "outputs": [
    {
     "data": {
      "text/html": [
       "<div>\n",
       "<style scoped>\n",
       "    .dataframe tbody tr th:only-of-type {\n",
       "        vertical-align: middle;\n",
       "    }\n",
       "\n",
       "    .dataframe tbody tr th {\n",
       "        vertical-align: top;\n",
       "    }\n",
       "\n",
       "    .dataframe thead th {\n",
       "        text-align: right;\n",
       "    }\n",
       "</style>\n",
       "<table border=\"1\" class=\"dataframe\">\n",
       "  <thead>\n",
       "    <tr style=\"text-align: right;\">\n",
       "      <th></th>\n",
       "      <th>姓名</th>\n",
       "      <th>性别</th>\n",
       "      <th>身高</th>\n",
       "      <th>成绩</th>\n",
       "    </tr>\n",
       "  </thead>\n",
       "  <tbody>\n",
       "    <tr>\n",
       "      <th>001</th>\n",
       "      <td>小赵</td>\n",
       "      <td>男</td>\n",
       "      <td>178.4</td>\n",
       "      <td>89</td>\n",
       "    </tr>\n",
       "    <tr>\n",
       "      <th>002</th>\n",
       "      <td>小李</td>\n",
       "      <td>女</td>\n",
       "      <td>167.0</td>\n",
       "      <td>78</td>\n",
       "    </tr>\n",
       "    <tr>\n",
       "      <th>003</th>\n",
       "      <td>小王</td>\n",
       "      <td>男</td>\n",
       "      <td>178.2</td>\n",
       "      <td>98</td>\n",
       "    </tr>\n",
       "    <tr>\n",
       "      <th>004</th>\n",
       "      <td>小张</td>\n",
       "      <td>男</td>\n",
       "      <td>181.3</td>\n",
       "      <td>89</td>\n",
       "    </tr>\n",
       "    <tr>\n",
       "      <th>005</th>\n",
       "      <td>小赵</td>\n",
       "      <td>女</td>\n",
       "      <td>161.7</td>\n",
       "      <td>56</td>\n",
       "    </tr>\n",
       "    <tr>\n",
       "      <th>006</th>\n",
       "      <td>小周</td>\n",
       "      <td>男</td>\n",
       "      <td>178.9</td>\n",
       "      <td>78</td>\n",
       "    </tr>\n",
       "  </tbody>\n",
       "</table>\n",
       "</div>"
      ],
      "text/plain": [
       "     姓名 性别     身高  成绩\n",
       "001  小赵  男  178.4  89\n",
       "002  小李  女  167.0  78\n",
       "003  小王  男  178.2  98\n",
       "004  小张  男  181.3  89\n",
       "005  小赵  女  161.7  56\n",
       "006  小周  男  178.9  78"
      ]
     },
     "execution_count": 89,
     "metadata": {},
     "output_type": "execute_result"
    }
   ],
   "source": [
    "students.loc[\"001\"] = pd.Series([\"小赵\", \"男\", 178.4, 89], index=[\"姓名\", \"性别\", \"身高\", \"成绩\"])\n",
    "students"
   ]
  },
  {
   "cell_type": "markdown",
   "id": "9b9c2bf4",
   "metadata": {},
   "source": [
    "**DataFrame中添加行**"
   ]
  },
  {
   "cell_type": "code",
   "execution_count": 90,
   "id": "fceb7c58",
   "metadata": {},
   "outputs": [
    {
     "data": {
      "text/html": [
       "<div>\n",
       "<style scoped>\n",
       "    .dataframe tbody tr th:only-of-type {\n",
       "        vertical-align: middle;\n",
       "    }\n",
       "\n",
       "    .dataframe tbody tr th {\n",
       "        vertical-align: top;\n",
       "    }\n",
       "\n",
       "    .dataframe thead th {\n",
       "        text-align: right;\n",
       "    }\n",
       "</style>\n",
       "<table border=\"1\" class=\"dataframe\">\n",
       "  <thead>\n",
       "    <tr style=\"text-align: right;\">\n",
       "      <th></th>\n",
       "      <th>姓名</th>\n",
       "      <th>性别</th>\n",
       "      <th>身高</th>\n",
       "      <th>成绩</th>\n",
       "    </tr>\n",
       "  </thead>\n",
       "  <tbody>\n",
       "    <tr>\n",
       "      <th>001</th>\n",
       "      <td>小赵</td>\n",
       "      <td>男</td>\n",
       "      <td>178.4</td>\n",
       "      <td>89</td>\n",
       "    </tr>\n",
       "    <tr>\n",
       "      <th>002</th>\n",
       "      <td>小李</td>\n",
       "      <td>女</td>\n",
       "      <td>167.0</td>\n",
       "      <td>78</td>\n",
       "    </tr>\n",
       "    <tr>\n",
       "      <th>003</th>\n",
       "      <td>小王</td>\n",
       "      <td>男</td>\n",
       "      <td>178.2</td>\n",
       "      <td>98</td>\n",
       "    </tr>\n",
       "    <tr>\n",
       "      <th>004</th>\n",
       "      <td>小张</td>\n",
       "      <td>男</td>\n",
       "      <td>181.3</td>\n",
       "      <td>89</td>\n",
       "    </tr>\n",
       "    <tr>\n",
       "      <th>005</th>\n",
       "      <td>小赵</td>\n",
       "      <td>女</td>\n",
       "      <td>161.7</td>\n",
       "      <td>56</td>\n",
       "    </tr>\n",
       "    <tr>\n",
       "      <th>006</th>\n",
       "      <td>小周</td>\n",
       "      <td>男</td>\n",
       "      <td>178.9</td>\n",
       "      <td>78</td>\n",
       "    </tr>\n",
       "  </tbody>\n",
       "</table>\n",
       "</div>"
      ],
      "text/plain": [
       "     姓名 性别     身高  成绩\n",
       "001  小赵  男  178.4  89\n",
       "002  小李  女  167.0  78\n",
       "003  小王  男  178.2  98\n",
       "004  小张  男  181.3  89\n",
       "005  小赵  女  161.7  56\n",
       "006  小周  男  178.9  78"
      ]
     },
     "execution_count": 90,
     "metadata": {},
     "output_type": "execute_result"
    }
   ],
   "source": [
    "students.loc[\"001\"] = [\"小赵\", \"男\", 178.4, 89]\n",
    "students"
   ]
  },
  {
   "cell_type": "code",
   "execution_count": 91,
   "id": "f273e4d4",
   "metadata": {},
   "outputs": [
    {
     "data": {
      "text/html": [
       "<div>\n",
       "<style scoped>\n",
       "    .dataframe tbody tr th:only-of-type {\n",
       "        vertical-align: middle;\n",
       "    }\n",
       "\n",
       "    .dataframe tbody tr th {\n",
       "        vertical-align: top;\n",
       "    }\n",
       "\n",
       "    .dataframe thead th {\n",
       "        text-align: right;\n",
       "    }\n",
       "</style>\n",
       "<table border=\"1\" class=\"dataframe\">\n",
       "  <thead>\n",
       "    <tr style=\"text-align: right;\">\n",
       "      <th></th>\n",
       "      <th>姓名</th>\n",
       "      <th>性别</th>\n",
       "      <th>身高</th>\n",
       "      <th>成绩</th>\n",
       "    </tr>\n",
       "  </thead>\n",
       "  <tbody>\n",
       "    <tr>\n",
       "      <th>001</th>\n",
       "      <td>小赵</td>\n",
       "      <td>男</td>\n",
       "      <td>178.4</td>\n",
       "      <td>89</td>\n",
       "    </tr>\n",
       "    <tr>\n",
       "      <th>002</th>\n",
       "      <td>小李</td>\n",
       "      <td>女</td>\n",
       "      <td>167.0</td>\n",
       "      <td>78</td>\n",
       "    </tr>\n",
       "    <tr>\n",
       "      <th>003</th>\n",
       "      <td>小王</td>\n",
       "      <td>男</td>\n",
       "      <td>178.2</td>\n",
       "      <td>98</td>\n",
       "    </tr>\n",
       "    <tr>\n",
       "      <th>004</th>\n",
       "      <td>小张</td>\n",
       "      <td>男</td>\n",
       "      <td>181.3</td>\n",
       "      <td>89</td>\n",
       "    </tr>\n",
       "    <tr>\n",
       "      <th>005</th>\n",
       "      <td>小赵</td>\n",
       "      <td>女</td>\n",
       "      <td>161.7</td>\n",
       "      <td>56</td>\n",
       "    </tr>\n",
       "    <tr>\n",
       "      <th>006</th>\n",
       "      <td>小刘</td>\n",
       "      <td>女</td>\n",
       "      <td>171.4</td>\n",
       "      <td>79</td>\n",
       "    </tr>\n",
       "  </tbody>\n",
       "</table>\n",
       "</div>"
      ],
      "text/plain": [
       "     姓名 性别     身高  成绩\n",
       "001  小赵  男  178.4  89\n",
       "002  小李  女  167.0  78\n",
       "003  小王  男  178.2  98\n",
       "004  小张  男  181.3  89\n",
       "005  小赵  女  161.7  56\n",
       "006  小刘  女  171.4  79"
      ]
     },
     "execution_count": 91,
     "metadata": {},
     "output_type": "execute_result"
    }
   ],
   "source": [
    "students.loc[\"006\"] = pd.Series([\"小刘\", \"女\", 171.4, 79], index=[\"姓名\", \"性别\", \"身高\", \"成绩\"])\n",
    "students"
   ]
  },
  {
   "cell_type": "code",
   "execution_count": 92,
   "id": "6afc12c1",
   "metadata": {},
   "outputs": [
    {
     "data": {
      "text/html": [
       "<div>\n",
       "<style scoped>\n",
       "    .dataframe tbody tr th:only-of-type {\n",
       "        vertical-align: middle;\n",
       "    }\n",
       "\n",
       "    .dataframe tbody tr th {\n",
       "        vertical-align: top;\n",
       "    }\n",
       "\n",
       "    .dataframe thead th {\n",
       "        text-align: right;\n",
       "    }\n",
       "</style>\n",
       "<table border=\"1\" class=\"dataframe\">\n",
       "  <thead>\n",
       "    <tr style=\"text-align: right;\">\n",
       "      <th></th>\n",
       "      <th>姓名</th>\n",
       "      <th>性别</th>\n",
       "      <th>身高</th>\n",
       "      <th>成绩</th>\n",
       "    </tr>\n",
       "  </thead>\n",
       "  <tbody>\n",
       "    <tr>\n",
       "      <th>001</th>\n",
       "      <td>小赵</td>\n",
       "      <td>男</td>\n",
       "      <td>178.4</td>\n",
       "      <td>89</td>\n",
       "    </tr>\n",
       "    <tr>\n",
       "      <th>002</th>\n",
       "      <td>小李</td>\n",
       "      <td>女</td>\n",
       "      <td>167.0</td>\n",
       "      <td>78</td>\n",
       "    </tr>\n",
       "    <tr>\n",
       "      <th>003</th>\n",
       "      <td>小王</td>\n",
       "      <td>男</td>\n",
       "      <td>178.2</td>\n",
       "      <td>98</td>\n",
       "    </tr>\n",
       "    <tr>\n",
       "      <th>004</th>\n",
       "      <td>小张</td>\n",
       "      <td>男</td>\n",
       "      <td>181.3</td>\n",
       "      <td>89</td>\n",
       "    </tr>\n",
       "    <tr>\n",
       "      <th>005</th>\n",
       "      <td>小赵</td>\n",
       "      <td>女</td>\n",
       "      <td>161.7</td>\n",
       "      <td>56</td>\n",
       "    </tr>\n",
       "    <tr>\n",
       "      <th>006</th>\n",
       "      <td>小刘</td>\n",
       "      <td>女</td>\n",
       "      <td>171.4</td>\n",
       "      <td>79</td>\n",
       "    </tr>\n",
       "    <tr>\n",
       "      <th>007</th>\n",
       "      <td>小温</td>\n",
       "      <td>女</td>\n",
       "      <td>171.4</td>\n",
       "      <td>79</td>\n",
       "    </tr>\n",
       "  </tbody>\n",
       "</table>\n",
       "</div>"
      ],
      "text/plain": [
       "     姓名 性别     身高  成绩\n",
       "001  小赵  男  178.4  89\n",
       "002  小李  女  167.0  78\n",
       "003  小王  男  178.2  98\n",
       "004  小张  男  181.3  89\n",
       "005  小赵  女  161.7  56\n",
       "006  小刘  女  171.4  79\n",
       "007  小温  女  171.4  79"
      ]
     },
     "execution_count": 92,
     "metadata": {},
     "output_type": "execute_result"
    }
   ],
   "source": [
    "students.loc[\"007\"] = [\"小温\", \"女\", 171.4, 79]\n",
    "students"
   ]
  },
  {
   "cell_type": "markdown",
   "id": "c1b75870",
   "metadata": {},
   "source": [
    "<font color=\"#dd000\">**DataFrame中改变行最好用loc，因为iloc只能对存在的进行操作**</front>"
   ]
  },
  {
   "cell_type": "markdown",
   "id": "0185efb6",
   "metadata": {},
   "source": [
    "**DataFrame中删除行或列：drop不会改变原来的DataFrame，而是会返回一个新的DataFrame**"
   ]
  },
  {
   "cell_type": "code",
   "execution_count": 93,
   "id": "e8ceb6b8",
   "metadata": {},
   "outputs": [
    {
     "data": {
      "text/html": [
       "<div>\n",
       "<style scoped>\n",
       "    .dataframe tbody tr th:only-of-type {\n",
       "        vertical-align: middle;\n",
       "    }\n",
       "\n",
       "    .dataframe tbody tr th {\n",
       "        vertical-align: top;\n",
       "    }\n",
       "\n",
       "    .dataframe thead th {\n",
       "        text-align: right;\n",
       "    }\n",
       "</style>\n",
       "<table border=\"1\" class=\"dataframe\">\n",
       "  <thead>\n",
       "    <tr style=\"text-align: right;\">\n",
       "      <th></th>\n",
       "      <th>姓名</th>\n",
       "      <th>性别</th>\n",
       "      <th>身高</th>\n",
       "      <th>成绩</th>\n",
       "    </tr>\n",
       "  </thead>\n",
       "  <tbody>\n",
       "    <tr>\n",
       "      <th>001</th>\n",
       "      <td>小赵</td>\n",
       "      <td>男</td>\n",
       "      <td>178.4</td>\n",
       "      <td>89</td>\n",
       "    </tr>\n",
       "    <tr>\n",
       "      <th>002</th>\n",
       "      <td>小李</td>\n",
       "      <td>女</td>\n",
       "      <td>167.0</td>\n",
       "      <td>78</td>\n",
       "    </tr>\n",
       "    <tr>\n",
       "      <th>004</th>\n",
       "      <td>小张</td>\n",
       "      <td>男</td>\n",
       "      <td>181.3</td>\n",
       "      <td>89</td>\n",
       "    </tr>\n",
       "    <tr>\n",
       "      <th>006</th>\n",
       "      <td>小刘</td>\n",
       "      <td>女</td>\n",
       "      <td>171.4</td>\n",
       "      <td>79</td>\n",
       "    </tr>\n",
       "    <tr>\n",
       "      <th>007</th>\n",
       "      <td>小温</td>\n",
       "      <td>女</td>\n",
       "      <td>171.4</td>\n",
       "      <td>79</td>\n",
       "    </tr>\n",
       "  </tbody>\n",
       "</table>\n",
       "</div>"
      ],
      "text/plain": [
       "     姓名 性别     身高  成绩\n",
       "001  小赵  男  178.4  89\n",
       "002  小李  女  167.0  78\n",
       "004  小张  男  181.3  89\n",
       "006  小刘  女  171.4  79\n",
       "007  小温  女  171.4  79"
      ]
     },
     "execution_count": 93,
     "metadata": {},
     "output_type": "execute_result"
    }
   ],
   "source": [
    "students.drop([\"003\",\"005\"])"
   ]
  },
  {
   "cell_type": "markdown",
   "id": "619986a7",
   "metadata": {},
   "source": [
    "**删除列要加 axis=1**"
   ]
  },
  {
   "cell_type": "code",
   "execution_count": 94,
   "id": "07078fc8",
   "metadata": {},
   "outputs": [
    {
     "data": {
      "text/html": [
       "<div>\n",
       "<style scoped>\n",
       "    .dataframe tbody tr th:only-of-type {\n",
       "        vertical-align: middle;\n",
       "    }\n",
       "\n",
       "    .dataframe tbody tr th {\n",
       "        vertical-align: top;\n",
       "    }\n",
       "\n",
       "    .dataframe thead th {\n",
       "        text-align: right;\n",
       "    }\n",
       "</style>\n",
       "<table border=\"1\" class=\"dataframe\">\n",
       "  <thead>\n",
       "    <tr style=\"text-align: right;\">\n",
       "      <th></th>\n",
       "      <th>姓名</th>\n",
       "      <th>成绩</th>\n",
       "    </tr>\n",
       "  </thead>\n",
       "  <tbody>\n",
       "    <tr>\n",
       "      <th>001</th>\n",
       "      <td>小赵</td>\n",
       "      <td>89</td>\n",
       "    </tr>\n",
       "    <tr>\n",
       "      <th>002</th>\n",
       "      <td>小李</td>\n",
       "      <td>78</td>\n",
       "    </tr>\n",
       "    <tr>\n",
       "      <th>003</th>\n",
       "      <td>小王</td>\n",
       "      <td>98</td>\n",
       "    </tr>\n",
       "    <tr>\n",
       "      <th>004</th>\n",
       "      <td>小张</td>\n",
       "      <td>89</td>\n",
       "    </tr>\n",
       "    <tr>\n",
       "      <th>005</th>\n",
       "      <td>小赵</td>\n",
       "      <td>56</td>\n",
       "    </tr>\n",
       "    <tr>\n",
       "      <th>006</th>\n",
       "      <td>小刘</td>\n",
       "      <td>79</td>\n",
       "    </tr>\n",
       "    <tr>\n",
       "      <th>007</th>\n",
       "      <td>小温</td>\n",
       "      <td>79</td>\n",
       "    </tr>\n",
       "  </tbody>\n",
       "</table>\n",
       "</div>"
      ],
      "text/plain": [
       "     姓名  成绩\n",
       "001  小赵  89\n",
       "002  小李  78\n",
       "003  小王  98\n",
       "004  小张  89\n",
       "005  小赵  56\n",
       "006  小刘  79\n",
       "007  小温  79"
      ]
     },
     "execution_count": 94,
     "metadata": {},
     "output_type": "execute_result"
    }
   ],
   "source": [
    "students.drop([\"性别\",\"身高\"], axis=1)\n",
    "# axis表示轴，axis=0表示纵向进行操作，axis=1表示横向进行操作，删除列。DataFrame默认纵向进行操作"
   ]
  },
  {
   "cell_type": "markdown",
   "id": "1f4b2a92",
   "metadata": {},
   "source": [
    "## 3.3 DataFrame之间的操作"
   ]
  },
  {
   "cell_type": "markdown",
   "id": "f4092ee9",
   "metadata": {},
   "source": [
    "DataFrame加DataFrame时会根据索引以及列名来对齐，索引和列都需要考虑到。对不上的就会出现NaN。"
   ]
  },
  {
   "cell_type": "code",
   "execution_count": 95,
   "id": "79b45c3e",
   "metadata": {},
   "outputs": [],
   "source": [
    "import pandas as pd"
   ]
  },
  {
   "cell_type": "code",
   "execution_count": 96,
   "id": "92a6deb6",
   "metadata": {},
   "outputs": [],
   "source": [
    "l1 = pd.Series([0, 4, 8, 12], index=[\"001\", \"003\", \"005\", \"007\"])\n",
    "l2 = pd.Series([1, 5, 9, 13], index=[\"001\", \"003\", \"005\", \"007\"])\n",
    "l3 = pd.Series([2, 6, 10, 14], index=[\"001\", \"003\", \"005\", \"007\"])\n",
    "l4 = pd.Series([3, 7, 11, 15], index=[\"001\", \"003\", \"005\", \"007\"])"
   ]
  },
  {
   "cell_type": "code",
   "execution_count": 97,
   "id": "86707c49",
   "metadata": {},
   "outputs": [
    {
     "data": {
      "text/html": [
       "<div>\n",
       "<style scoped>\n",
       "    .dataframe tbody tr th:only-of-type {\n",
       "        vertical-align: middle;\n",
       "    }\n",
       "\n",
       "    .dataframe tbody tr th {\n",
       "        vertical-align: top;\n",
       "    }\n",
       "\n",
       "    .dataframe thead th {\n",
       "        text-align: right;\n",
       "    }\n",
       "</style>\n",
       "<table border=\"1\" class=\"dataframe\">\n",
       "  <thead>\n",
       "    <tr style=\"text-align: right;\">\n",
       "      <th></th>\n",
       "      <th>a</th>\n",
       "      <th>b</th>\n",
       "      <th>c</th>\n",
       "      <th>d</th>\n",
       "    </tr>\n",
       "  </thead>\n",
       "  <tbody>\n",
       "    <tr>\n",
       "      <th>001</th>\n",
       "      <td>0</td>\n",
       "      <td>1</td>\n",
       "      <td>2</td>\n",
       "      <td>3</td>\n",
       "    </tr>\n",
       "    <tr>\n",
       "      <th>003</th>\n",
       "      <td>4</td>\n",
       "      <td>5</td>\n",
       "      <td>6</td>\n",
       "      <td>7</td>\n",
       "    </tr>\n",
       "    <tr>\n",
       "      <th>005</th>\n",
       "      <td>8</td>\n",
       "      <td>9</td>\n",
       "      <td>10</td>\n",
       "      <td>11</td>\n",
       "    </tr>\n",
       "    <tr>\n",
       "      <th>007</th>\n",
       "      <td>12</td>\n",
       "      <td>13</td>\n",
       "      <td>14</td>\n",
       "      <td>15</td>\n",
       "    </tr>\n",
       "  </tbody>\n",
       "</table>\n",
       "</div>"
      ],
      "text/plain": [
       "      a   b   c   d\n",
       "001   0   1   2   3\n",
       "003   4   5   6   7\n",
       "005   8   9  10  11\n",
       "007  12  13  14  15"
      ]
     },
     "execution_count": 97,
     "metadata": {},
     "output_type": "execute_result"
    }
   ],
   "source": [
    "df1 = pd.DataFrame({\"a\":l1, \"b\":l2, \"c\":l3, \"d\":l4})\n",
    "df1"
   ]
  },
  {
   "cell_type": "code",
   "execution_count": 98,
   "id": "298aeb30",
   "metadata": {},
   "outputs": [],
   "source": [
    "l_1 = pd.Series([0, 3, 6])\n",
    "l_2 = pd.Series([1, 4, 7])\n",
    "l_3 = pd.Series([2, 5, 8])"
   ]
  },
  {
   "cell_type": "code",
   "execution_count": 99,
   "id": "a1ecd415",
   "metadata": {},
   "outputs": [
    {
     "data": {
      "text/html": [
       "<div>\n",
       "<style scoped>\n",
       "    .dataframe tbody tr th:only-of-type {\n",
       "        vertical-align: middle;\n",
       "    }\n",
       "\n",
       "    .dataframe tbody tr th {\n",
       "        vertical-align: top;\n",
       "    }\n",
       "\n",
       "    .dataframe thead th {\n",
       "        text-align: right;\n",
       "    }\n",
       "</style>\n",
       "<table border=\"1\" class=\"dataframe\">\n",
       "  <thead>\n",
       "    <tr style=\"text-align: right;\">\n",
       "      <th></th>\n",
       "      <th>a</th>\n",
       "      <th>b</th>\n",
       "      <th>c</th>\n",
       "    </tr>\n",
       "  </thead>\n",
       "  <tbody>\n",
       "    <tr>\n",
       "      <th>0</th>\n",
       "      <td>0</td>\n",
       "      <td>1</td>\n",
       "      <td>2</td>\n",
       "    </tr>\n",
       "    <tr>\n",
       "      <th>1</th>\n",
       "      <td>3</td>\n",
       "      <td>4</td>\n",
       "      <td>5</td>\n",
       "    </tr>\n",
       "    <tr>\n",
       "      <th>2</th>\n",
       "      <td>6</td>\n",
       "      <td>7</td>\n",
       "      <td>8</td>\n",
       "    </tr>\n",
       "  </tbody>\n",
       "</table>\n",
       "</div>"
      ],
      "text/plain": [
       "   a  b  c\n",
       "0  0  1  2\n",
       "1  3  4  5\n",
       "2  6  7  8"
      ]
     },
     "execution_count": 99,
     "metadata": {},
     "output_type": "execute_result"
    }
   ],
   "source": [
    "df2 = pd.DataFrame({\"a\":l_1, \"b\":l_2, \"c\":l_3})\n",
    "df2"
   ]
  },
  {
   "cell_type": "code",
   "execution_count": 100,
   "id": "87909946",
   "metadata": {},
   "outputs": [
    {
     "data": {
      "text/html": [
       "<div>\n",
       "<style scoped>\n",
       "    .dataframe tbody tr th:only-of-type {\n",
       "        vertical-align: middle;\n",
       "    }\n",
       "\n",
       "    .dataframe tbody tr th {\n",
       "        vertical-align: top;\n",
       "    }\n",
       "\n",
       "    .dataframe thead th {\n",
       "        text-align: right;\n",
       "    }\n",
       "</style>\n",
       "<table border=\"1\" class=\"dataframe\">\n",
       "  <thead>\n",
       "    <tr style=\"text-align: right;\">\n",
       "      <th></th>\n",
       "      <th>a</th>\n",
       "      <th>b</th>\n",
       "      <th>c</th>\n",
       "      <th>d</th>\n",
       "    </tr>\n",
       "  </thead>\n",
       "  <tbody>\n",
       "    <tr>\n",
       "      <th>001</th>\n",
       "      <td>NaN</td>\n",
       "      <td>NaN</td>\n",
       "      <td>NaN</td>\n",
       "      <td>NaN</td>\n",
       "    </tr>\n",
       "    <tr>\n",
       "      <th>003</th>\n",
       "      <td>NaN</td>\n",
       "      <td>NaN</td>\n",
       "      <td>NaN</td>\n",
       "      <td>NaN</td>\n",
       "    </tr>\n",
       "    <tr>\n",
       "      <th>005</th>\n",
       "      <td>NaN</td>\n",
       "      <td>NaN</td>\n",
       "      <td>NaN</td>\n",
       "      <td>NaN</td>\n",
       "    </tr>\n",
       "    <tr>\n",
       "      <th>007</th>\n",
       "      <td>NaN</td>\n",
       "      <td>NaN</td>\n",
       "      <td>NaN</td>\n",
       "      <td>NaN</td>\n",
       "    </tr>\n",
       "    <tr>\n",
       "      <th>0</th>\n",
       "      <td>NaN</td>\n",
       "      <td>NaN</td>\n",
       "      <td>NaN</td>\n",
       "      <td>NaN</td>\n",
       "    </tr>\n",
       "    <tr>\n",
       "      <th>1</th>\n",
       "      <td>NaN</td>\n",
       "      <td>NaN</td>\n",
       "      <td>NaN</td>\n",
       "      <td>NaN</td>\n",
       "    </tr>\n",
       "    <tr>\n",
       "      <th>2</th>\n",
       "      <td>NaN</td>\n",
       "      <td>NaN</td>\n",
       "      <td>NaN</td>\n",
       "      <td>NaN</td>\n",
       "    </tr>\n",
       "  </tbody>\n",
       "</table>\n",
       "</div>"
      ],
      "text/plain": [
       "      a   b   c   d\n",
       "001 NaN NaN NaN NaN\n",
       "003 NaN NaN NaN NaN\n",
       "005 NaN NaN NaN NaN\n",
       "007 NaN NaN NaN NaN\n",
       "0   NaN NaN NaN NaN\n",
       "1   NaN NaN NaN NaN\n",
       "2   NaN NaN NaN NaN"
      ]
     },
     "execution_count": 100,
     "metadata": {},
     "output_type": "execute_result"
    }
   ],
   "source": [
    "df1 + df2"
   ]
  },
  {
   "cell_type": "code",
   "execution_count": 101,
   "id": "953b4e46",
   "metadata": {},
   "outputs": [
    {
     "data": {
      "text/html": [
       "<div>\n",
       "<style scoped>\n",
       "    .dataframe tbody tr th:only-of-type {\n",
       "        vertical-align: middle;\n",
       "    }\n",
       "\n",
       "    .dataframe tbody tr th {\n",
       "        vertical-align: top;\n",
       "    }\n",
       "\n",
       "    .dataframe thead th {\n",
       "        text-align: right;\n",
       "    }\n",
       "</style>\n",
       "<table border=\"1\" class=\"dataframe\">\n",
       "  <thead>\n",
       "    <tr style=\"text-align: right;\">\n",
       "      <th></th>\n",
       "      <th>a</th>\n",
       "      <th>b</th>\n",
       "      <th>c</th>\n",
       "      <th>d</th>\n",
       "    </tr>\n",
       "  </thead>\n",
       "  <tbody>\n",
       "    <tr>\n",
       "      <th>001</th>\n",
       "      <td>0.0</td>\n",
       "      <td>1.0</td>\n",
       "      <td>2.0</td>\n",
       "      <td>3.0</td>\n",
       "    </tr>\n",
       "    <tr>\n",
       "      <th>003</th>\n",
       "      <td>4.0</td>\n",
       "      <td>5.0</td>\n",
       "      <td>6.0</td>\n",
       "      <td>7.0</td>\n",
       "    </tr>\n",
       "    <tr>\n",
       "      <th>005</th>\n",
       "      <td>8.0</td>\n",
       "      <td>9.0</td>\n",
       "      <td>10.0</td>\n",
       "      <td>11.0</td>\n",
       "    </tr>\n",
       "    <tr>\n",
       "      <th>007</th>\n",
       "      <td>12.0</td>\n",
       "      <td>13.0</td>\n",
       "      <td>14.0</td>\n",
       "      <td>15.0</td>\n",
       "    </tr>\n",
       "    <tr>\n",
       "      <th>0</th>\n",
       "      <td>0.0</td>\n",
       "      <td>1.0</td>\n",
       "      <td>2.0</td>\n",
       "      <td>NaN</td>\n",
       "    </tr>\n",
       "    <tr>\n",
       "      <th>1</th>\n",
       "      <td>3.0</td>\n",
       "      <td>4.0</td>\n",
       "      <td>5.0</td>\n",
       "      <td>NaN</td>\n",
       "    </tr>\n",
       "    <tr>\n",
       "      <th>2</th>\n",
       "      <td>6.0</td>\n",
       "      <td>7.0</td>\n",
       "      <td>8.0</td>\n",
       "      <td>NaN</td>\n",
       "    </tr>\n",
       "  </tbody>\n",
       "</table>\n",
       "</div>"
      ],
      "text/plain": [
       "        a     b     c     d\n",
       "001   0.0   1.0   2.0   3.0\n",
       "003   4.0   5.0   6.0   7.0\n",
       "005   8.0   9.0  10.0  11.0\n",
       "007  12.0  13.0  14.0  15.0\n",
       "0     0.0   1.0   2.0   NaN\n",
       "1     3.0   4.0   5.0   NaN\n",
       "2     6.0   7.0   8.0   NaN"
      ]
     },
     "execution_count": 101,
     "metadata": {},
     "output_type": "execute_result"
    }
   ],
   "source": [
    "df1.add(df2, fill_value=0)"
   ]
  },
  {
   "cell_type": "code",
   "execution_count": 102,
   "id": "71f3c796",
   "metadata": {},
   "outputs": [
    {
     "data": {
      "text/html": [
       "<div>\n",
       "<style scoped>\n",
       "    .dataframe tbody tr th:only-of-type {\n",
       "        vertical-align: middle;\n",
       "    }\n",
       "\n",
       "    .dataframe tbody tr th {\n",
       "        vertical-align: top;\n",
       "    }\n",
       "\n",
       "    .dataframe thead th {\n",
       "        text-align: right;\n",
       "    }\n",
       "</style>\n",
       "<table border=\"1\" class=\"dataframe\">\n",
       "  <thead>\n",
       "    <tr style=\"text-align: right;\">\n",
       "      <th></th>\n",
       "      <th>a</th>\n",
       "      <th>b</th>\n",
       "      <th>c</th>\n",
       "      <th>d</th>\n",
       "    </tr>\n",
       "  </thead>\n",
       "  <tbody>\n",
       "    <tr>\n",
       "      <th>001</th>\n",
       "      <td>0.0</td>\n",
       "      <td>1.0</td>\n",
       "      <td>2.0</td>\n",
       "      <td>3.0</td>\n",
       "    </tr>\n",
       "    <tr>\n",
       "      <th>003</th>\n",
       "      <td>4.0</td>\n",
       "      <td>5.0</td>\n",
       "      <td>6.0</td>\n",
       "      <td>7.0</td>\n",
       "    </tr>\n",
       "    <tr>\n",
       "      <th>005</th>\n",
       "      <td>8.0</td>\n",
       "      <td>9.0</td>\n",
       "      <td>10.0</td>\n",
       "      <td>11.0</td>\n",
       "    </tr>\n",
       "    <tr>\n",
       "      <th>007</th>\n",
       "      <td>12.0</td>\n",
       "      <td>13.0</td>\n",
       "      <td>14.0</td>\n",
       "      <td>15.0</td>\n",
       "    </tr>\n",
       "    <tr>\n",
       "      <th>0</th>\n",
       "      <td>0.0</td>\n",
       "      <td>-1.0</td>\n",
       "      <td>-2.0</td>\n",
       "      <td>NaN</td>\n",
       "    </tr>\n",
       "    <tr>\n",
       "      <th>1</th>\n",
       "      <td>-3.0</td>\n",
       "      <td>-4.0</td>\n",
       "      <td>-5.0</td>\n",
       "      <td>NaN</td>\n",
       "    </tr>\n",
       "    <tr>\n",
       "      <th>2</th>\n",
       "      <td>-6.0</td>\n",
       "      <td>-7.0</td>\n",
       "      <td>-8.0</td>\n",
       "      <td>NaN</td>\n",
       "    </tr>\n",
       "  </tbody>\n",
       "</table>\n",
       "</div>"
      ],
      "text/plain": [
       "        a     b     c     d\n",
       "001   0.0   1.0   2.0   3.0\n",
       "003   4.0   5.0   6.0   7.0\n",
       "005   8.0   9.0  10.0  11.0\n",
       "007  12.0  13.0  14.0  15.0\n",
       "0     0.0  -1.0  -2.0   NaN\n",
       "1    -3.0  -4.0  -5.0   NaN\n",
       "2    -6.0  -7.0  -8.0   NaN"
      ]
     },
     "execution_count": 102,
     "metadata": {},
     "output_type": "execute_result"
    }
   ],
   "source": [
    "df1.sub(df2, fill_value=0)"
   ]
  },
  {
   "cell_type": "code",
   "execution_count": 103,
   "id": "4d34efc7",
   "metadata": {},
   "outputs": [
    {
     "data": {
      "text/html": [
       "<div>\n",
       "<style scoped>\n",
       "    .dataframe tbody tr th:only-of-type {\n",
       "        vertical-align: middle;\n",
       "    }\n",
       "\n",
       "    .dataframe tbody tr th {\n",
       "        vertical-align: top;\n",
       "    }\n",
       "\n",
       "    .dataframe thead th {\n",
       "        text-align: right;\n",
       "    }\n",
       "</style>\n",
       "<table border=\"1\" class=\"dataframe\">\n",
       "  <thead>\n",
       "    <tr style=\"text-align: right;\">\n",
       "      <th></th>\n",
       "      <th>a</th>\n",
       "      <th>b</th>\n",
       "      <th>c</th>\n",
       "      <th>d</th>\n",
       "    </tr>\n",
       "  </thead>\n",
       "  <tbody>\n",
       "    <tr>\n",
       "      <th>001</th>\n",
       "      <td>0.0</td>\n",
       "      <td>0.0</td>\n",
       "      <td>0.0</td>\n",
       "      <td>0.0</td>\n",
       "    </tr>\n",
       "    <tr>\n",
       "      <th>003</th>\n",
       "      <td>0.0</td>\n",
       "      <td>0.0</td>\n",
       "      <td>0.0</td>\n",
       "      <td>0.0</td>\n",
       "    </tr>\n",
       "    <tr>\n",
       "      <th>005</th>\n",
       "      <td>0.0</td>\n",
       "      <td>0.0</td>\n",
       "      <td>0.0</td>\n",
       "      <td>0.0</td>\n",
       "    </tr>\n",
       "    <tr>\n",
       "      <th>007</th>\n",
       "      <td>0.0</td>\n",
       "      <td>0.0</td>\n",
       "      <td>0.0</td>\n",
       "      <td>0.0</td>\n",
       "    </tr>\n",
       "    <tr>\n",
       "      <th>0</th>\n",
       "      <td>0.0</td>\n",
       "      <td>0.0</td>\n",
       "      <td>0.0</td>\n",
       "      <td>NaN</td>\n",
       "    </tr>\n",
       "    <tr>\n",
       "      <th>1</th>\n",
       "      <td>0.0</td>\n",
       "      <td>0.0</td>\n",
       "      <td>0.0</td>\n",
       "      <td>NaN</td>\n",
       "    </tr>\n",
       "    <tr>\n",
       "      <th>2</th>\n",
       "      <td>0.0</td>\n",
       "      <td>0.0</td>\n",
       "      <td>0.0</td>\n",
       "      <td>NaN</td>\n",
       "    </tr>\n",
       "  </tbody>\n",
       "</table>\n",
       "</div>"
      ],
      "text/plain": [
       "       a    b    c    d\n",
       "001  0.0  0.0  0.0  0.0\n",
       "003  0.0  0.0  0.0  0.0\n",
       "005  0.0  0.0  0.0  0.0\n",
       "007  0.0  0.0  0.0  0.0\n",
       "0    0.0  0.0  0.0  NaN\n",
       "1    0.0  0.0  0.0  NaN\n",
       "2    0.0  0.0  0.0  NaN"
      ]
     },
     "execution_count": 103,
     "metadata": {},
     "output_type": "execute_result"
    }
   ],
   "source": [
    "df1.mul(df2, fill_value=0)"
   ]
  },
  {
   "cell_type": "code",
   "execution_count": 104,
   "id": "183d2028",
   "metadata": {},
   "outputs": [
    {
     "data": {
      "text/html": [
       "<div>\n",
       "<style scoped>\n",
       "    .dataframe tbody tr th:only-of-type {\n",
       "        vertical-align: middle;\n",
       "    }\n",
       "\n",
       "    .dataframe tbody tr th {\n",
       "        vertical-align: top;\n",
       "    }\n",
       "\n",
       "    .dataframe thead th {\n",
       "        text-align: right;\n",
       "    }\n",
       "</style>\n",
       "<table border=\"1\" class=\"dataframe\">\n",
       "  <thead>\n",
       "    <tr style=\"text-align: right;\">\n",
       "      <th></th>\n",
       "      <th>a</th>\n",
       "      <th>b</th>\n",
       "      <th>c</th>\n",
       "      <th>d</th>\n",
       "    </tr>\n",
       "  </thead>\n",
       "  <tbody>\n",
       "    <tr>\n",
       "      <th>001</th>\n",
       "      <td>NaN</td>\n",
       "      <td>inf</td>\n",
       "      <td>inf</td>\n",
       "      <td>inf</td>\n",
       "    </tr>\n",
       "    <tr>\n",
       "      <th>003</th>\n",
       "      <td>inf</td>\n",
       "      <td>inf</td>\n",
       "      <td>inf</td>\n",
       "      <td>inf</td>\n",
       "    </tr>\n",
       "    <tr>\n",
       "      <th>005</th>\n",
       "      <td>inf</td>\n",
       "      <td>inf</td>\n",
       "      <td>inf</td>\n",
       "      <td>inf</td>\n",
       "    </tr>\n",
       "    <tr>\n",
       "      <th>007</th>\n",
       "      <td>inf</td>\n",
       "      <td>inf</td>\n",
       "      <td>inf</td>\n",
       "      <td>inf</td>\n",
       "    </tr>\n",
       "    <tr>\n",
       "      <th>0</th>\n",
       "      <td>NaN</td>\n",
       "      <td>0.0</td>\n",
       "      <td>0.0</td>\n",
       "      <td>NaN</td>\n",
       "    </tr>\n",
       "    <tr>\n",
       "      <th>1</th>\n",
       "      <td>0.0</td>\n",
       "      <td>0.0</td>\n",
       "      <td>0.0</td>\n",
       "      <td>NaN</td>\n",
       "    </tr>\n",
       "    <tr>\n",
       "      <th>2</th>\n",
       "      <td>0.0</td>\n",
       "      <td>0.0</td>\n",
       "      <td>0.0</td>\n",
       "      <td>NaN</td>\n",
       "    </tr>\n",
       "  </tbody>\n",
       "</table>\n",
       "</div>"
      ],
      "text/plain": [
       "       a    b    c    d\n",
       "001  NaN  inf  inf  inf\n",
       "003  inf  inf  inf  inf\n",
       "005  inf  inf  inf  inf\n",
       "007  inf  inf  inf  inf\n",
       "0    NaN  0.0  0.0  NaN\n",
       "1    0.0  0.0  0.0  NaN\n",
       "2    0.0  0.0  0.0  NaN"
      ]
     },
     "execution_count": 104,
     "metadata": {},
     "output_type": "execute_result"
    }
   ],
   "source": [
    "df1.div(df2, fill_value=0)  # 这里出现NaN是因为零除零，jupyter也不知道是什么"
   ]
  },
  {
   "cell_type": "markdown",
   "id": "5da327d9",
   "metadata": {},
   "source": [
    "**Series与DataFrame的运算**"
   ]
  },
  {
   "cell_type": "code",
   "execution_count": 105,
   "id": "e0aa3ffe",
   "metadata": {},
   "outputs": [
    {
     "data": {
      "text/plain": [
       "a    0.1\n",
       "b    0.2\n",
       "c    0.3\n",
       "d    0.4\n",
       "e    0.5\n",
       "dtype: float64"
      ]
     },
     "execution_count": 105,
     "metadata": {},
     "output_type": "execute_result"
    }
   ],
   "source": [
    "s1 = pd.Series([0.1, 0.2, 0.3, 0.4, 0.5], index=[\"a\", \"b\", \"c\", \"d\", \"e\"])\n",
    "s1"
   ]
  },
  {
   "cell_type": "code",
   "execution_count": 106,
   "id": "4fc961c1",
   "metadata": {},
   "outputs": [
    {
     "data": {
      "text/html": [
       "<div>\n",
       "<style scoped>\n",
       "    .dataframe tbody tr th:only-of-type {\n",
       "        vertical-align: middle;\n",
       "    }\n",
       "\n",
       "    .dataframe tbody tr th {\n",
       "        vertical-align: top;\n",
       "    }\n",
       "\n",
       "    .dataframe thead th {\n",
       "        text-align: right;\n",
       "    }\n",
       "</style>\n",
       "<table border=\"1\" class=\"dataframe\">\n",
       "  <thead>\n",
       "    <tr style=\"text-align: right;\">\n",
       "      <th></th>\n",
       "      <th>a</th>\n",
       "      <th>b</th>\n",
       "      <th>c</th>\n",
       "      <th>d</th>\n",
       "      <th>e</th>\n",
       "    </tr>\n",
       "  </thead>\n",
       "  <tbody>\n",
       "    <tr>\n",
       "      <th>001</th>\n",
       "      <td>0.0</td>\n",
       "      <td>0.2</td>\n",
       "      <td>0.6</td>\n",
       "      <td>1.2</td>\n",
       "      <td>NaN</td>\n",
       "    </tr>\n",
       "    <tr>\n",
       "      <th>003</th>\n",
       "      <td>0.4</td>\n",
       "      <td>1.0</td>\n",
       "      <td>1.8</td>\n",
       "      <td>2.8</td>\n",
       "      <td>NaN</td>\n",
       "    </tr>\n",
       "    <tr>\n",
       "      <th>005</th>\n",
       "      <td>0.8</td>\n",
       "      <td>1.8</td>\n",
       "      <td>3.0</td>\n",
       "      <td>4.4</td>\n",
       "      <td>NaN</td>\n",
       "    </tr>\n",
       "    <tr>\n",
       "      <th>007</th>\n",
       "      <td>1.2</td>\n",
       "      <td>2.6</td>\n",
       "      <td>4.2</td>\n",
       "      <td>6.0</td>\n",
       "      <td>NaN</td>\n",
       "    </tr>\n",
       "  </tbody>\n",
       "</table>\n",
       "</div>"
      ],
      "text/plain": [
       "       a    b    c    d   e\n",
       "001  0.0  0.2  0.6  1.2 NaN\n",
       "003  0.4  1.0  1.8  2.8 NaN\n",
       "005  0.8  1.8  3.0  4.4 NaN\n",
       "007  1.2  2.6  4.2  6.0 NaN"
      ]
     },
     "execution_count": 106,
     "metadata": {},
     "output_type": "execute_result"
    }
   ],
   "source": [
    "s1 * df1 "
   ]
  },
  {
   "cell_type": "code",
   "execution_count": 107,
   "id": "42775fc4",
   "metadata": {},
   "outputs": [
    {
     "data": {
      "text/html": [
       "<div>\n",
       "<style scoped>\n",
       "    .dataframe tbody tr th:only-of-type {\n",
       "        vertical-align: middle;\n",
       "    }\n",
       "\n",
       "    .dataframe tbody tr th {\n",
       "        vertical-align: top;\n",
       "    }\n",
       "\n",
       "    .dataframe thead th {\n",
       "        text-align: right;\n",
       "    }\n",
       "</style>\n",
       "<table border=\"1\" class=\"dataframe\">\n",
       "  <thead>\n",
       "    <tr style=\"text-align: right;\">\n",
       "      <th></th>\n",
       "      <th>姓名</th>\n",
       "      <th>性别</th>\n",
       "      <th>身高</th>\n",
       "      <th>成绩</th>\n",
       "    </tr>\n",
       "  </thead>\n",
       "  <tbody>\n",
       "    <tr>\n",
       "      <th>001</th>\n",
       "      <td>小陈</td>\n",
       "      <td>男</td>\n",
       "      <td>172.5</td>\n",
       "      <td>89</td>\n",
       "    </tr>\n",
       "    <tr>\n",
       "      <th>002</th>\n",
       "      <td>小李</td>\n",
       "      <td>女</td>\n",
       "      <td>168.0</td>\n",
       "      <td>92</td>\n",
       "    </tr>\n",
       "    <tr>\n",
       "      <th>003</th>\n",
       "      <td>小王</td>\n",
       "      <td>男</td>\n",
       "      <td>178.2</td>\n",
       "      <td>82</td>\n",
       "    </tr>\n",
       "    <tr>\n",
       "      <th>004</th>\n",
       "      <td>小张</td>\n",
       "      <td>男</td>\n",
       "      <td>181.3</td>\n",
       "      <td>96</td>\n",
       "    </tr>\n",
       "    <tr>\n",
       "      <th>005</th>\n",
       "      <td>小赵</td>\n",
       "      <td>女</td>\n",
       "      <td>161.7</td>\n",
       "      <td>93</td>\n",
       "    </tr>\n",
       "    <tr>\n",
       "      <th>006</th>\n",
       "      <td>小周</td>\n",
       "      <td>女</td>\n",
       "      <td>159.8</td>\n",
       "      <td>84</td>\n",
       "    </tr>\n",
       "  </tbody>\n",
       "</table>\n",
       "</div>"
      ],
      "text/plain": [
       "     姓名 性别     身高  成绩\n",
       "001  小陈  男  172.5  89\n",
       "002  小李  女  168.0  92\n",
       "003  小王  男  178.2  82\n",
       "004  小张  男  181.3  96\n",
       "005  小赵  女  161.7  93\n",
       "006  小周  女  159.8  84"
      ]
     },
     "execution_count": 107,
     "metadata": {},
     "output_type": "execute_result"
    }
   ],
   "source": [
    "name = pd.Series([\"小陈\", \"小李\", \"小王\", \"小张\", \"小赵\", \"小周\"], index=[\"001\", \"002\", \"003\", \"004\", \"005\", \"006\"])\n",
    "gender = pd.Series([\"女\", \"女\", \"男\", \"男\", \"女\", \"男\"], index=[\"006\", \"005\", \"004\", \"003\", \"002\", \"001\"])\n",
    "height = pd.Series([172.5, 168.0, 178.2, 181.3, 161.7, 159.8], index=[\"001\", \"002\", \"003\", \"004\", \"005\", \"006\"])\n",
    "grade = pd.Series([89, 92, 82, 96, 93, 84], index=[\"001\", \"002\", \"003\", \"004\", \"005\", \"006\"])\n",
    "df2 = pd.DataFrame({\"姓名\": name, \"性别\": gender, \"身高\": height, \"成绩\": grade})\n",
    "df2"
   ]
  },
  {
   "cell_type": "code",
   "execution_count": 108,
   "id": "fe1c2169",
   "metadata": {},
   "outputs": [
    {
     "data": {
      "text/html": [
       "<div>\n",
       "<style scoped>\n",
       "    .dataframe tbody tr th:only-of-type {\n",
       "        vertical-align: middle;\n",
       "    }\n",
       "\n",
       "    .dataframe tbody tr th {\n",
       "        vertical-align: top;\n",
       "    }\n",
       "\n",
       "    .dataframe thead th {\n",
       "        text-align: right;\n",
       "    }\n",
       "</style>\n",
       "<table border=\"1\" class=\"dataframe\">\n",
       "  <thead>\n",
       "    <tr style=\"text-align: right;\">\n",
       "      <th></th>\n",
       "      <th>姓名</th>\n",
       "      <th>性别</th>\n",
       "      <th>身高</th>\n",
       "      <th>成绩</th>\n",
       "    </tr>\n",
       "  </thead>\n",
       "  <tbody>\n",
       "    <tr>\n",
       "      <th>001</th>\n",
       "      <td>小陈小陈小陈小陈小陈</td>\n",
       "      <td>男男男男男</td>\n",
       "      <td>862.5</td>\n",
       "      <td>445</td>\n",
       "    </tr>\n",
       "    <tr>\n",
       "      <th>002</th>\n",
       "      <td>小李小李小李小李小李</td>\n",
       "      <td>女女女女女</td>\n",
       "      <td>840.0</td>\n",
       "      <td>460</td>\n",
       "    </tr>\n",
       "    <tr>\n",
       "      <th>003</th>\n",
       "      <td>小王小王小王小王小王</td>\n",
       "      <td>男男男男男</td>\n",
       "      <td>891.0</td>\n",
       "      <td>410</td>\n",
       "    </tr>\n",
       "    <tr>\n",
       "      <th>004</th>\n",
       "      <td>小张小张小张小张小张</td>\n",
       "      <td>男男男男男</td>\n",
       "      <td>906.5</td>\n",
       "      <td>480</td>\n",
       "    </tr>\n",
       "    <tr>\n",
       "      <th>005</th>\n",
       "      <td>小赵小赵小赵小赵小赵</td>\n",
       "      <td>女女女女女</td>\n",
       "      <td>808.5</td>\n",
       "      <td>465</td>\n",
       "    </tr>\n",
       "    <tr>\n",
       "      <th>006</th>\n",
       "      <td>小周小周小周小周小周</td>\n",
       "      <td>女女女女女</td>\n",
       "      <td>799.0</td>\n",
       "      <td>420</td>\n",
       "    </tr>\n",
       "  </tbody>\n",
       "</table>\n",
       "</div>"
      ],
      "text/plain": [
       "             姓名     性别     身高   成绩\n",
       "001  小陈小陈小陈小陈小陈  男男男男男  862.5  445\n",
       "002  小李小李小李小李小李  女女女女女  840.0  460\n",
       "003  小王小王小王小王小王  男男男男男  891.0  410\n",
       "004  小张小张小张小张小张  男男男男男  906.5  480\n",
       "005  小赵小赵小赵小赵小赵  女女女女女  808.5  465\n",
       "006  小周小周小周小周小周  女女女女女  799.0  420"
      ]
     },
     "execution_count": 108,
     "metadata": {},
     "output_type": "execute_result"
    }
   ],
   "source": [
    "df2 * 5  # 字符串乘以一个数字会出现字符串连着重复"
   ]
  },
  {
   "cell_type": "code",
   "execution_count": 109,
   "id": "96a227d0",
   "metadata": {},
   "outputs": [
    {
     "data": {
      "text/html": [
       "<div>\n",
       "<style scoped>\n",
       "    .dataframe tbody tr th:only-of-type {\n",
       "        vertical-align: middle;\n",
       "    }\n",
       "\n",
       "    .dataframe tbody tr th {\n",
       "        vertical-align: top;\n",
       "    }\n",
       "\n",
       "    .dataframe thead th {\n",
       "        text-align: right;\n",
       "    }\n",
       "</style>\n",
       "<table border=\"1\" class=\"dataframe\">\n",
       "  <thead>\n",
       "    <tr style=\"text-align: right;\">\n",
       "      <th></th>\n",
       "      <th>身高</th>\n",
       "      <th>成绩</th>\n",
       "    </tr>\n",
       "  </thead>\n",
       "  <tbody>\n",
       "    <tr>\n",
       "      <th>001</th>\n",
       "      <td>862.5</td>\n",
       "      <td>445</td>\n",
       "    </tr>\n",
       "    <tr>\n",
       "      <th>002</th>\n",
       "      <td>840.0</td>\n",
       "      <td>460</td>\n",
       "    </tr>\n",
       "    <tr>\n",
       "      <th>003</th>\n",
       "      <td>891.0</td>\n",
       "      <td>410</td>\n",
       "    </tr>\n",
       "    <tr>\n",
       "      <th>004</th>\n",
       "      <td>906.5</td>\n",
       "      <td>480</td>\n",
       "    </tr>\n",
       "    <tr>\n",
       "      <th>005</th>\n",
       "      <td>808.5</td>\n",
       "      <td>465</td>\n",
       "    </tr>\n",
       "    <tr>\n",
       "      <th>006</th>\n",
       "      <td>799.0</td>\n",
       "      <td>420</td>\n",
       "    </tr>\n",
       "  </tbody>\n",
       "</table>\n",
       "</div>"
      ],
      "text/plain": [
       "        身高   成绩\n",
       "001  862.5  445\n",
       "002  840.0  460\n",
       "003  891.0  410\n",
       "004  906.5  480\n",
       "005  808.5  465\n",
       "006  799.0  420"
      ]
     },
     "execution_count": 109,
     "metadata": {},
     "output_type": "execute_result"
    }
   ],
   "source": [
    "df2[[\"身高\",\"成绩\"]] * 5  # 那怎么才能在原来的上面操作，只让原来的DataFrame中的数字乘以5"
   ]
  },
  {
   "cell_type": "markdown",
   "id": "50fc8160",
   "metadata": {},
   "source": [
    "## 3.4 DataFrame函数操作"
   ]
  },
  {
   "cell_type": "code",
   "execution_count": 110,
   "id": "e5553420",
   "metadata": {},
   "outputs": [
    {
     "data": {
      "text/html": [
       "<div>\n",
       "<style scoped>\n",
       "    .dataframe tbody tr th:only-of-type {\n",
       "        vertical-align: middle;\n",
       "    }\n",
       "\n",
       "    .dataframe tbody tr th {\n",
       "        vertical-align: top;\n",
       "    }\n",
       "\n",
       "    .dataframe thead th {\n",
       "        text-align: right;\n",
       "    }\n",
       "</style>\n",
       "<table border=\"1\" class=\"dataframe\">\n",
       "  <thead>\n",
       "    <tr style=\"text-align: right;\">\n",
       "      <th></th>\n",
       "      <th>姓名</th>\n",
       "      <th>考试1</th>\n",
       "      <th>考试2</th>\n",
       "      <th>考试3</th>\n",
       "    </tr>\n",
       "  </thead>\n",
       "  <tbody>\n",
       "    <tr>\n",
       "      <th>001</th>\n",
       "      <td>小陈</td>\n",
       "      <td>85</td>\n",
       "      <td>95</td>\n",
       "      <td>92</td>\n",
       "    </tr>\n",
       "    <tr>\n",
       "      <th>002</th>\n",
       "      <td>小李</td>\n",
       "      <td>91</td>\n",
       "      <td>92</td>\n",
       "      <td>94</td>\n",
       "    </tr>\n",
       "    <tr>\n",
       "      <th>003</th>\n",
       "      <td>小王</td>\n",
       "      <td>86</td>\n",
       "      <td>81</td>\n",
       "      <td>89</td>\n",
       "    </tr>\n",
       "    <tr>\n",
       "      <th>004</th>\n",
       "      <td>小张</td>\n",
       "      <td>79</td>\n",
       "      <td>89</td>\n",
       "      <td>95</td>\n",
       "    </tr>\n",
       "  </tbody>\n",
       "</table>\n",
       "</div>"
      ],
      "text/plain": [
       "     姓名  考试1  考试2  考试3\n",
       "001  小陈   85   95   92\n",
       "002  小李   91   92   94\n",
       "003  小王   86   81   89\n",
       "004  小张   79   89   95"
      ]
     },
     "execution_count": 110,
     "metadata": {},
     "output_type": "execute_result"
    }
   ],
   "source": [
    "students = pd.DataFrame({\"姓名\": {\"001\": \"小陈\", \"002\": \"小李\", \"003\": \"小王\", \"004\": \"小张\"},\n",
    " \"考试1\": {\"001\": 85, \"002\": 91, \"003\": 86, \"004\": 79},\n",
    " \"考试2\": {\"001\": 95, \"002\": 92, \"003\": 81, \"004\": 89},\n",
    " \"考试3\": {\"001\": 92, \"002\": 94, \"003\": 89, \"004\": 95}\n",
    " })\n",
    "students"
   ]
  },
  {
   "cell_type": "code",
   "execution_count": 111,
   "id": "63ae243f",
   "metadata": {},
   "outputs": [
    {
     "data": {
      "text/html": [
       "<div>\n",
       "<style scoped>\n",
       "    .dataframe tbody tr th:only-of-type {\n",
       "        vertical-align: middle;\n",
       "    }\n",
       "\n",
       "    .dataframe tbody tr th {\n",
       "        vertical-align: top;\n",
       "    }\n",
       "\n",
       "    .dataframe thead th {\n",
       "        text-align: right;\n",
       "    }\n",
       "</style>\n",
       "<table border=\"1\" class=\"dataframe\">\n",
       "  <thead>\n",
       "    <tr style=\"text-align: right;\">\n",
       "      <th></th>\n",
       "      <th>考试1</th>\n",
       "      <th>考试2</th>\n",
       "      <th>考试3</th>\n",
       "    </tr>\n",
       "  </thead>\n",
       "  <tbody>\n",
       "    <tr>\n",
       "      <th>001</th>\n",
       "      <td>85</td>\n",
       "      <td>95</td>\n",
       "      <td>92</td>\n",
       "    </tr>\n",
       "    <tr>\n",
       "      <th>002</th>\n",
       "      <td>91</td>\n",
       "      <td>92</td>\n",
       "      <td>94</td>\n",
       "    </tr>\n",
       "    <tr>\n",
       "      <th>003</th>\n",
       "      <td>86</td>\n",
       "      <td>81</td>\n",
       "      <td>89</td>\n",
       "    </tr>\n",
       "    <tr>\n",
       "      <th>004</th>\n",
       "      <td>79</td>\n",
       "      <td>89</td>\n",
       "      <td>95</td>\n",
       "    </tr>\n",
       "  </tbody>\n",
       "</table>\n",
       "</div>"
      ],
      "text/plain": [
       "     考试1  考试2  考试3\n",
       "001   85   95   92\n",
       "002   91   92   94\n",
       "003   86   81   89\n",
       "004   79   89   95"
      ]
     },
     "execution_count": 111,
     "metadata": {},
     "output_type": "execute_result"
    }
   ],
   "source": [
    "students_2 = students.drop(\"姓名\", axis=1)\n",
    "students_2"
   ]
  },
  {
   "cell_type": "code",
   "execution_count": 112,
   "id": "08c16ab2",
   "metadata": {},
   "outputs": [
    {
     "data": {
      "text/plain": [
       "考试1    85.25\n",
       "考试2    89.25\n",
       "考试3    92.50\n",
       "dtype: float64"
      ]
     },
     "execution_count": 112,
     "metadata": {},
     "output_type": "execute_result"
    }
   ],
   "source": [
    "students_2.mean()"
   ]
  },
  {
   "cell_type": "code",
   "execution_count": 113,
   "id": "e74e0a16",
   "metadata": {},
   "outputs": [
    {
     "data": {
      "text/plain": [
       "001    90.666667\n",
       "002    92.333333\n",
       "003    85.333333\n",
       "004    87.666667\n",
       "dtype: float64"
      ]
     },
     "execution_count": 113,
     "metadata": {},
     "output_type": "execute_result"
    }
   ],
   "source": [
    "students_2.mean(axis=1)"
   ]
  },
  {
   "cell_type": "code",
   "execution_count": 114,
   "id": "3c351aa0",
   "metadata": {},
   "outputs": [
    {
     "data": {
      "text/plain": [
       "考试1    85.5\n",
       "考试2    90.5\n",
       "考试3    93.0\n",
       "dtype: float64"
      ]
     },
     "execution_count": 114,
     "metadata": {},
     "output_type": "execute_result"
    }
   ],
   "source": [
    "def trim_mean(data):\n",
    "    data_sum = data.sum()\n",
    "    data_max = data.max()\n",
    "    data_min = data.min()\n",
    "    data_len = len(data)\n",
    "    return (data_sum - data_min - data_max)/(data_len - 2)\n",
    "\n",
    "students_2.apply(trim_mean)  # 默认对列进行操作，apply是运用到行或者列上面"
   ]
  },
  {
   "cell_type": "code",
   "execution_count": 115,
   "id": "2618d160",
   "metadata": {},
   "outputs": [
    {
     "data": {
      "text/plain": [
       "001    92.0\n",
       "002    92.0\n",
       "003    86.0\n",
       "004    89.0\n",
       "dtype: float64"
      ]
     },
     "execution_count": 115,
     "metadata": {},
     "output_type": "execute_result"
    }
   ],
   "source": [
    "def trim_mean(data):\n",
    "    data_sum = data.sum()\n",
    "    data_max = data.max()\n",
    "    data_min = data.min()\n",
    "    data_len = len(data)\n",
    "    return (data_sum - data_min - data_max)/(data_len - 2)\n",
    "\n",
    "students_2.apply(trim_mean, axis=1) "
   ]
  },
  {
   "cell_type": "code",
   "execution_count": 116,
   "id": "c78ebf7d",
   "metadata": {},
   "outputs": [
    {
     "data": {
      "text/html": [
       "<div>\n",
       "<style scoped>\n",
       "    .dataframe tbody tr th:only-of-type {\n",
       "        vertical-align: middle;\n",
       "    }\n",
       "\n",
       "    .dataframe tbody tr th {\n",
       "        vertical-align: top;\n",
       "    }\n",
       "\n",
       "    .dataframe thead th {\n",
       "        text-align: right;\n",
       "    }\n",
       "</style>\n",
       "<table border=\"1\" class=\"dataframe\">\n",
       "  <thead>\n",
       "    <tr style=\"text-align: right;\">\n",
       "      <th></th>\n",
       "      <th>考试1</th>\n",
       "      <th>考试2</th>\n",
       "      <th>考试3</th>\n",
       "    </tr>\n",
       "  </thead>\n",
       "  <tbody>\n",
       "    <tr>\n",
       "      <th>001</th>\n",
       "      <td>95</td>\n",
       "      <td>105</td>\n",
       "      <td>102</td>\n",
       "    </tr>\n",
       "    <tr>\n",
       "      <th>002</th>\n",
       "      <td>101</td>\n",
       "      <td>102</td>\n",
       "      <td>104</td>\n",
       "    </tr>\n",
       "    <tr>\n",
       "      <th>003</th>\n",
       "      <td>96</td>\n",
       "      <td>91</td>\n",
       "      <td>99</td>\n",
       "    </tr>\n",
       "    <tr>\n",
       "      <th>004</th>\n",
       "      <td>89</td>\n",
       "      <td>99</td>\n",
       "      <td>105</td>\n",
       "    </tr>\n",
       "  </tbody>\n",
       "</table>\n",
       "</div>"
      ],
      "text/plain": [
       "     考试1  考试2  考试3\n",
       "001   95  105  102\n",
       "002  101  102  104\n",
       "003   96   91   99\n",
       "004   89   99  105"
      ]
     },
     "execution_count": 116,
     "metadata": {},
     "output_type": "execute_result"
    }
   ],
   "source": [
    "students_2.applymap(lambda num:num+10)  # applymap会把函数运用到每一个元素上面"
   ]
  },
  {
   "cell_type": "code",
   "execution_count": 117,
   "id": "8ae889c0",
   "metadata": {},
   "outputs": [
    {
     "data": {
      "text/html": [
       "<div>\n",
       "<style scoped>\n",
       "    .dataframe tbody tr th:only-of-type {\n",
       "        vertical-align: middle;\n",
       "    }\n",
       "\n",
       "    .dataframe tbody tr th {\n",
       "        vertical-align: top;\n",
       "    }\n",
       "\n",
       "    .dataframe thead th {\n",
       "        text-align: right;\n",
       "    }\n",
       "</style>\n",
       "<table border=\"1\" class=\"dataframe\">\n",
       "  <thead>\n",
       "    <tr style=\"text-align: right;\">\n",
       "      <th></th>\n",
       "      <th>考试1</th>\n",
       "      <th>考试2</th>\n",
       "      <th>考试3</th>\n",
       "    </tr>\n",
       "  </thead>\n",
       "  <tbody>\n",
       "    <tr>\n",
       "      <th>001</th>\n",
       "      <td>True</td>\n",
       "      <td>True</td>\n",
       "      <td>True</td>\n",
       "    </tr>\n",
       "    <tr>\n",
       "      <th>002</th>\n",
       "      <td>True</td>\n",
       "      <td>True</td>\n",
       "      <td>True</td>\n",
       "    </tr>\n",
       "    <tr>\n",
       "      <th>003</th>\n",
       "      <td>True</td>\n",
       "      <td>True</td>\n",
       "      <td>True</td>\n",
       "    </tr>\n",
       "    <tr>\n",
       "      <th>004</th>\n",
       "      <td>True</td>\n",
       "      <td>True</td>\n",
       "      <td>True</td>\n",
       "    </tr>\n",
       "  </tbody>\n",
       "</table>\n",
       "</div>"
      ],
      "text/plain": [
       "      考试1   考试2   考试3\n",
       "001  True  True  True\n",
       "002  True  True  True\n",
       "003  True  True  True\n",
       "004  True  True  True"
      ]
     },
     "execution_count": 117,
     "metadata": {},
     "output_type": "execute_result"
    }
   ],
   "source": [
    "students_2.applymap(lambda num:num+10) == students_2+10"
   ]
  },
  {
   "cell_type": "code",
   "execution_count": 118,
   "id": "021ba120",
   "metadata": {},
   "outputs": [
    {
     "data": {
      "text/html": [
       "<div>\n",
       "<style scoped>\n",
       "    .dataframe tbody tr th:only-of-type {\n",
       "        vertical-align: middle;\n",
       "    }\n",
       "\n",
       "    .dataframe tbody tr th {\n",
       "        vertical-align: top;\n",
       "    }\n",
       "\n",
       "    .dataframe thead th {\n",
       "        text-align: right;\n",
       "    }\n",
       "</style>\n",
       "<table border=\"1\" class=\"dataframe\">\n",
       "  <thead>\n",
       "    <tr style=\"text-align: right;\">\n",
       "      <th></th>\n",
       "      <th>考试1</th>\n",
       "      <th>考试2</th>\n",
       "      <th>考试3</th>\n",
       "    </tr>\n",
       "  </thead>\n",
       "  <tbody>\n",
       "    <tr>\n",
       "      <th>001</th>\n",
       "      <td>True</td>\n",
       "      <td>True</td>\n",
       "      <td>True</td>\n",
       "    </tr>\n",
       "    <tr>\n",
       "      <th>002</th>\n",
       "      <td>True</td>\n",
       "      <td>True</td>\n",
       "      <td>True</td>\n",
       "    </tr>\n",
       "    <tr>\n",
       "      <th>003</th>\n",
       "      <td>True</td>\n",
       "      <td>True</td>\n",
       "      <td>True</td>\n",
       "    </tr>\n",
       "    <tr>\n",
       "      <th>004</th>\n",
       "      <td>True</td>\n",
       "      <td>True</td>\n",
       "      <td>True</td>\n",
       "    </tr>\n",
       "  </tbody>\n",
       "</table>\n",
       "</div>"
      ],
      "text/plain": [
       "      考试1   考试2   考试3\n",
       "001  True  True  True\n",
       "002  True  True  True\n",
       "003  True  True  True\n",
       "004  True  True  True"
      ]
     },
     "execution_count": 118,
     "metadata": {},
     "output_type": "execute_result"
    }
   ],
   "source": [
    "students_2 ** 2 == students_2.applymap(lambda num: num ** 2)"
   ]
  },
  {
   "cell_type": "code",
   "execution_count": 119,
   "id": "62d2a425",
   "metadata": {},
   "outputs": [
    {
     "data": {
      "text/html": [
       "<div>\n",
       "<style scoped>\n",
       "    .dataframe tbody tr th:only-of-type {\n",
       "        vertical-align: middle;\n",
       "    }\n",
       "\n",
       "    .dataframe tbody tr th {\n",
       "        vertical-align: top;\n",
       "    }\n",
       "\n",
       "    .dataframe thead th {\n",
       "        text-align: right;\n",
       "    }\n",
       "</style>\n",
       "<table border=\"1\" class=\"dataframe\">\n",
       "  <thead>\n",
       "    <tr style=\"text-align: right;\">\n",
       "      <th></th>\n",
       "      <th>姓名</th>\n",
       "      <th>考试1</th>\n",
       "      <th>考试2</th>\n",
       "      <th>考试3</th>\n",
       "    </tr>\n",
       "  </thead>\n",
       "  <tbody>\n",
       "    <tr>\n",
       "      <th>001</th>\n",
       "      <td>小陈</td>\n",
       "      <td>85</td>\n",
       "      <td>95</td>\n",
       "      <td>92</td>\n",
       "    </tr>\n",
       "    <tr>\n",
       "      <th>002</th>\n",
       "      <td>小李</td>\n",
       "      <td>91</td>\n",
       "      <td>92</td>\n",
       "      <td>94</td>\n",
       "    </tr>\n",
       "    <tr>\n",
       "      <th>003</th>\n",
       "      <td>小王</td>\n",
       "      <td>86</td>\n",
       "      <td>81</td>\n",
       "      <td>89</td>\n",
       "    </tr>\n",
       "    <tr>\n",
       "      <th>004</th>\n",
       "      <td>小张</td>\n",
       "      <td>79</td>\n",
       "      <td>89</td>\n",
       "      <td>95</td>\n",
       "    </tr>\n",
       "  </tbody>\n",
       "</table>\n",
       "</div>"
      ],
      "text/plain": [
       "     姓名  考试1  考试2  考试3\n",
       "001  小陈   85   95   92\n",
       "002  小李   91   92   94\n",
       "003  小王   86   81   89\n",
       "004  小张   79   89   95"
      ]
     },
     "execution_count": 119,
     "metadata": {},
     "output_type": "execute_result"
    }
   ],
   "source": [
    "students"
   ]
  },
  {
   "cell_type": "code",
   "execution_count": 120,
   "id": "d59f51cc",
   "metadata": {},
   "outputs": [
    {
     "data": {
      "text/html": [
       "<div>\n",
       "<style scoped>\n",
       "    .dataframe tbody tr th:only-of-type {\n",
       "        vertical-align: middle;\n",
       "    }\n",
       "\n",
       "    .dataframe tbody tr th {\n",
       "        vertical-align: top;\n",
       "    }\n",
       "\n",
       "    .dataframe thead th {\n",
       "        text-align: right;\n",
       "    }\n",
       "</style>\n",
       "<table border=\"1\" class=\"dataframe\">\n",
       "  <thead>\n",
       "    <tr style=\"text-align: right;\">\n",
       "      <th></th>\n",
       "      <th>考试1</th>\n",
       "      <th>考试2</th>\n",
       "      <th>考试3</th>\n",
       "    </tr>\n",
       "  </thead>\n",
       "  <tbody>\n",
       "    <tr>\n",
       "      <th>count</th>\n",
       "      <td>4.000000</td>\n",
       "      <td>4.000000</td>\n",
       "      <td>4.000000</td>\n",
       "    </tr>\n",
       "    <tr>\n",
       "      <th>mean</th>\n",
       "      <td>85.250000</td>\n",
       "      <td>89.250000</td>\n",
       "      <td>92.500000</td>\n",
       "    </tr>\n",
       "    <tr>\n",
       "      <th>std</th>\n",
       "      <td>4.924429</td>\n",
       "      <td>6.020797</td>\n",
       "      <td>2.645751</td>\n",
       "    </tr>\n",
       "    <tr>\n",
       "      <th>min</th>\n",
       "      <td>79.000000</td>\n",
       "      <td>81.000000</td>\n",
       "      <td>89.000000</td>\n",
       "    </tr>\n",
       "    <tr>\n",
       "      <th>25%</th>\n",
       "      <td>83.500000</td>\n",
       "      <td>87.000000</td>\n",
       "      <td>91.250000</td>\n",
       "    </tr>\n",
       "    <tr>\n",
       "      <th>50%</th>\n",
       "      <td>85.500000</td>\n",
       "      <td>90.500000</td>\n",
       "      <td>93.000000</td>\n",
       "    </tr>\n",
       "    <tr>\n",
       "      <th>75%</th>\n",
       "      <td>87.250000</td>\n",
       "      <td>92.750000</td>\n",
       "      <td>94.250000</td>\n",
       "    </tr>\n",
       "    <tr>\n",
       "      <th>max</th>\n",
       "      <td>91.000000</td>\n",
       "      <td>95.000000</td>\n",
       "      <td>95.000000</td>\n",
       "    </tr>\n",
       "  </tbody>\n",
       "</table>\n",
       "</div>"
      ],
      "text/plain": [
       "             考试1        考试2        考试3\n",
       "count   4.000000   4.000000   4.000000\n",
       "mean   85.250000  89.250000  92.500000\n",
       "std     4.924429   6.020797   2.645751\n",
       "min    79.000000  81.000000  89.000000\n",
       "25%    83.500000  87.000000  91.250000\n",
       "50%    85.500000  90.500000  93.000000\n",
       "75%    87.250000  92.750000  94.250000\n",
       "max    91.000000  95.000000  95.000000"
      ]
     },
     "execution_count": 120,
     "metadata": {},
     "output_type": "execute_result"
    }
   ],
   "source": [
    "students.describe()  # DataFrame.describe()会自动忽略掉非数字"
   ]
  },
  {
   "cell_type": "code",
   "execution_count": 121,
   "id": "a306f481",
   "metadata": {},
   "outputs": [
    {
     "ename": "TypeError",
     "evalue": "describe() got an unexpected keyword argument 'axis'",
     "output_type": "error",
     "traceback": [
      "\u001b[0;31m---------------------------------------------------------------------------\u001b[0m",
      "\u001b[0;31mTypeError\u001b[0m                                 Traceback (most recent call last)",
      "\u001b[0;32m/var/folders/4c/0q2w7hgn3rn1kfmhshws6pjm0000gn/T/ipykernel_43713/1616672277.py\u001b[0m in \u001b[0;36m<module>\u001b[0;34m\u001b[0m\n\u001b[0;32m----> 1\u001b[0;31m \u001b[0mstudents_2\u001b[0m\u001b[0;34m.\u001b[0m\u001b[0mdescribe\u001b[0m\u001b[0;34m(\u001b[0m\u001b[0maxis\u001b[0m\u001b[0;34m=\u001b[0m\u001b[0;36m1\u001b[0m\u001b[0;34m)\u001b[0m\u001b[0;34m\u001b[0m\u001b[0;34m\u001b[0m\u001b[0m\n\u001b[0m",
      "\u001b[0;31mTypeError\u001b[0m: describe() got an unexpected keyword argument 'axis'"
     ]
    }
   ],
   "source": [
    "students_2.describe(axis=1)"
   ]
  },
  {
   "cell_type": "code",
   "execution_count": null,
   "id": "5ff5e124",
   "metadata": {},
   "outputs": [],
   "source": [
    "students_2.T.describe()"
   ]
  },
  {
   "cell_type": "code",
   "execution_count": null,
   "id": "9287da29",
   "metadata": {},
   "outputs": [],
   "source": []
  },
  {
   "cell_type": "code",
   "execution_count": null,
   "id": "d98dc54d",
   "metadata": {},
   "outputs": [],
   "source": []
  },
  {
   "cell_type": "code",
   "execution_count": null,
   "id": "dda8dfbf",
   "metadata": {},
   "outputs": [],
   "source": []
  }
 ],
 "metadata": {
  "kernelspec": {
   "display_name": "Python 3 (ipykernel)",
   "language": "python",
   "name": "python3"
  },
  "language_info": {
   "codemirror_mode": {
    "name": "ipython",
    "version": 3
   },
   "file_extension": ".py",
   "mimetype": "text/x-python",
   "name": "python",
   "nbconvert_exporter": "python",
   "pygments_lexer": "ipython3",
   "version": "3.9.7"
  }
 },
 "nbformat": 4,
 "nbformat_minor": 5
}
